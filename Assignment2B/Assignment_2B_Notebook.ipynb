{
 "cells": [
  {
   "cell_type": "markdown",
   "metadata": {},
   "source": [
    "# Programming Assignment 2B\n",
    "By John Lindblad and Olle Lindgren"
   ]
  },
  {
   "cell_type": "markdown",
   "metadata": {},
   "source": [
    "## Exercise question"
   ]
  },
  {
   "cell_type": "code",
   "execution_count": 3,
   "metadata": {},
   "outputs": [
    {
     "name": "stdout",
     "output_type": "stream",
     "text": [
      "1.0\n",
      "0.5\n"
     ]
    }
   ],
   "source": [
    "from sklearn.feature_extraction import DictVectorizer\n",
    "from sklearn.linear_model import Perceptron\n",
    "from sklearn.svm import LinearSVC\n",
    "from sklearn.metrics import accuracy_score\n",
    "from sklearn.pipeline import make_pipeline\n",
    "\n",
    "X1 = [{'city':'Gothenburg', 'month':'July'},\n",
    "      {'city':'Gothenburg', 'month':'December'},\n",
    "      {'city':'Paris', 'month':'July'},\n",
    "      {'city':'Paris', 'month':'December'}]\n",
    "Y1 = ['rain', 'rain', 'sun', 'rain']\n",
    "\n",
    "X2 = [{'city':'Sydney', 'month':'July'},\n",
    "      {'city':'Sydney', 'month':'December'},\n",
    "      {'city':'Paris', 'month':'July'},\n",
    "      {'city':'Paris', 'month':'December'}]\n",
    "Y2 = ['rain', 'sun', 'sun', 'rain']\n",
    "\n",
    "classifier1 = make_pipeline(DictVectorizer(), Perceptron(max_iter=10))\n",
    "classifier1.fit(X1, Y1)\n",
    "guesses1 = classifier1.predict(X1)\n",
    "print(accuracy_score(Y1, guesses1))\n",
    "\n",
    "classifier2 = make_pipeline(DictVectorizer(), Perceptron(max_iter=10))\n",
    "#classifier2 = make_pipeline(DictVectorizer(), LinearSVC())\n",
    "classifier2.fit(X2, Y2)\n",
    "guesses2 = classifier2.predict(X2)\n",
    "print(accuracy_score(Y2, guesses2))\n"
   ]
  },
  {
   "cell_type": "markdown",
   "metadata": {},
   "source": [
    "The reason why it can't \"memorize\" the training data in the second case is beacause the data is not linearly separable."
   ]
  },
  {
   "cell_type": "markdown",
   "metadata": {},
   "source": [
    "## Tasks from Pegasos paper"
   ]
  },
  {
   "cell_type": "code",
   "execution_count": 4,
   "metadata": {},
   "outputs": [],
   "source": [
    "import numpy as np\n",
    "from sklearn.base import BaseEstimator\n",
    "\n",
    "import time\n",
    "\n",
    "from sklearn.feature_extraction.text import TfidfVectorizer\n",
    "from sklearn.preprocessing import Normalizer\n",
    "from sklearn.pipeline import make_pipeline\n",
    "from sklearn.feature_selection import SelectKBest\n",
    "from sklearn.metrics import accuracy_score\n",
    "from sklearn.model_selection import train_test_split\n",
    "from sklearn.feature_extraction import DictVectorizer\n",
    "from sklearn.svm import LinearSVC\n",
    "\n",
    "from aml_perceptron import Perceptron, SparsePerceptron"
   ]
  },
  {
   "cell_type": "markdown",
   "metadata": {},
   "source": [
    "### Implementing the SVC"
   ]
  },
  {
   "cell_type": "markdown",
   "metadata": {},
   "source": [
    "#### Test-running the given code"
   ]
  },
  {
   "cell_type": "code",
   "execution_count": 5,
   "metadata": {},
   "outputs": [
    {
     "name": "stdout",
     "output_type": "stream",
     "text": [
      "Training time: 1.58 sec.\n",
      "Accuracy: 0.7919.\n"
     ]
    }
   ],
   "source": [
    "# This function reads the corpus, returns a list of documents, and a list\n",
    "# of their corresponding polarity labels. \n",
    "def read_data(corpus_file):\n",
    "    X = []\n",
    "    Y = []\n",
    "    with open(corpus_file, encoding='utf-8') as f:\n",
    "        for line in f:\n",
    "            _, y, _, x = line.split(maxsplit=3)\n",
    "            X.append(x.strip())\n",
    "            Y.append(y)\n",
    "    return X, Y\n",
    "\n",
    "# Read all the documents.\n",
    "X, Y = read_data('data/all_sentiment_shuffled.txt')\n",
    "\n",
    "# Split into training and test parts.\n",
    "Xtrain, Xtest, Ytrain, Ytest = train_test_split(X, Y, test_size=0.2,\n",
    "                                                random_state=0)\n",
    "\n",
    "# Set up the preprocessing steps and the classifier.\n",
    "pipeline = make_pipeline(\n",
    "    TfidfVectorizer(),\n",
    "    SelectKBest(k=1000),\n",
    "    Normalizer(),\n",
    "\n",
    "    # NB that this is our Perceptron, not sklearn.linear_model.Perceptron\n",
    "    Perceptron()  \n",
    ")\n",
    "\n",
    "# Train the classifier.\n",
    "t0 = time.time()\n",
    "pipeline.fit(Xtrain, Ytrain)\n",
    "t1 = time.time()\n",
    "print('Training time: {:.2f} sec.'.format(t1-t0))\n",
    "\n",
    "# Evaluate on the test set.\n",
    "Yguess = pipeline.predict(Xtest)\n",
    "print('Accuracy: {:.4f}.'.format(accuracy_score(Ytest, Yguess)))"
   ]
  },
  {
   "cell_type": "markdown",
   "metadata": {},
   "source": [
    "#### Implement the Pegasos algorithm on an SVC"
   ]
  },
  {
   "cell_type": "code",
   "execution_count": 6,
   "metadata": {},
   "outputs": [],
   "source": [
    "from aml_perceptron import LinearClassifier"
   ]
  },
  {
   "cell_type": "code",
   "execution_count": 7,
   "metadata": {},
   "outputs": [],
   "source": [
    "class PegasosSVC(LinearClassifier):\n",
    "    \"\"\"\n",
    "    A straightforward implementation of the perceptron learning algorithm.\n",
    "    \"\"\"\n",
    "\n",
    "    def __init__(self, n_iter=20, lam=0.5):\n",
    "        \"\"\"\n",
    "        The constructor can optionally take a parameter n_iter specifying how\n",
    "        many times we want to iterate through the training set.\n",
    "        \"\"\"\n",
    "        self.n_iter = n_iter\n",
    "        self.lam = lam\n",
    "\n",
    "    def fit(self, X, Y):\n",
    "        \"\"\"\n",
    "        Train a linear classifier using the perceptron learning algorithm.\n",
    "        \"\"\"\n",
    "\n",
    "        # First determine which output class will be associated with positive\n",
    "        # and negative scores, respectively.\n",
    "        self.find_classes(Y)\n",
    "\n",
    "        # Convert all outputs to +1 (for the positive class) or -1 (negative).\n",
    "        Ye = self.encode_outputs(Y)\n",
    "\n",
    "        # If necessary, convert the sparse matrix returned by a vectorizer\n",
    "        # into a normal NumPy matrix.\n",
    "        if not isinstance(X, np.ndarray):\n",
    "            X = X.toarray()\n",
    "\n",
    "        # Initialize the weight vector to all zeros.\n",
    "        n_features = X.shape[1]\n",
    "        self.w = np.zeros(n_features)\n",
    "        t=0\n",
    "\n",
    "        # Pegasos algorithm:\n",
    "        for i in range(self.n_iter):\n",
    "            for x, y in zip(X, Ye):\n",
    "                \n",
    "                #computing the new learning rate\n",
    "                t = t+1\n",
    "                eta = 1/(self.lam*t)\n",
    "\n",
    "                # Compute the output score for this instance.\n",
    "                score = x.dot(self.w)\n",
    "\n",
    "                # Update the weights\n",
    "                if y*score < 1:\n",
    "                    self.w = (1-eta*self.lam)*self.w + (eta*y)*x\n",
    "                else:\n",
    "                    self.w = (1-eta*self.lam)*self.w\n"
   ]
  },
  {
   "cell_type": "code",
   "execution_count": 8,
   "metadata": {},
   "outputs": [
    {
     "name": "stdout",
     "output_type": "stream",
     "text": [
      "Training time: 7.24 sec.\n",
      "Accuracy: 0.8368.\n"
     ]
    }
   ],
   "source": [
    "# Set up the preprocessing steps and the classifier.\n",
    "pipeline = make_pipeline(\n",
    "    TfidfVectorizer(),\n",
    "    SelectKBest(k=1000),\n",
    "    Normalizer(),\n",
    "\n",
    "    PegasosSVC(lam=1/len(Xtrain), n_iter=100)\n",
    ")\n",
    "\n",
    "# Train the classifier.\n",
    "t0 = time.time()\n",
    "pipeline.fit(Xtrain, Ytrain)\n",
    "t1 = time.time()\n",
    "print('Training time: {:.2f} sec.'.format(t1-t0))\n",
    "\n",
    "# Evaluate on the test set.\n",
    "Yguess = pipeline.predict(Xtest)\n",
    "print('Accuracy: {:.4f}.'.format(accuracy_score(Ytest, Yguess)))"
   ]
  },
  {
   "cell_type": "markdown",
   "metadata": {},
   "source": [
    "#### Implementing the Pegasos algorithm with Logistic regression"
   ]
  },
  {
   "cell_type": "code",
   "execution_count": 9,
   "metadata": {},
   "outputs": [],
   "source": [
    "class PegasosLogisticRegression(LinearClassifier):\n",
    "    \"\"\"\n",
    "    A straightforward implementation of the perceptron learning algorithm.\n",
    "    \"\"\"\n",
    "\n",
    "    def __init__(self, n_iter=20, lam=0.5):\n",
    "        \"\"\"\n",
    "        The constructor can optionally take a parameter n_iter specifying how\n",
    "        many times we want to iterate through the training set.\n",
    "        \"\"\"\n",
    "        self.n_iter = n_iter\n",
    "        self.lam = lam\n",
    "\n",
    "    def fit(self, X, Y):\n",
    "        \"\"\"\n",
    "        Train a linear classifier using the perceptron learning algorithm.\n",
    "        \"\"\"\n",
    "\n",
    "        # First determine which output class will be associated with positive\n",
    "        # and negative scores, respectively.\n",
    "        self.find_classes(Y)\n",
    "\n",
    "        # Convert all outputs to +1 (for the positive class) or -1 (negative).\n",
    "        Ye = self.encode_outputs(Y)\n",
    "\n",
    "        # If necessary, convert the sparse matrix returned by a vectorizer\n",
    "        # into a normal NumPy matrix.\n",
    "        if not isinstance(X, np.ndarray):\n",
    "            X = X.toarray()\n",
    "\n",
    "        # Initialize the weight vector to all zeros.\n",
    "        n_features = X.shape[1]\n",
    "        self.w = np.zeros(n_features)\n",
    "        t=0\n",
    "\n",
    "        # Pegasos algorithm:\n",
    "        for i in range(self.n_iter):\n",
    "            for x, y in zip(X, Ye):\n",
    "                \n",
    "                #computing the new learning rate\n",
    "                t = t+1\n",
    "                eta = 1/(self.lam*t)\n",
    "\n",
    "                # Compute the output score for this instance.\n",
    "                score = x.dot(self.w)                    \n",
    "                    \n",
    "                # Update the weights\n",
    "                self.w = (1-eta*self.lam)*self.w + eta*(y/(1+np.exp(y*score)))*x"
   ]
  },
  {
   "cell_type": "code",
   "execution_count": 10,
   "metadata": {},
   "outputs": [
    {
     "name": "stdout",
     "output_type": "stream",
     "text": [
      "Training time: 11.47 sec.\n",
      "Accuracy: 0.8380.\n"
     ]
    }
   ],
   "source": [
    "# Set up the preprocessing steps and the classifier.\n",
    "pipeline = make_pipeline(\n",
    "    TfidfVectorizer(),\n",
    "    SelectKBest(k=1000),\n",
    "    Normalizer(),\n",
    "\n",
    "    PegasosLogisticRegression(lam=1/len(Xtrain), n_iter=100)\n",
    ")\n",
    "\n",
    "# Train the classifier.\n",
    "t0 = time.time()\n",
    "pipeline.fit(Xtrain, Ytrain)\n",
    "t1 = time.time()\n",
    "print('Training time: {:.2f} sec.'.format(t1-t0))\n",
    "\n",
    "# Evaluate on the test set.\n",
    "Yguess = pipeline.predict(Xtest)\n",
    "print('Accuracy: {:.4f}.'.format(accuracy_score(Ytest, Yguess)))"
   ]
  },
  {
   "cell_type": "markdown",
   "metadata": {},
   "source": [
    "# Bonus Tasks"
   ]
  },
  {
   "cell_type": "markdown",
   "metadata": {},
   "source": [
    "## Bonus 1: Optimization\n",
    "\n",
    "There are two classes, Pegasos_BLAS and Pegasos_Sparse.\n",
    "\n",
    "Steps a and c are in BLAS while b and c are in Sparse."
   ]
  },
  {
   "cell_type": "markdown",
   "metadata": {},
   "source": [
    "### Initial setup"
   ]
  },
  {
   "cell_type": "code",
   "execution_count": 11,
   "metadata": {},
   "outputs": [],
   "source": [
    "import numpy as np\n",
    "import time\n",
    "from sklearn.feature_extraction.text import TfidfVectorizer\n",
    "from sklearn.preprocessing import Normalizer\n",
    "from sklearn.pipeline import make_pipeline\n",
    "from sklearn.feature_selection import SelectKBest\n",
    "from sklearn.metrics import accuracy_score\n",
    "from sklearn.model_selection import train_test_split\n",
    "\n",
    "# This function reads the corpus, returns a list of documents, and a list\n",
    "# of their corresponding polarity labels. \n",
    "def read_data(corpus_file):\n",
    "    X = []\n",
    "    Y = []\n",
    "    with open(corpus_file, encoding='utf-8') as f:\n",
    "        for line in f:\n",
    "            _, y, _, x = line.split(maxsplit=3)\n",
    "            X.append(x.strip())\n",
    "            Y.append(y)\n",
    "    return X, Y\n",
    "\n",
    "# Read all the documents.\n",
    "X, Y = read_data('data/all_sentiment_shuffled.txt')\n",
    "\n",
    "# Split into training and test parts.\n",
    "Xtrain, Xtest, Ytrain, Ytest = train_test_split(X, Y, test_size=0.2,\n",
    "                                                random_state=0)"
   ]
  },
  {
   "cell_type": "markdown",
   "metadata": {},
   "source": [
    "### Sparse"
   ]
  },
  {
   "cell_type": "code",
   "execution_count": 12,
   "metadata": {},
   "outputs": [],
   "source": [
    "from scipy.sparse import csr_matrix\n",
    "from aml_perceptron import LinearClassifier\n",
    "class Pegasos_Sparse(LinearClassifier):\n",
    "    '''\n",
    "    Our linear classifier implementation, made for using sparse matrices.\n",
    "    Since the BLAS functions don't work with the sparse matrices from scipy, we wrote this separately.\n",
    "    We're postponing scaling self.w in both of them, since that's pretty separate.\n",
    "    '''\n",
    "\n",
    "    def __init__(self, n_iter=20, lam=0.5, type='SVC'):\n",
    "        \"\"\"\n",
    "        The constructor can optionally take a parameter n_iter specifying how\n",
    "        many times we want to iterate through the training set.\n",
    "        \"\"\"\n",
    "        self.n_iter = n_iter\n",
    "        self.lam = lam\n",
    "        if type=='SVC':\n",
    "            self.update_weights = self.update_weights_SVC\n",
    "        elif type=='LR':\n",
    "            self.update_weights = self.update_weights_LR\n",
    "\n",
    "    @classmethod\n",
    "    def add_sparse_to_dense(cls, x, w, factor):\n",
    "        \"\"\"\n",
    "        Adds a sparse vector x, scaled by some factor, to a dense vector.\n",
    "        This can be seen as the equivalent of w += factor * x when x is a dense\n",
    "        vector.\n",
    "        \"\"\"\n",
    "        w[x.indices] += factor * x.data\n",
    "\n",
    "    @classmethod\n",
    "    def sparse_dense_dot(cls, x, w):\n",
    "        \"\"\"\n",
    "        Computes the dot product between a sparse vector x and a dense vector w.\n",
    "        \"\"\"\n",
    "        return np.dot(w[x.indices], x.data)\n",
    "    \n",
    "    def update_weights_SVC(self, eta, x, w, y, score, a):\n",
    "        if y*score < 1:\n",
    "            self.add_sparse_to_dense(x, w, factor=eta*y/a)\n",
    "    \n",
    "    def update_weights_LR(self, eta, x, w, y, score, a):\n",
    "        self.add_sparse_to_dense(x, w, factor=eta*(y/(1+np.exp(y*score)))/a)\n",
    "    \n",
    "    def fit(self, X, Y):\n",
    "        \"\"\"\n",
    "        Train a linear classifier using the perceptron learning algorithm.\n",
    "        \"\"\"\n",
    "\n",
    "        # First determine which output class will be associated with positive\n",
    "        # and negative scores, respectively.\n",
    "        self.find_classes(Y)\n",
    "\n",
    "        # Convert all outputs to +1 (for the positive class) or -1 (negative).\n",
    "        Ye = self.encode_outputs(Y)\n",
    "\n",
    "        # If necessary, convert the sparse matrix returned by a vectorizer\n",
    "        # into a normal NumPy matrix.\n",
    "        assert isinstance(X, csr_matrix)\n",
    "\n",
    "        # Initialize the weight vector to all zeros.\n",
    "        n_features = X.shape[1]\n",
    "        self.w = np.zeros(n_features)\n",
    "        t=0\n",
    "        a=1\n",
    "        # Pegasos algorithm:\n",
    "        for _ in range(self.n_iter):\n",
    "            for x, y in zip(X, Ye):\n",
    "                # Compute the new learning rate\n",
    "                t = t+1\n",
    "                eta = 1/(self.lam*t)\n",
    "\n",
    "                # Compute the output score for this instance\n",
    "                score = a*self.sparse_dense_dot(x, self.w)\n",
    "\n",
    "                # Scale a\n",
    "                a *= (1-eta*self.lam)\n",
    "\n",
    "                # Update the weights\n",
    "                self.update_weights(eta, x, self.w, y, score, a)\n",
    "                    \n",
    "            # Catch up on scaling w, reset a\n",
    "            dscal(a, self.w)\n",
    "            a=1"
   ]
  },
  {
   "cell_type": "markdown",
   "metadata": {},
   "source": [
    "### BLAS"
   ]
  },
  {
   "cell_type": "code",
   "execution_count": 13,
   "metadata": {},
   "outputs": [],
   "source": [
    "from scipy.linalg.blas import ddot, dscal, daxpy\n",
    "from aml_perceptron import LinearClassifier\n",
    "class Pegasos_BLAS(LinearClassifier):\n",
    "    '''\n",
    "    Our linear classifier implementation, using the BLAS functions. \n",
    "    We're also postponing scaling self.w.\n",
    "    It's mostly copy/paste from the reference code.\n",
    "    '''\n",
    "\n",
    "    def __init__(self, n_iter=20, lam=0.5, type='SVC'):\n",
    "        \"\"\"\n",
    "        The constructor takes a type parameter, which can be either SVC or LR. \n",
    "        This only affects the loss function.\n",
    "        \"\"\"\n",
    "        self.n_iter = n_iter\n",
    "        self.lam = lam\n",
    "        if type=='SVC':\n",
    "            self.update_weights = self.update_weights_SVC\n",
    "        elif type=='LR':\n",
    "            self.update_weights = self.update_weights_LR\n",
    "    \n",
    "    def update_weights_SVC(self, eta, x, w, y, score, a):\n",
    "        if y*score < 1:\n",
    "            daxpy(x, w, a=eta*y/a)\n",
    "    \n",
    "    def update_weights_LR(self, eta, x, w, y, score, a):\n",
    "        daxpy(x, w, a=eta*(y/(1+np.exp(y*score)))/a)\n",
    "\n",
    "    def fit(self, X, Y):\n",
    "        \"\"\"\n",
    "        Train a linear classifier using the perceptron learning algorithm.\n",
    "        \"\"\"\n",
    "\n",
    "        # First determine which output class will be associated with positive\n",
    "        # and negative scores, respectively.\n",
    "        self.find_classes(Y)\n",
    "\n",
    "        # Convert all outputs to +1 (for the positive class) or -1 (negative).\n",
    "        Ye = self.encode_outputs(Y)\n",
    "\n",
    "        # If necessary, convert the sparse matrix returned by a vectorizer\n",
    "        # into a normal NumPy matrix.\n",
    "        if not isinstance(X, np.ndarray):\n",
    "            X = X.toarray()\n",
    "\n",
    "        # Initialize the weight vector to all zeros.\n",
    "        n_features = X.shape[1]\n",
    "        self.w = np.zeros(n_features)\n",
    "        t=0\n",
    "        a = 1\n",
    "        # Pegasos algorithm:\n",
    "        for i in range(self.n_iter):\n",
    "            for x, y in zip(X, Ye):\n",
    "                # Compute the new learning rate\n",
    "                t = t+1\n",
    "                eta = 1/(self.lam*t)\n",
    "\n",
    "                # Compute the output score for this instance\n",
    "                score = a*ddot(x, self.w)\n",
    "\n",
    "                # Scale a\n",
    "                a *= (1-eta*self.lam)\n",
    "\n",
    "                # Update the weights\n",
    "                self.update_weights(eta, x, self.w, y, score, a)\n",
    "            \n",
    "            # Catch up on scaling w, reset a\n",
    "            dscal(a, self.w)\n",
    "            a=1"
   ]
  },
  {
   "cell_type": "markdown",
   "metadata": {},
   "source": [
    "### A couple of test runs"
   ]
  },
  {
   "cell_type": "markdown",
   "metadata": {},
   "source": [
    "#### Sparse, LR"
   ]
  },
  {
   "cell_type": "code",
   "execution_count": 14,
   "metadata": {},
   "outputs": [
    {
     "name": "stderr",
     "output_type": "stream",
     "text": [
      "C:\\Users\\46703\\Anaconda3\\lib\\site-packages\\ipykernel_launcher.py:43: RuntimeWarning: divide by zero encountered in double_scalars\n",
      "C:\\Users\\46703\\Anaconda3\\lib\\site-packages\\ipykernel_launcher.py:74: RuntimeWarning: invalid value encountered in double_scalars\n"
     ]
    },
    {
     "name": "stdout",
     "output_type": "stream",
     "text": [
      "Training time: 7.65 sec.\n",
      "Accuracy: 0.0000.\n"
     ]
    },
    {
     "name": "stderr",
     "output_type": "stream",
     "text": [
      "C:\\Users\\46703\\Documents\\GitHub\\GU_Applied_Machine_Learning\\Assignment2B\\aml_perceptron.py:43: RuntimeWarning: invalid value encountered in greater_equal\n",
      "  out = np.select([scores >= 0.0, scores < 0.0],\n",
      "C:\\Users\\46703\\Documents\\GitHub\\GU_Applied_Machine_Learning\\Assignment2B\\aml_perceptron.py:43: RuntimeWarning: invalid value encountered in less\n",
      "  out = np.select([scores >= 0.0, scores < 0.0],\n"
     ]
    }
   ],
   "source": [
    "# Set up the preprocessing steps and the classifier.\n",
    "pipeline = make_pipeline(\n",
    "    TfidfVectorizer(), # adding the ngram parameter makes it very slow\n",
    "    SelectKBest(k=1000), # removing this also makes it slow. I'm not paitent enough.\n",
    "    Normalizer(),\n",
    "\n",
    "    Pegasos_Sparse(lam=1/len(Xtrain), n_iter=15, type='LR')\n",
    ")\n",
    "\n",
    "# Train the classifier.\n",
    "t0 = time.time()\n",
    "pipeline.fit(Xtrain, Ytrain)\n",
    "t1 = time.time()\n",
    "print('Training time: {:.2f} sec.'.format(t1-t0))\n",
    "\n",
    "# Evaluate on the test set.\n",
    "Yguess = pipeline.predict(Xtest)\n",
    "print('Accuracy: {:.4f}.'.format(accuracy_score(Ytest, Yguess)))"
   ]
  },
  {
   "cell_type": "markdown",
   "metadata": {},
   "source": [
    "#### BLAS, SVC\n",
    "\n",
    "BLAS is a bit quicker."
   ]
  },
  {
   "cell_type": "code",
   "execution_count": 15,
   "metadata": {},
   "outputs": [
    {
     "name": "stderr",
     "output_type": "stream",
     "text": [
      "C:\\Users\\46703\\Anaconda3\\lib\\site-packages\\ipykernel_launcher.py:24: RuntimeWarning: divide by zero encountered in double_scalars\n"
     ]
    },
    {
     "name": "stdout",
     "output_type": "stream",
     "text": [
      "Training time: 1.29 sec.\n",
      "Accuracy: 0.0000.\n"
     ]
    },
    {
     "name": "stderr",
     "output_type": "stream",
     "text": [
      "C:\\Users\\46703\\Documents\\GitHub\\GU_Applied_Machine_Learning\\Assignment2B\\aml_perceptron.py:43: RuntimeWarning: invalid value encountered in greater_equal\n",
      "  out = np.select([scores >= 0.0, scores < 0.0],\n",
      "C:\\Users\\46703\\Documents\\GitHub\\GU_Applied_Machine_Learning\\Assignment2B\\aml_perceptron.py:43: RuntimeWarning: invalid value encountered in less\n",
      "  out = np.select([scores >= 0.0, scores < 0.0],\n"
     ]
    }
   ],
   "source": [
    "# Set up the preprocessing steps and the classifier.\n",
    "pipeline = make_pipeline(\n",
    "    TfidfVectorizer(),\n",
    "    SelectKBest(k=1000),\n",
    "    Normalizer(),\n",
    "\n",
    "    Pegasos_BLAS(lam=1/len(Xtrain), n_iter=15, type='SVC')\n",
    ")\n",
    "\n",
    "# Train the classifier.\n",
    "t0 = time.time()\n",
    "pipeline.fit(Xtrain, Ytrain)\n",
    "t1 = time.time()\n",
    "print('Training time: {:.2f} sec.'.format(t1-t0))\n",
    "\n",
    "# Evaluate on the test set.\n",
    "Yguess = pipeline.predict(Xtest)\n",
    "print('Accuracy: {:.4f}.'.format(accuracy_score(Ytest, Yguess)))"
   ]
  },
  {
   "cell_type": "markdown",
   "metadata": {},
   "source": [
    "### Some results\n",
    "#### SVC\n",
    "\n",
    "My laptop has a lot of features that make these comparisons difficult, like thermal throttling, low power modes and such. Don't take too seriously.\n",
    "\n",
    "The (c) part, postponing the scaling of w, is added to both the BLAS and Sparse implementations.\n",
    "\n",
    "##### Unoptimized\n",
    "Training time: 13.03 sec.\n",
    "Accuracy: 0.8380.\n",
    "\n",
    "##### BLAS\n",
    "Training time: 5.83 sec.\n",
    "Accuracy: 0.8368.\n",
    "\n",
    "##### Without SelectKBest\n",
    "Training time: 121.57 sec.\n",
    "Accuracy: 0.8418.\n",
    "\n",
    "##### ngram_range=(1,2)\n",
    "Crash: unable to allocate 34.1GB array.\n",
    "\n",
    "##### Sparse vectors, original pipeline\n",
    "Training time: 47.77 sec.\n",
    "Accuracy: 0.8368.\n",
    "\n",
    "#### LR\n",
    "\n",
    "##### Unoptimized\n",
    "Training time: 12.41 sec.\n",
    "Accuracy: 0.8380.\n",
    "\n",
    "##### BLAS\n",
    "Training time: 9.39 sec.\n",
    "Accuracy: 0.8384.\n",
    "\n",
    "##### With blas and scaling a\n",
    "Training time: 5.59 sec.\n",
    "Accuracy: 0.8368.\n",
    "\n",
    "##### Without SelectKBest\n",
    "Training time: 121.57 sec.\n",
    "Accuracy: 0.8418.\n",
    "\n",
    "##### ngram_range=(1,2)\n",
    "Crash: unable to allocate 34.1GB array.\n",
    "\n",
    "##### Sparse vectors, original pipeline\n",
    "Training time: 53.08 sec.\n",
    "Accuracy: 0.8368."
   ]
  },
  {
   "cell_type": "markdown",
   "metadata": {},
   "source": [
    "## Bonus 4: PyTorch\n",
    "\n",
    "Like the Sparse and BLAS classifiers above, the SVC and LR implementations both share the same class."
   ]
  },
  {
   "cell_type": "code",
   "execution_count": 16,
   "metadata": {},
   "outputs": [],
   "source": [
    "import numpy as np\n",
    "import torch\n",
    "\n",
    "class Torch_Classifier:\n",
    "    '''\n",
    "    Like the Pegasos classifiers, we're using the same class for both SVC and LR. \n",
    "    Change between them by passing type='SVC' or type='LR' to the constructor.\n",
    "    '''\n",
    "    def __init__(\n",
    "        self, \n",
    "        n_iter=15, \n",
    "        eta=0.1, \n",
    "        batch_size=10, \n",
    "        opt=None, \n",
    "        type='SVC', \n",
    "        use_cuda=False, \n",
    "        verbose=False):\n",
    "        \"\"\"\n",
    "        n_iter:     number of iterations (epochs) to train for\n",
    "        eta:        The learning rate used for the default Adam optimizer if opt=None\n",
    "        batch_size: size of batches used.\n",
    "        opt:        function that initializes an optimizer from torch.optim.\n",
    "        type:       SVC or LR\n",
    "        use_cuda:   Whether to use cuda. Ignored if CUDA is not available.\n",
    "        verbose:    Whether to print the loss every iteration.\n",
    "        \"\"\"\n",
    "        self.n_iter = n_iter\n",
    "        self.eta = eta\n",
    "        self.batch_size = batch_size\n",
    "        self.opt = opt\n",
    "        self.type=type\n",
    "        self.verbose = verbose\n",
    "        # Set torch device\n",
    "        if use_cuda and torch.cuda.is_available():\n",
    "            self.device = 'cuda'\n",
    "        else:\n",
    "            self.device = 'cpu'\n",
    "        if type != 'SVC' and type != 'LR':\n",
    "            raise Exception(\"Unknown classifier type: {}\".format(type))\n",
    "\n",
    "    def find_classes(self, Y):\n",
    "        \"\"\"\n",
    "        Finds the set of output classes in the output part Y of the training set.\n",
    "        If there are exactly two classes, one of them is associated to positive\n",
    "        classifier scores, the other one to negative scores. If the number of\n",
    "        classes is not 2, an error is raised.\n",
    "        \"\"\"\n",
    "        classes = sorted(set(Y))\n",
    "        if len(classes) != 2:\n",
    "            raise Exception(\"this does not seem to be a 2-class problem\")\n",
    "        self.positive_class = classes[1]\n",
    "        self.negative_class = classes[0]\n",
    "\n",
    "    def encode_outputs(self, Y):\n",
    "        \"\"\"\n",
    "        A helper function that converts all outputs to +1 or -1.\n",
    "        \"\"\"\n",
    "        return np.array([1 if y == self.positive_class else -1 for y in Y])\n",
    "\n",
    "    def fit(self, X, Y):\n",
    "        \n",
    "        # First determine which output class will be associated with positive\n",
    "        # and negative scores, respectively.\n",
    "        self.find_classes(Y)\n",
    "\n",
    "        X = X.toarray()\n",
    "\n",
    "        Ye = self.encode_outputs(Y)\n",
    "\n",
    "        n_instances, n_features = X.shape\n",
    "        assert X.shape[0] == Ye.shape[0]\n",
    "        \n",
    "        # we need to \"wrap\" the NumPy arrays X and Y as PyTorch tensors\n",
    "        Xt = torch.tensor(X, dtype=torch.float, device=self.device)\n",
    "        Yt = torch.tensor(Ye, dtype=torch.float, device=self.device)\n",
    "\n",
    "        # initialize the weight vector to all zeros\n",
    "        self.w = torch.zeros(n_features, requires_grad=True, dtype=torch.float, device=self.device)\n",
    "        self.history = []\n",
    "\n",
    "        if self.opt is None:\n",
    "            optimizer = torch.optim.Adam([self.w], lr=self.eta)\n",
    "        else:\n",
    "            optimizer = self.opt(self.w)\n",
    "\n",
    "        tol = 1e-5\n",
    "        iteration = 0\n",
    "        \n",
    "        converged = False\n",
    "        # While not enough iterations or not converged\n",
    "        while iteration < self.n_iter and not converged:\n",
    "            iteration += 1\n",
    "            total_loss = 0\n",
    "            \n",
    "            for batch_start in range(0, n_instances, self.batch_size):\n",
    "                batch_end = batch_start + self.batch_size\n",
    "\n",
    "                # pick out the batch again, as in the other notebook\n",
    "                Xbatch = Xt[batch_start:batch_end, :]\n",
    "                Ybatch = Yt[batch_start:batch_end]\n",
    "            \n",
    "                # mv = matrix-vector multiplication in Torch\n",
    "                G = Xbatch.mv(self.w)\n",
    "                score = Ybatch*G\n",
    "\n",
    "                if self.type=='SVC':\n",
    "                    # Calculate hinge loss\n",
    "                    loss_batch = torch.sum(1-score[score<1]) / n_instances\n",
    "                elif self.type=='LR':\n",
    "                    # Calculate log loss\n",
    "                    loss_batch = torch.sum(torch.log(1+torch.exp(-score))) / n_instances\n",
    "                    \n",
    "                # we sum up the loss values for all the batches.\n",
    "                # the item() here is to convert the tensor into a single number\n",
    "                total_loss += loss_batch.item()\n",
    "                \n",
    "                # reset all gradients\n",
    "                optimizer.zero_grad()                  \n",
    "\n",
    "                # compute the gradients for the loss for this batch\n",
    "                loss_batch.backward()\n",
    "\n",
    "                # for SGD, this is equivalent to w -= learning_rate * gradient as we saw before\n",
    "                optimizer.step()\n",
    "\n",
    "            self.history.append(total_loss)\n",
    "\n",
    "            # Determine if converged\n",
    "            if iteration >= 2:\n",
    "                converged = self.history[len(self.history)-2] - self.history[len(self.history)-1] < tol\n",
    "            \n",
    "            if self.verbose:\n",
    "                print(f\"Iteration: {iteration:3.0f}, loss: {total_loss:9.6f}\")\n",
    "        print('Minibatch final loss: {:.4f}'.format(total_loss))\n",
    "    \n",
    "    def predict(self, X):\n",
    "        '''\n",
    "        We know, we weren't supposed to care about the accuracy but we just couldn't resist.\n",
    "        By the way, it overfits.\n",
    "        '''\n",
    "        Xt = torch.tensor(X.toarray(), dtype=torch.float, device=self.device)\n",
    "        pred = Xt.mv(self.w)\n",
    "        result = [self.positive_class if p > 0 else self.negative_class for p in pred]\n",
    "        return result\n"
   ]
  },
  {
   "cell_type": "markdown",
   "metadata": {},
   "source": [
    "### Optimizers\n",
    "\n",
    "We could have gotten the loss down further by just adding more iterations. After 15, it's pretty close though and looking at the accuracy it doesn't really get better with more for most of the optimizers."
   ]
  },
  {
   "cell_type": "markdown",
   "metadata": {},
   "source": [
    "### Adam\n",
    "\n",
    "Since Adam is so famous, let's do Adam first."
   ]
  },
  {
   "cell_type": "code",
   "execution_count": 33,
   "metadata": {},
   "outputs": [
    {
     "name": "stdout",
     "output_type": "stream",
     "text": [
      "Minibatch final loss: 0.2887\n",
      "Training time: 5.68 sec.\n",
      "Accuracy: 0.8112.\n"
     ]
    },
    {
     "data": {
      "image/png": "[encoded data removed]",
      "text/plain": [
       "<Figure size 432x288 with 1 Axes>"
      ]
     },
     "metadata": {
      "needs_background": "light"
     },
     "output_type": "display_data"
    }
   ],
   "source": [
    "# Set up the preprocessing steps and the classifier.\n",
    "def opt(w):\n",
    "    return torch.optim.Adam([w], lr=.05)\n",
    "tc = Torch_Classifier(opt=opt, type='SVC', n_iter=15)\n",
    "pipeline = make_pipeline(\n",
    "    TfidfVectorizer(),\n",
    "    SelectKBest(k=1000),\n",
    "    Normalizer(),\n",
    "    tc\n",
    ")\n",
    "\n",
    "# Train the classifier.\n",
    "t0 = time.time()\n",
    "pipeline.fit(Xtrain, Ytrain)\n",
    "t1 = time.time()\n",
    "print('Training time: {:.2f} sec.'.format(t1-t0))\n",
    "\n",
    "# Evaluate on the test set.\n",
    "Yguess = pipeline.predict(Xtest)\n",
    "print('Accuracy: {:.4f}.'.format(accuracy_score(Ytest, Yguess)))\n",
    "\n",
    "import matplotlib.pyplot as plt\n",
    "plt.plot(tc.history)\n",
    "plt.title(\"Adam\")\n",
    "plt.xlabel(\"Iterations\")\n",
    "plt.xticks(range(0, len(tc.history)), range(0, len(tc.history)))\n",
    "plt.ylabel(\"Loss\")\n",
    "plt.show()"
   ]
  },
  {
   "cell_type": "markdown",
   "metadata": {},
   "source": [
    "### Results: Adam\n",
    "\n",
    "#### LR\n",
    "Minibatch final loss: 0.2424\n",
    "Training time: 5.97 sec.\n",
    "Accuracy: 0.8326.\n",
    "\n",
    "#### SVC\n",
    "Minibatch final loss: 0.2462\n",
    "Training time: 5.95 sec.\n",
    "Accuracy: 0.8288."
   ]
  },
  {
   "cell_type": "markdown",
   "metadata": {},
   "source": [
    "### SGD"
   ]
  },
  {
   "cell_type": "code",
   "execution_count": 34,
   "metadata": {},
   "outputs": [
    {
     "name": "stdout",
     "output_type": "stream",
     "text": [
      "Minibatch final loss: 0.4716\n",
      "Training time: 4.07 sec.\n",
      "Accuracy: 0.7940.\n"
     ]
    },
    {
     "data": {
      "image/png": "[encoded data removed]",
      "text/plain": [
       "<Figure size 432x288 with 1 Axes>"
      ]
     },
     "metadata": {
      "needs_background": "light"
     },
     "output_type": "display_data"
    }
   ],
   "source": [
    "# Set up the preprocessing steps and the classifier.\n",
    "def opt(w):\n",
    "    return torch.optim.SGD([w], lr=.98, momentum=.98)\n",
    "tc = Torch_Classifier(opt=opt, type='LR', n_iter=15)\n",
    "pipeline = make_pipeline(\n",
    "    TfidfVectorizer(),\n",
    "    SelectKBest(k=1000),\n",
    "    Normalizer(),\n",
    "    tc\n",
    ")\n",
    "\n",
    "# Train the classifier.\n",
    "t0 = time.time()\n",
    "pipeline.fit(Xtrain, Ytrain)\n",
    "t1 = time.time()\n",
    "print('Training time: {:.2f} sec.'.format(t1-t0))\n",
    "\n",
    "# Evaluate on the test set.\n",
    "Yguess = pipeline.predict(Xtest)\n",
    "print('Accuracy: {:.4f}.'.format(accuracy_score(Ytest, Yguess)))\n",
    "\n",
    "import matplotlib.pyplot as plt\n",
    "plt.plot(tc.history)\n",
    "plt.title(\"Adam([self.w], lr=.5, momentum=.9)\")\n",
    "plt.xlabel(\"Iterations\")\n",
    "plt.xticks(range(0, len(tc.history)), range(0, len(tc.history)))\n",
    "plt.ylabel(\"Loss\")\n",
    "plt.show()"
   ]
  },
  {
   "cell_type": "markdown",
   "metadata": {},
   "source": [
    "### Results: SGD\n",
    "\n",
    "#### SVC\n",
    "Minibatch final loss: 0.4099\n",
    "Training time: 6.01 sec.\n",
    "Accuracy: 0.8175.\n",
    "\n",
    "#### LR\n",
    "Minibatch final loss: 0.4716\n",
    "Training time: 5.52 sec.\n",
    "Accuracy: 0.7940."
   ]
  },
  {
   "cell_type": "markdown",
   "metadata": {},
   "source": [
    "### RMSProp"
   ]
  },
  {
   "cell_type": "code",
   "execution_count": 35,
   "metadata": {},
   "outputs": [
    {
     "name": "stdout",
     "output_type": "stream",
     "text": [
      "Minibatch final loss: 0.2680\n",
      "Training time: 5.64 sec.\n",
      "Accuracy: 0.8389.\n"
     ]
    },
    {
     "data": {
      "image/png": "[encoded data removed]",
      "text/plain": [
       "<Figure size 432x288 with 1 Axes>"
      ]
     },
     "metadata": {
      "needs_background": "light"
     },
     "output_type": "display_data"
    }
   ],
   "source": [
    "# Set up the preprocessing steps and the classifier.\n",
    "def opt(w):\n",
    "    return torch.optim.RMSprop([w], lr=.003, alpha=.997, weight_decay=0, momentum=0)\n",
    "tc = Torch_Classifier(opt=opt, type='LR', n_iter=15)\n",
    "pipeline = make_pipeline(\n",
    "    TfidfVectorizer(),\n",
    "    SelectKBest(k=1000),\n",
    "    Normalizer(),\n",
    "    tc\n",
    ")\n",
    "\n",
    "# Train the classifier.\n",
    "t0 = time.time()\n",
    "pipeline.fit(Xtrain, Ytrain)\n",
    "t1 = time.time()\n",
    "print('Training time: {:.2f} sec.'.format(t1-t0))\n",
    "\n",
    "# Evaluate on the test set.\n",
    "Yguess = pipeline.predict(Xtest)\n",
    "print('Accuracy: {:.4f}.'.format(accuracy_score(Ytest, Yguess)))\n",
    "\n",
    "import matplotlib.pyplot as plt\n",
    "plt.plot(tc.history)\n",
    "plt.title(\"Adam([self.w], lr=.5, momentum=.9)\")\n",
    "plt.xlabel(\"Iterations\")\n",
    "plt.xticks(range(0, len(tc.history)), range(0, len(tc.history)))\n",
    "plt.ylabel(\"Loss\")\n",
    "plt.show()"
   ]
  },
  {
   "cell_type": "markdown",
   "metadata": {},
   "source": [
    "### Results: RMSProp\n",
    "\n",
    "#### SVC\n",
    "Minibatch final loss: 0.2668\n",
    "Training time: 5.62 sec.\n",
    "Accuracy: 0.8355.\n",
    "\n",
    "#### LR\n",
    "Minibatch final loss: 0.2680\n",
    "Training time: 4.91 sec.\n",
    "Accuracy: 0.8389."
   ]
  },
  {
   "cell_type": "markdown",
   "metadata": {},
   "source": [
    "### Optimizer: Adagrad"
   ]
  },
  {
   "cell_type": "code",
   "execution_count": 36,
   "metadata": {},
   "outputs": [
    {
     "name": "stdout",
     "output_type": "stream",
     "text": [
      "Minibatch final loss: 0.2997\n",
      "Training time: 4.46 sec.\n",
      "Accuracy: 0.8405.\n"
     ]
    },
    {
     "data": {
      "image/png": "[encoded data removed]",
      "text/plain": [
       "<Figure size 432x288 with 1 Axes>"
      ]
     },
     "metadata": {
      "needs_background": "light"
     },
     "output_type": "display_data"
    }
   ],
   "source": [
    "# Set up the preprocessing steps and the classifier.\n",
    "def opt(w):\n",
    "    return torch.optim.Adagrad([w], lr=.1, lr_decay=0, weight_decay=0, initial_accumulator_value=0)\n",
    "tc = Torch_Classifier(opt=opt, type='LR', n_iter=15)\n",
    "pipeline = make_pipeline(\n",
    "    TfidfVectorizer(),\n",
    "    SelectKBest(k=1000),\n",
    "    Normalizer(),\n",
    "    tc\n",
    ")\n",
    "\n",
    "# Train the classifier.\n",
    "t0 = time.time()\n",
    "pipeline.fit(Xtrain, Ytrain)\n",
    "t1 = time.time()\n",
    "print('Training time: {:.2f} sec.'.format(t1-t0))\n",
    "\n",
    "# Evaluate on the test set.\n",
    "Yguess = pipeline.predict(Xtest)\n",
    "print('Accuracy: {:.4f}.'.format(accuracy_score(Ytest, Yguess)))\n",
    "\n",
    "import matplotlib.pyplot as plt\n",
    "plt.plot(tc.history)\n",
    "plt.title(\"Adam([self.w], lr=.5, momentum=.9)\")\n",
    "plt.xlabel(\"Iterations\")\n",
    "plt.xticks(range(0, len(tc.history)), range(0, len(tc.history)))\n",
    "plt.ylabel(\"Loss\")\n",
    "plt.show()"
   ]
  },
  {
   "cell_type": "markdown",
   "metadata": {},
   "source": [
    "### Results: Adagrad\n",
    "\n",
    "#### SVC\n",
    "Minibatch final loss: 0.2918\n",
    "Training time: 5.59 sec.\n",
    "Accuracy: 0.8397.\n",
    "\n",
    "#### LR\n",
    "Minibatch final loss: 0.2997\n",
    "Training time: 5.13 sec.\n",
    "Accuracy: 0.8405."
   ]
  },
  {
   "cell_type": "markdown",
   "metadata": {},
   "source": [
    "## Bonus task 3: Additional loss functions (not completed)"
   ]
  },
  {
   "cell_type": "markdown",
   "metadata": {},
   "source": [
    "Note that only the first loss function is done here (i.e. smoothed hinge) and it also performs really bad so something is probably wrong. We included this anyway in the report to show the little progress we did on it."
   ]
  },
  {
   "cell_type": "code",
   "execution_count": 37,
   "metadata": {},
   "outputs": [],
   "source": [
    "class PegasosSVC_smoothedHinge(LinearClassifier):\n",
    "    \"\"\"\n",
    "    A straightforward implementation of the perceptron learning algorithm.\n",
    "    \"\"\"\n",
    "\n",
    "    def __init__(self, n_iter=20, lam=0.5):\n",
    "        \"\"\"\n",
    "        The constructor can optionally take a parameter n_iter specifying how\n",
    "        many times we want to iterate through the training set.\n",
    "        \"\"\"\n",
    "        self.n_iter = n_iter\n",
    "        self.lam = lam\n",
    "\n",
    "    def fit(self, X, Y):\n",
    "        \"\"\"\n",
    "        Train a linear classifier using the perceptron learning algorithm.\n",
    "        \"\"\"\n",
    "    \n",
    "        # First determine which output class will be associated with positive\n",
    "        # and negative scores, respectively.\n",
    "        self.find_classes(Y)\n",
    "\n",
    "        # Convert all outputs to +1 (for the positive class) or -1 (negative).\n",
    "        Ye = self.encode_outputs(Y)\n",
    "\n",
    "        # If necessary, convert the sparse matrix returned by a vectorizer\n",
    "        # into a normal NumPy matrix.\n",
    "        if not isinstance(X, np.ndarray):\n",
    "            X = X.toarray()\n",
    "\n",
    "        # Initialize the weight vector to all zeros.\n",
    "        n_features = X.shape[1]\n",
    "        self.w = np.zeros(n_features)\n",
    "        t=0\n",
    "\n",
    "        # Pegasos algorithm:\n",
    "        for i in range(self.n_iter):\n",
    "            for x, y in zip(X, Ye):\n",
    "                \n",
    "                #computing the new learning rate\n",
    "                t = t+1\n",
    "                eta = 1/(self.lam*t)\n",
    "\n",
    "                # Compute the output score for this instance.\n",
    "                score = x.dot(self.w)\n",
    "                \n",
    "                # Update the weights\n",
    "                if y*score <= 0:\n",
    "                    self.w += eta\n",
    "                elif (y*score > 0) and (y*score < 1):\n",
    "                    self.w -= (y*score-1)*eta"
   ]
  },
  {
   "cell_type": "code",
   "execution_count": 38,
   "metadata": {},
   "outputs": [
    {
     "name": "stdout",
     "output_type": "stream",
     "text": [
      "Training time: 8.09 sec.\n",
      "Accuracy: 0.4964.\n"
     ]
    }
   ],
   "source": [
    "# Set up the preprocessing steps and the classifier.\n",
    "pipeline = make_pipeline(\n",
    "    TfidfVectorizer(),\n",
    "    SelectKBest(k=1000),\n",
    "    Normalizer(),\n",
    "\n",
    "    PegasosSVC_smoothedHinge(lam=1/len(Xtrain), n_iter=100)\n",
    "    #PegasosSVC_smoothedHinge(lam=0.1, n_iter=100)\n",
    ")\n",
    "\n",
    "# Train the classifier.\n",
    "t0 = time.time()\n",
    "pipeline.fit(Xtrain, Ytrain)\n",
    "t1 = time.time()\n",
    "print('Training time: {:.2f} sec.'.format(t1-t0))\n",
    "\n",
    "# Evaluate on the test set.\n",
    "Yguess = pipeline.predict(Xtest)\n",
    "print('Accuracy: {:.4f}.'.format(accuracy_score(Ytest, Yguess)))"
   ]
  }
 ],
 "metadata": {
  "kernelspec": {
   "display_name": "Python 3",
   "language": "python",
   "name": "python3"
  },
  "language_info": {
   "codemirror_mode": {
    "name": "ipython",
    "version": 3
   },
   "file_extension": ".py",
   "mimetype": "text/x-python",
   "name": "python",
   "nbconvert_exporter": "python",
   "pygments_lexer": "ipython3",
   "version": "3.7.6"
  }
 },
 "nbformat": 4,
 "nbformat_minor": 4
}
