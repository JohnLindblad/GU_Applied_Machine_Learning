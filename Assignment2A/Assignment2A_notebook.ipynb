{
 "cells": [
  {
   "cell_type": "markdown",
   "metadata": {},
   "source": [
    "# Assignment 2A - Part 3: Implementing the classifier"
   ]
  },
  {
   "cell_type": "markdown",
   "metadata": {},
   "source": [
    "by John Lindblad and Olle Lindgren"
   ]
  },
  {
   "cell_type": "markdown",
   "metadata": {},
   "source": [
    "## Importing packages and data"
   ]
  },
  {
   "cell_type": "code",
   "execution_count": 1,
   "metadata": {},
   "outputs": [],
   "source": [
    "# standard tools and text preprocessing\n",
    "import pandas as pd\n",
    "import numpy as np\n",
    "import matplotlib.pyplot as plt\n",
    "from sklearn.feature_extraction.text import TfidfVectorizer\n",
    "from sklearn.pipeline import make_pipeline\n",
    "from collections import Counter\n",
    "from statistics import mode\n",
    "from pprint import PrettyPrinter\n",
    "# model evaluation and tuning\n",
    "from sklearn.model_selection import train_test_split\n",
    "from sklearn.metrics import accuracy_score\n",
    "from sklearn.metrics import confusion_matrix\n",
    "from sklearn.metrics import plot_confusion_matrix\n",
    "from sklearn.model_selection import GridSearchCV\n",
    "# classifiers\n",
    "from sklearn.svm import SVC\n",
    "from sklearn.tree import DecisionTreeClassifier\n",
    "from sklearn.ensemble import RandomForestClassifier\n",
    "from sklearn.linear_model import Perceptron\n",
    "from sklearn.neural_network import MLPClassifier\n",
    "from sklearn.dummy import DummyClassifier\n",
    "from sklearn.linear_model import LogisticRegression"
   ]
  },
  {
   "cell_type": "code",
   "execution_count": 76,
   "metadata": {},
   "outputs": [],
   "source": [
    "# importing the data\n",
    "training_data = pd.read_csv('a2a_train_final.tsv', sep='\\t', header=None)\n",
    "# creating a list of lists with annotations\n",
    "ann = []\n",
    "for k in training_data[0]:\n",
    "    ann.append(k.split('/'))\n",
    "Y=[]\n",
    "for i in range(len(ann)):\n",
    "    l = ann[i]\n",
    "    try:\n",
    "        m = mode(l)\n",
    "        c = l.count(m)\n",
    "        if m==-1:\n",
    "            Y.append(None)\n",
    "        elif c/len(l) < 1:\n",
    "            Y.append(None)\n",
    "        #elif c<2:\n",
    "        #    Y.append(None)\n",
    "        else:\n",
    "            Y.append(mode(l))\n",
    "    except:\n",
    "        Y.append(None)\n",
    "X = training_data[1]\n",
    "#X_train, X_test, Y_train, Y_test = train_test_split(X, Y, test_size=0.3, random_state=0)"
   ]
  },
  {
   "cell_type": "code",
   "execution_count": 77,
   "metadata": {},
   "outputs": [
    {
     "name": "stdout",
     "output_type": "stream",
     "text": [
      "Among the 13517 in the full training dataset, the number of annotations of each comment was between 1 and 15\n"
     ]
    }
   ],
   "source": [
    "lengths = []\n",
    "for k in ann:\n",
    "    lengths.append(len(k))\n",
    "no_comments = len(training_data)\n",
    "max_annots = max(lengths)\n",
    "min_annots = min(lengths)\n",
    "\n",
    "print(f'Among the {no_comments} in the full training dataset, the number of annotations of each comment was between {min_annots} and {max_annots}')"
   ]
  },
  {
   "cell_type": "code",
   "execution_count": 78,
   "metadata": {},
   "outputs": [],
   "source": [
    "z = zip(X,Y)\n",
    "X_ = []\n",
    "Y_ = []\n",
    "for row in z:\n",
    "    x  = row[0]\n",
    "    y= row[1]\n",
    "    if (y == \"1\") or (y == \"0\"):\n",
    "        X_.append(x)\n",
    "        Y_.append(y)\n",
    "assert len(X_) == len(Y_)\n",
    "X_train, X_test, Y_train, Y_test = train_test_split(X_, Y_, test_size=0.3, random_state=0)"
   ]
  },
  {
   "cell_type": "code",
   "execution_count": 79,
   "metadata": {},
   "outputs": [
    {
     "data": {
      "text/plain": [
       "7703"
      ]
     },
     "execution_count": 79,
     "metadata": {},
     "output_type": "execute_result"
    }
   ],
   "source": [
    "'''Size of training data sample for different thresholds of agreement:\n",
    "0: 7966\n",
    "0.7: 7742\n",
    "0.9: 7704\n",
    "0.95: 7703\n",
    "1: 7703\n",
    "'''\n",
    "len(X_train)"
   ]
  },
  {
   "cell_type": "code",
   "execution_count": 64,
   "metadata": {},
   "outputs": [],
   "source": [
    "''' NOTE:\n",
    "This solution means that we loses a lot of data due to the fact that the following document instances are lost:\n",
    "* those where -1 was most common\n",
    "* those where there was a tie\n",
    "\n",
    "Further, I have not yet implemented any agreement test/assessment\n",
    "''';"
   ]
  },
  {
   "cell_type": "code",
   "execution_count": 65,
   "metadata": {},
   "outputs": [],
   "source": [
    "''' RANDOM STUFF THAT MAY BE USEFUL\n",
    "\n",
    "indices = [i for i, x in enumerate(Y) if x == None]\n",
    "\n",
    "def unique(list1): \n",
    "    x = np.array(list1) \n",
    "    print(np.unique(x))\n",
    "\n",
    "# selecting the most common as Y\n",
    "Y=[]\n",
    "for c in ann:\n",
    "    k = Counter(k).keys()\n",
    "    v = Counter(k).values()\n",
    "    i = v.index(max(v))\n",
    "    Y.append(k[i])\n",
    "''';"
   ]
  },
  {
   "cell_type": "markdown",
   "metadata": {},
   "source": [
    "## Comparing a couple of potential classifiers"
   ]
  },
  {
   "cell_type": "code",
   "execution_count": 80,
   "metadata": {},
   "outputs": [],
   "source": [
    "def train_document_classifier(X,Y, classifier):\n",
    "    pipeline = make_pipeline( TfidfVectorizer(), classifier)\n",
    "    pipeline.fit(X,Y)\n",
    "    return pipeline\n",
    "\n",
    "def compare_classifiers(clf_list, X_train, Y_train, X_test, Y_test):\n",
    "    for c in clf_list:\n",
    "        m_name = type(c).__name__\n",
    "        clf =  train_document_classifier(X_train, Y_train, c)\n",
    "        accuracy = accuracy_score(Y_test, clf.predict(X_test))\n",
    "        print(f'The accuracy of {m_name} on the test set is: {accuracy}')\n",
    "        plot_confusion_matrix(clf, X_test, Y_test, normalize='all')\n",
    "        plt.title(m_name)\n",
    "    return m_name, accuracy"
   ]
  },
  {
   "cell_type": "code",
   "execution_count": 68,
   "metadata": {},
   "outputs": [
    {
     "name": "stdout",
     "output_type": "stream",
     "text": [
      "The accuracy of SVC on the test set is: 0.8038656527249683\n",
      "The accuracy of DecisionTreeClassifier on the test set is: 0.673637515842839\n",
      "The accuracy of RandomForestClassifier on the test set is: 0.7633079847908745\n",
      "The accuracy of Perceptron on the test set is: 0.7604562737642585\n",
      "The accuracy of DummyClassifier on the test set is: 0.5202788339670469\n",
      "The accuracy of LogisticRegression on the test set is: 0.7991128010139417\n"
     ]
    },
    {
     "data": {
      "image/png": "[encoded data removed]",
      "text/plain": [
       "<Figure size 432x288 with 2 Axes>"
      ]
     },
     "metadata": {
      "needs_background": "light"
     },
     "output_type": "display_data"
    },
    {
     "data": {
      "image/png": "[encoded data removed]",
      "text/plain": [
       "<Figure size 432x288 with 2 Axes>"
      ]
     },
     "metadata": {
      "needs_background": "light"
     },
     "output_type": "display_data"
    },
    {
     "data": {
      "image/png": "[encoded data removed]",
      "text/plain": [
       "<Figure size 432x288 with 2 Axes>"
      ]
     },
     "metadata": {
      "needs_background": "light"
     },
     "output_type": "display_data"
    },
    {
     "data": {
      "image/png": "[encoded data removed]",
      "text/plain": [
       "<Figure size 432x288 with 2 Axes>"
      ]
     },
     "metadata": {
      "needs_background": "light"
     },
     "output_type": "display_data"
    },
    {
     "data": {
      "image/png": "[encoded data removed]",
      "text/plain": [
       "<Figure size 432x288 with 2 Axes>"
      ]
     },
     "metadata": {
      "needs_background": "light"
     },
     "output_type": "display_data"
    },
    {
     "data": {
      "image/png": "[encoded data removed]",
      "text/plain": [
       "<Figure size 432x288 with 2 Axes>"
      ]
     },
     "metadata": {
      "needs_background": "light"
     },
     "output_type": "display_data"
    }
   ],
   "source": [
    "# comparing a couple of classifiers\n",
    "clf_list = [SVC(random_state=0, kernel='linear'),\n",
    "            DecisionTreeClassifier(random_state=0),\n",
    "            RandomForestClassifier(n_jobs=-1, random_state=0),\n",
    "            Perceptron(n_jobs=-1, random_state=0),\n",
    "            #MLPClassifier(random_state=0),\n",
    "            DummyClassifier(strategy='most_frequent'),\n",
    "            LogisticRegression(random_state=0, n_jobs=-1)\n",
    "           ]\n",
    "\n",
    "compare_classifiers(clf_list, X_train, Y_train, X_test, Y_test);"
   ]
  },
  {
   "cell_type": "markdown",
   "metadata": {},
   "source": [
    "## Going further with the selected classifier"
   ]
  },
  {
   "cell_type": "markdown",
   "metadata": {},
   "source": [
    "Below, I will try to tune the hyperparameters for the selected model that scored best above."
   ]
  },
  {
   "cell_type": "code",
   "execution_count": 69,
   "metadata": {},
   "outputs": [
    {
     "name": "stdout",
     "output_type": "stream",
     "text": [
      "The accuracy of SVC on the test set is: 0.8038656527249683\n"
     ]
    },
    {
     "data": {
      "text/plain": [
       "GridSearchCV(cv=None, error_score=nan,\n",
       "             estimator=Pipeline(memory=None,\n",
       "                                steps=[('tfidfvectorizer',\n",
       "                                        TfidfVectorizer(analyzer='word',\n",
       "                                                        binary=False,\n",
       "                                                        decode_error='strict',\n",
       "                                                        dtype=<class 'numpy.float64'>,\n",
       "                                                        encoding='utf-8',\n",
       "                                                        input='content',\n",
       "                                                        lowercase=True,\n",
       "                                                        max_df=1.0,\n",
       "                                                        max_features=None,\n",
       "                                                        min_df=1,\n",
       "                                                        ngram_range=(1, 1),\n",
       "                                                        norm='l2',\n",
       "                                                        preprocessor=None,\n",
       "                                                        smooth_idf=True,\n",
       "                                                        stop_words=N...\n",
       "                                            decision_function_shape='ovr',\n",
       "                                            degree=3, gamma='scale',\n",
       "                                            kernel='linear', max_iter=-1,\n",
       "                                            probability=False, random_state=0,\n",
       "                                            shrinking=True, tol=0.001,\n",
       "                                            verbose=False))],\n",
       "                                verbose=False),\n",
       "             iid='deprecated', n_jobs=None,\n",
       "             param_grid={'C': [1, 10],\n",
       "                         'kernel': ('linear', 'poly', 'rbf', 'sigmoid')},\n",
       "             pre_dispatch='2*n_jobs', refit=True, return_train_score=False,\n",
       "             scoring=None, verbose=0)"
      ]
     },
     "execution_count": 69,
     "metadata": {},
     "output_type": "execute_result"
    }
   ],
   "source": [
    "model = SVC(random_state=0, kernel='linear')\n",
    "m_name = type(model).__name__\n",
    "clf =  train_document_classifier(X_train, Y_train, model)\n",
    "accuracy = accuracy_score(Y_test, clf.predict(X_test))\n",
    "print(f'The accuracy of {m_name} on the test set is: {accuracy}')\n",
    "\n",
    "parameters = {'kernel':('linear', 'poly', 'rbf', 'sigmoid'),\n",
    "             'C':[1,10]}\n",
    "GridSearchCV(clf, param_grid=parameters)"
   ]
  },
  {
   "cell_type": "markdown",
   "metadata": {},
   "source": [
    "## Testing on the final test set"
   ]
  },
  {
   "cell_type": "code",
   "execution_count": 70,
   "metadata": {},
   "outputs": [],
   "source": [
    "test_final = pd.read_csv('a2a_test_final.tsv', sep='\\t', header=None)\n",
    "X_final = test_final[1]\n",
    "Y_final = []\n",
    "for t in test_final[0]:\n",
    "    Y_final.append(str(t))\n",
    "assert len(Y_final) == len(X_final)"
   ]
  },
  {
   "cell_type": "code",
   "execution_count": 71,
   "metadata": {},
   "outputs": [],
   "source": [
    "#res = clf.predict(X_final)\n",
    "#print(res)\n",
    "#print(Y_final)"
   ]
  },
  {
   "cell_type": "code",
   "execution_count": 72,
   "metadata": {},
   "outputs": [
    {
     "name": "stdout",
     "output_type": "stream",
     "text": [
      "The accuracy of the Linear SVC on the final test set is: 0.7844827586206896\n"
     ]
    }
   ],
   "source": [
    "accuracy = accuracy_score(Y_final, clf.predict(X_final))\n",
    "print(f'The accuracy of the Linear SVC on the final test set is: {accuracy}')"
   ]
  }
 ],
 "metadata": {
  "kernelspec": {
   "display_name": "Python 3",
   "language": "python",
   "name": "python3"
  },
  "language_info": {
   "codemirror_mode": {
    "name": "ipython",
    "version": 3
   },
   "file_extension": ".py",
   "mimetype": "text/x-python",
   "name": "python",
   "nbconvert_exporter": "python",
   "pygments_lexer": "ipython3",
   "version": "3.7.6"
  }
 },
 "nbformat": 4,
 "nbformat_minor": 2
}
