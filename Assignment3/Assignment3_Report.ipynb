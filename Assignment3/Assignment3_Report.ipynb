{
 "cells": [
  {
   "cell_type": "markdown",
   "metadata": {},
   "source": [
    "# Programming Assignment 3\n",
    "by John Lindblad and Olle Lindgren"
   ]
  },
  {
   "cell_type": "markdown",
   "metadata": {},
   "source": [
    "## Introduction (does not need to be included in the report)"
   ]
  },
  {
   "cell_type": "code",
   "execution_count": 5,
   "metadata": {},
   "outputs": [],
   "source": [
    "from tensorflow.keras.preprocessing.image import ImageDataGenerator\n",
    "\n",
    "data_gen = ImageDataGenerator(rescale=1.0/255)"
   ]
  },
  {
   "cell_type": "code",
   "execution_count": 6,
   "metadata": {},
   "outputs": [
    {
     "name": "stdout",
     "output_type": "stream",
     "text": "Found 1601 images belonging to 2 classes.\n"
    }
   ],
   "source": [
    "imgdir = 'pa3_images' # or wherever you put them...\n",
    "img_size = 64\n",
    "batch_size = 1600\n",
    "\n",
    "train_generator = data_gen.flow_from_directory(\n",
    "        imgdir + '/train',\n",
    "        target_size=(img_size, img_size),\n",
    "        batch_size=batch_size,\n",
    "        class_mode='binary',\n",
    "        classes=['other', 'car'],\n",
    "        seed=12345,\n",
    "        shuffle=True)"
   ]
  },
  {
   "cell_type": "code",
   "execution_count": 7,
   "metadata": {},
   "outputs": [],
   "source": [
    "X_train, Y_train = train_generator.next()\n",
    "X_train.shape\n",
    "Y_train[4]\n",
    "\n",
    "img_width, img_height, img_depth = X_train[0].shape"
   ]
  },
  {
   "cell_type": "code",
   "execution_count": 8,
   "metadata": {},
   "outputs": [
    {
     "data": {
      "text/plain": "1600"
     },
     "execution_count": 8,
     "metadata": {},
     "output_type": "execute_result"
    }
   ],
   "source": [
    "len(X_train)"
   ]
  },
  {
   "cell_type": "code",
   "execution_count": 9,
   "metadata": {},
   "outputs": [
    {
     "data": {
      "image/png": "[encoded data removed]",
      "image/svg+xml": "<?xml version=\"1.0\" encoding=\"utf-8\" standalone=\"no\"?>\r\n<!DOCTYPE svg PUBLIC \"-//W3C//DTD SVG 1.1//EN\"\r\n  \"http://www.w3.org/Graphics/SVG/1.1/DTD/svg11.dtd\">\r\n<!-- Created with matplotlib (https://matplotlib.org/) -->\r\n<svg height=\"250.618594pt\" version=\"1.1\" viewBox=\"0 0 251.565 250.618594\" width=\"251.565pt\" xmlns=\"http://www.w3.org/2000/svg\" xmlns:xlink=\"http://www.w3.org/1999/xlink\">\r\n <defs>\r\n  <style type=\"text/css\">\r\n*{stroke-linecap:butt;stroke-linejoin:round;}\r\n  </style>\r\n </defs>\r\n <g id=\"figure_1\">\r\n  <g id=\"patch_1\">\r\n   <path d=\"M 0 250.618594 \r\nL 251.565 250.618594 \r\nL 251.565 0 \r\nL 0 0 \r\nz\r\n\" style=\"fill:none;\"/>\r\n  </g>\r\n  <g id=\"axes_1\">\r\n   <g id=\"patch_2\">\r\n    <path d=\"M 26.925 226.740469 \r\nL 244.365 226.740469 \r\nL 244.365 9.300469 \r\nL 26.925 9.300469 \r\nz\r\n\" style=\"fill:#ffffff;\"/>\r\n   </g>\r\n   <g clip-path=\"url(#p7b66d189d9)\">\r\n    <image height=\"218\" id=\"image252226fbb5\" transform=\"scale(1 -1)translate(0 -218)\" width=\"218\" x=\"26.925\" xlink:href=\"data:image/png;base64,\r\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\" y=\"-8.740469\"/>\r\n   </g>\r\n   <g id=\"matplotlib.axis_1\">\r\n    <g id=\"xtick_1\">\r\n     <g id=\"line2d_1\">\r\n      <defs>\r\n       <path d=\"M 0 0 \r\nL 0 3.5 \r\n\" id=\"m4e4205968a\" style=\"stroke:#000000;stroke-width:0.8;\"/>\r\n      </defs>\r\n      <g>\r\n       <use style=\"stroke:#000000;stroke-width:0.8;\" x=\"28.62375\" xlink:href=\"#m4e4205968a\" y=\"226.740469\"/>\r\n      </g>\r\n     </g>\r\n     <g id=\"text_1\">\r\n      <!-- 0 -->\r\n      <defs>\r\n       <path d=\"M 31.78125 66.40625 \r\nQ 24.171875 66.40625 20.328125 58.90625 \r\nQ 16.5 51.421875 16.5 36.375 \r\nQ 16.5 21.390625 20.328125 13.890625 \r\nQ 24.171875 6.390625 31.78125 6.390625 \r\nQ 39.453125 6.390625 43.28125 13.890625 \r\nQ 47.125 21.390625 47.125 36.375 \r\nQ 47.125 51.421875 43.28125 58.90625 \r\nQ 39.453125 66.40625 31.78125 66.40625 \r\nz\r\nM 31.78125 74.21875 \r\nQ 44.046875 74.21875 50.515625 64.515625 \r\nQ 56.984375 54.828125 56.984375 36.375 \r\nQ 56.984375 17.96875 50.515625 8.265625 \r\nQ 44.046875 -1.421875 31.78125 -1.421875 \r\nQ 19.53125 -1.421875 13.0625 8.265625 \r\nQ 6.59375 17.96875 6.59375 36.375 \r\nQ 6.59375 54.828125 13.0625 64.515625 \r\nQ 19.53125 74.21875 31.78125 74.21875 \r\nz\r\n\" id=\"DejaVuSans-48\"/>\r\n      </defs>\r\n      <g transform=\"translate(25.4425 241.338906)scale(0.1 -0.1)\">\r\n       <use xlink:href=\"#DejaVuSans-48\"/>\r\n      </g>\r\n     </g>\r\n    </g>\r\n    <g id=\"xtick_2\">\r\n     <g id=\"line2d_2\">\r\n      <g>\r\n       <use style=\"stroke:#000000;stroke-width:0.8;\" x=\"62.59875\" xlink:href=\"#m4e4205968a\" y=\"226.740469\"/>\r\n      </g>\r\n     </g>\r\n     <g id=\"text_2\">\r\n      <!-- 10 -->\r\n      <defs>\r\n       <path d=\"M 12.40625 8.296875 \r\nL 28.515625 8.296875 \r\nL 28.515625 63.921875 \r\nL 10.984375 60.40625 \r\nL 10.984375 69.390625 \r\nL 28.421875 72.90625 \r\nL 38.28125 72.90625 \r\nL 38.28125 8.296875 \r\nL 54.390625 8.296875 \r\nL 54.390625 0 \r\nL 12.40625 0 \r\nz\r\n\" id=\"DejaVuSans-49\"/>\r\n      </defs>\r\n      <g transform=\"translate(56.23625 241.338906)scale(0.1 -0.1)\">\r\n       <use xlink:href=\"#DejaVuSans-49\"/>\r\n       <use x=\"63.623047\" xlink:href=\"#DejaVuSans-48\"/>\r\n      </g>\r\n     </g>\r\n    </g>\r\n    <g id=\"xtick_3\">\r\n     <g id=\"line2d_3\">\r\n      <g>\r\n       <use style=\"stroke:#000000;stroke-width:0.8;\" x=\"96.57375\" xlink:href=\"#m4e4205968a\" y=\"226.740469\"/>\r\n      </g>\r\n     </g>\r\n     <g id=\"text_3\">\r\n      <!-- 20 -->\r\n      <defs>\r\n       <path d=\"M 19.1875 8.296875 \r\nL 53.609375 8.296875 \r\nL 53.609375 0 \r\nL 7.328125 0 \r\nL 7.328125 8.296875 \r\nQ 12.9375 14.109375 22.625 23.890625 \r\nQ 32.328125 33.6875 34.8125 36.53125 \r\nQ 39.546875 41.84375 41.421875 45.53125 \r\nQ 43.3125 49.21875 43.3125 52.78125 \r\nQ 43.3125 58.59375 39.234375 62.25 \r\nQ 35.15625 65.921875 28.609375 65.921875 \r\nQ 23.96875 65.921875 18.8125 64.3125 \r\nQ 13.671875 62.703125 7.8125 59.421875 \r\nL 7.8125 69.390625 \r\nQ 13.765625 71.78125 18.9375 73 \r\nQ 24.125 74.21875 28.421875 74.21875 \r\nQ 39.75 74.21875 46.484375 68.546875 \r\nQ 53.21875 62.890625 53.21875 53.421875 \r\nQ 53.21875 48.921875 51.53125 44.890625 \r\nQ 49.859375 40.875 45.40625 35.40625 \r\nQ 44.1875 33.984375 37.640625 27.21875 \r\nQ 31.109375 20.453125 19.1875 8.296875 \r\nz\r\n\" id=\"DejaVuSans-50\"/>\r\n      </defs>\r\n      <g transform=\"translate(90.21125 241.338906)scale(0.1 -0.1)\">\r\n       <use xlink:href=\"#DejaVuSans-50\"/>\r\n       <use x=\"63.623047\" xlink:href=\"#DejaVuSans-48\"/>\r\n      </g>\r\n     </g>\r\n    </g>\r\n    <g id=\"xtick_4\">\r\n     <g id=\"line2d_4\">\r\n      <g>\r\n       <use style=\"stroke:#000000;stroke-width:0.8;\" x=\"130.54875\" xlink:href=\"#m4e4205968a\" y=\"226.740469\"/>\r\n      </g>\r\n     </g>\r\n     <g id=\"text_4\">\r\n      <!-- 30 -->\r\n      <defs>\r\n       <path d=\"M 40.578125 39.3125 \r\nQ 47.65625 37.796875 51.625 33 \r\nQ 55.609375 28.21875 55.609375 21.1875 \r\nQ 55.609375 10.40625 48.1875 4.484375 \r\nQ 40.765625 -1.421875 27.09375 -1.421875 \r\nQ 22.515625 -1.421875 17.65625 -0.515625 \r\nQ 12.796875 0.390625 7.625 2.203125 \r\nL 7.625 11.71875 \r\nQ 11.71875 9.328125 16.59375 8.109375 \r\nQ 21.484375 6.890625 26.8125 6.890625 \r\nQ 36.078125 6.890625 40.9375 10.546875 \r\nQ 45.796875 14.203125 45.796875 21.1875 \r\nQ 45.796875 27.640625 41.28125 31.265625 \r\nQ 36.765625 34.90625 28.71875 34.90625 \r\nL 20.21875 34.90625 \r\nL 20.21875 43.015625 \r\nL 29.109375 43.015625 \r\nQ 36.375 43.015625 40.234375 45.921875 \r\nQ 44.09375 48.828125 44.09375 54.296875 \r\nQ 44.09375 59.90625 40.109375 62.90625 \r\nQ 36.140625 65.921875 28.71875 65.921875 \r\nQ 24.65625 65.921875 20.015625 65.03125 \r\nQ 15.375 64.15625 9.8125 62.3125 \r\nL 9.8125 71.09375 \r\nQ 15.4375 72.65625 20.34375 73.4375 \r\nQ 25.25 74.21875 29.59375 74.21875 \r\nQ 40.828125 74.21875 47.359375 69.109375 \r\nQ 53.90625 64.015625 53.90625 55.328125 \r\nQ 53.90625 49.265625 50.4375 45.09375 \r\nQ 46.96875 40.921875 40.578125 39.3125 \r\nz\r\n\" id=\"DejaVuSans-51\"/>\r\n      </defs>\r\n      <g transform=\"translate(124.18625 241.338906)scale(0.1 -0.1)\">\r\n       <use xlink:href=\"#DejaVuSans-51\"/>\r\n       <use x=\"63.623047\" xlink:href=\"#DejaVuSans-48\"/>\r\n      </g>\r\n     </g>\r\n    </g>\r\n    <g id=\"xtick_5\">\r\n     <g id=\"line2d_5\">\r\n      <g>\r\n       <use style=\"stroke:#000000;stroke-width:0.8;\" x=\"164.52375\" xlink:href=\"#m4e4205968a\" y=\"226.740469\"/>\r\n      </g>\r\n     </g>\r\n     <g id=\"text_5\">\r\n      <!-- 40 -->\r\n      <defs>\r\n       <path d=\"M 37.796875 64.3125 \r\nL 12.890625 25.390625 \r\nL 37.796875 25.390625 \r\nz\r\nM 35.203125 72.90625 \r\nL 47.609375 72.90625 \r\nL 47.609375 25.390625 \r\nL 58.015625 25.390625 \r\nL 58.015625 17.1875 \r\nL 47.609375 17.1875 \r\nL 47.609375 0 \r\nL 37.796875 0 \r\nL 37.796875 17.1875 \r\nL 4.890625 17.1875 \r\nL 4.890625 26.703125 \r\nz\r\n\" id=\"DejaVuSans-52\"/>\r\n      </defs>\r\n      <g transform=\"translate(158.16125 241.338906)scale(0.1 -0.1)\">\r\n       <use xlink:href=\"#DejaVuSans-52\"/>\r\n       <use x=\"63.623047\" xlink:href=\"#DejaVuSans-48\"/>\r\n      </g>\r\n     </g>\r\n    </g>\r\n    <g id=\"xtick_6\">\r\n     <g id=\"line2d_6\">\r\n      <g>\r\n       <use style=\"stroke:#000000;stroke-width:0.8;\" x=\"198.49875\" xlink:href=\"#m4e4205968a\" y=\"226.740469\"/>\r\n      </g>\r\n     </g>\r\n     <g id=\"text_6\">\r\n      <!-- 50 -->\r\n      <defs>\r\n       <path d=\"M 10.796875 72.90625 \r\nL 49.515625 72.90625 \r\nL 49.515625 64.59375 \r\nL 19.828125 64.59375 \r\nL 19.828125 46.734375 \r\nQ 21.96875 47.46875 24.109375 47.828125 \r\nQ 26.265625 48.1875 28.421875 48.1875 \r\nQ 40.625 48.1875 47.75 41.5 \r\nQ 54.890625 34.8125 54.890625 23.390625 \r\nQ 54.890625 11.625 47.5625 5.09375 \r\nQ 40.234375 -1.421875 26.90625 -1.421875 \r\nQ 22.3125 -1.421875 17.546875 -0.640625 \r\nQ 12.796875 0.140625 7.71875 1.703125 \r\nL 7.71875 11.625 \r\nQ 12.109375 9.234375 16.796875 8.0625 \r\nQ 21.484375 6.890625 26.703125 6.890625 \r\nQ 35.15625 6.890625 40.078125 11.328125 \r\nQ 45.015625 15.765625 45.015625 23.390625 \r\nQ 45.015625 31 40.078125 35.4375 \r\nQ 35.15625 39.890625 26.703125 39.890625 \r\nQ 22.75 39.890625 18.8125 39.015625 \r\nQ 14.890625 38.140625 10.796875 36.28125 \r\nz\r\n\" id=\"DejaVuSans-53\"/>\r\n      </defs>\r\n      <g transform=\"translate(192.13625 241.338906)scale(0.1 -0.1)\">\r\n       <use xlink:href=\"#DejaVuSans-53\"/>\r\n       <use x=\"63.623047\" xlink:href=\"#DejaVuSans-48\"/>\r\n      </g>\r\n     </g>\r\n    </g>\r\n    <g id=\"xtick_7\">\r\n     <g id=\"line2d_7\">\r\n      <g>\r\n       <use style=\"stroke:#000000;stroke-width:0.8;\" x=\"232.47375\" xlink:href=\"#m4e4205968a\" y=\"226.740469\"/>\r\n      </g>\r\n     </g>\r\n     <g id=\"text_7\">\r\n      <!-- 60 -->\r\n      <defs>\r\n       <path d=\"M 33.015625 40.375 \r\nQ 26.375 40.375 22.484375 35.828125 \r\nQ 18.609375 31.296875 18.609375 23.390625 \r\nQ 18.609375 15.53125 22.484375 10.953125 \r\nQ 26.375 6.390625 33.015625 6.390625 \r\nQ 39.65625 6.390625 43.53125 10.953125 \r\nQ 47.40625 15.53125 47.40625 23.390625 \r\nQ 47.40625 31.296875 43.53125 35.828125 \r\nQ 39.65625 40.375 33.015625 40.375 \r\nz\r\nM 52.59375 71.296875 \r\nL 52.59375 62.3125 \r\nQ 48.875 64.0625 45.09375 64.984375 \r\nQ 41.3125 65.921875 37.59375 65.921875 \r\nQ 27.828125 65.921875 22.671875 59.328125 \r\nQ 17.53125 52.734375 16.796875 39.40625 \r\nQ 19.671875 43.65625 24.015625 45.921875 \r\nQ 28.375 48.1875 33.59375 48.1875 \r\nQ 44.578125 48.1875 50.953125 41.515625 \r\nQ 57.328125 34.859375 57.328125 23.390625 \r\nQ 57.328125 12.15625 50.6875 5.359375 \r\nQ 44.046875 -1.421875 33.015625 -1.421875 \r\nQ 20.359375 -1.421875 13.671875 8.265625 \r\nQ 6.984375 17.96875 6.984375 36.375 \r\nQ 6.984375 53.65625 15.1875 63.9375 \r\nQ 23.390625 74.21875 37.203125 74.21875 \r\nQ 40.921875 74.21875 44.703125 73.484375 \r\nQ 48.484375 72.75 52.59375 71.296875 \r\nz\r\n\" id=\"DejaVuSans-54\"/>\r\n      </defs>\r\n      <g transform=\"translate(226.11125 241.338906)scale(0.1 -0.1)\">\r\n       <use xlink:href=\"#DejaVuSans-54\"/>\r\n       <use x=\"63.623047\" xlink:href=\"#DejaVuSans-48\"/>\r\n      </g>\r\n     </g>\r\n    </g>\r\n   </g>\r\n   <g id=\"matplotlib.axis_2\">\r\n    <g id=\"ytick_1\">\r\n     <g id=\"line2d_8\">\r\n      <defs>\r\n       <path d=\"M 0 0 \r\nL -3.5 0 \r\n\" id=\"m65a8118005\" style=\"stroke:#000000;stroke-width:0.8;\"/>\r\n      </defs>\r\n      <g>\r\n       <use style=\"stroke:#000000;stroke-width:0.8;\" x=\"26.925\" xlink:href=\"#m65a8118005\" y=\"10.999219\"/>\r\n      </g>\r\n     </g>\r\n     <g id=\"text_8\">\r\n      <!-- 0 -->\r\n      <g transform=\"translate(13.5625 14.798437)scale(0.1 -0.1)\">\r\n       <use xlink:href=\"#DejaVuSans-48\"/>\r\n      </g>\r\n     </g>\r\n    </g>\r\n    <g id=\"ytick_2\">\r\n     <g id=\"line2d_9\">\r\n      <g>\r\n       <use style=\"stroke:#000000;stroke-width:0.8;\" x=\"26.925\" xlink:href=\"#m65a8118005\" y=\"44.974219\"/>\r\n      </g>\r\n     </g>\r\n     <g id=\"text_9\">\r\n      <!-- 10 -->\r\n      <g transform=\"translate(7.2 48.773437)scale(0.1 -0.1)\">\r\n       <use xlink:href=\"#DejaVuSans-49\"/>\r\n       <use x=\"63.623047\" xlink:href=\"#DejaVuSans-48\"/>\r\n      </g>\r\n     </g>\r\n    </g>\r\n    <g id=\"ytick_3\">\r\n     <g id=\"line2d_10\">\r\n      <g>\r\n       <use style=\"stroke:#000000;stroke-width:0.8;\" x=\"26.925\" xlink:href=\"#m65a8118005\" y=\"78.949219\"/>\r\n      </g>\r\n     </g>\r\n     <g id=\"text_10\">\r\n      <!-- 20 -->\r\n      <g transform=\"translate(7.2 82.748437)scale(0.1 -0.1)\">\r\n       <use xlink:href=\"#DejaVuSans-50\"/>\r\n       <use x=\"63.623047\" xlink:href=\"#DejaVuSans-48\"/>\r\n      </g>\r\n     </g>\r\n    </g>\r\n    <g id=\"ytick_4\">\r\n     <g id=\"line2d_11\">\r\n      <g>\r\n       <use style=\"stroke:#000000;stroke-width:0.8;\" x=\"26.925\" xlink:href=\"#m65a8118005\" y=\"112.924219\"/>\r\n      </g>\r\n     </g>\r\n     <g id=\"text_11\">\r\n      <!-- 30 -->\r\n      <g transform=\"translate(7.2 116.723437)scale(0.1 -0.1)\">\r\n       <use xlink:href=\"#DejaVuSans-51\"/>\r\n       <use x=\"63.623047\" xlink:href=\"#DejaVuSans-48\"/>\r\n      </g>\r\n     </g>\r\n    </g>\r\n    <g id=\"ytick_5\">\r\n     <g id=\"line2d_12\">\r\n      <g>\r\n       <use style=\"stroke:#000000;stroke-width:0.8;\" x=\"26.925\" xlink:href=\"#m65a8118005\" y=\"146.899219\"/>\r\n      </g>\r\n     </g>\r\n     <g id=\"text_12\">\r\n      <!-- 40 -->\r\n      <g transform=\"translate(7.2 150.698437)scale(0.1 -0.1)\">\r\n       <use xlink:href=\"#DejaVuSans-52\"/>\r\n       <use x=\"63.623047\" xlink:href=\"#DejaVuSans-48\"/>\r\n      </g>\r\n     </g>\r\n    </g>\r\n    <g id=\"ytick_6\">\r\n     <g id=\"line2d_13\">\r\n      <g>\r\n       <use style=\"stroke:#000000;stroke-width:0.8;\" x=\"26.925\" xlink:href=\"#m65a8118005\" y=\"180.874219\"/>\r\n      </g>\r\n     </g>\r\n     <g id=\"text_13\">\r\n      <!-- 50 -->\r\n      <g transform=\"translate(7.2 184.673437)scale(0.1 -0.1)\">\r\n       <use xlink:href=\"#DejaVuSans-53\"/>\r\n       <use x=\"63.623047\" xlink:href=\"#DejaVuSans-48\"/>\r\n      </g>\r\n     </g>\r\n    </g>\r\n    <g id=\"ytick_7\">\r\n     <g id=\"line2d_14\">\r\n      <g>\r\n       <use style=\"stroke:#000000;stroke-width:0.8;\" x=\"26.925\" xlink:href=\"#m65a8118005\" y=\"214.849219\"/>\r\n      </g>\r\n     </g>\r\n     <g id=\"text_14\">\r\n      <!-- 60 -->\r\n      <g transform=\"translate(7.2 218.648437)scale(0.1 -0.1)\">\r\n       <use xlink:href=\"#DejaVuSans-54\"/>\r\n       <use x=\"63.623047\" xlink:href=\"#DejaVuSans-48\"/>\r\n      </g>\r\n     </g>\r\n    </g>\r\n   </g>\r\n   <g id=\"patch_3\">\r\n    <path d=\"M 26.925 226.740469 \r\nL 26.925 9.300469 \r\n\" style=\"fill:none;stroke:#000000;stroke-linecap:square;stroke-linejoin:miter;stroke-width:0.8;\"/>\r\n   </g>\r\n   <g id=\"patch_4\">\r\n    <path d=\"M 244.365 226.740469 \r\nL 244.365 9.300469 \r\n\" style=\"fill:none;stroke:#000000;stroke-linecap:square;stroke-linejoin:miter;stroke-width:0.8;\"/>\r\n   </g>\r\n   <g id=\"patch_5\">\r\n    <path d=\"M 26.925 226.740469 \r\nL 244.365 226.740469 \r\n\" style=\"fill:none;stroke:#000000;stroke-linecap:square;stroke-linejoin:miter;stroke-width:0.8;\"/>\r\n   </g>\r\n   <g id=\"patch_6\">\r\n    <path d=\"M 26.925 9.300469 \r\nL 244.365 9.300469 \r\n\" style=\"fill:none;stroke:#000000;stroke-linecap:square;stroke-linejoin:miter;stroke-width:0.8;\"/>\r\n   </g>\r\n  </g>\r\n </g>\r\n <defs>\r\n  <clipPath id=\"p7b66d189d9\">\r\n   <rect height=\"217.44\" width=\"217.44\" x=\"26.925\" y=\"9.300469\"/>\r\n  </clipPath>\r\n </defs>\r\n</svg>\r\n",
      "text/plain": "<Figure size 432x288 with 1 Axes>"
     },
     "metadata": {
      "needs_background": "light"
     },
     "output_type": "display_data"
    }
   ],
   "source": [
    "from matplotlib import pyplot as plt\n",
    "plt.imshow(X_train[4]);"
   ]
  },
  {
   "cell_type": "markdown",
   "metadata": {},
   "source": [
    "## Part 1: Training a convolutional neural network"
   ]
  },
  {
   "cell_type": "code",
   "execution_count": 10,
   "metadata": {},
   "outputs": [
    {
     "name": "stderr",
     "output_type": "stream",
     "text": "Using TensorFlow backend.\n"
    }
   ],
   "source": [
    "from keras.models import Sequential\n",
    "from keras.layers import Conv2D, MaxPooling2D\n",
    "from keras.layers import Dense, Flatten"
   ]
  },
  {
   "cell_type": "code",
   "execution_count": 11,
   "metadata": {},
   "outputs": [
    {
     "name": "stdout",
     "output_type": "stream",
     "text": "Found 576 images belonging to 2 classes.\n"
    }
   ],
   "source": [
    "val_generator = data_gen.flow_from_directory(\n",
    "        imgdir + '/validation',\n",
    "        target_size=(img_size, img_size),\n",
    "        batch_size=batch_size,\n",
    "        class_mode='binary',\n",
    "        classes=['other', 'car'],\n",
    "        seed=12345,\n",
    "        shuffle=True)"
   ]
  },
  {
   "cell_type": "code",
   "execution_count": 12,
   "metadata": {},
   "outputs": [],
   "source": [
    "X_val, Y_val = val_generator.next()\n",
    "#print(X_val.shape)\n",
    "#print(X_val[4])\n",
    "#print(Y_val[4])"
   ]
  },
  {
   "cell_type": "code",
   "execution_count": 13,
   "metadata": {},
   "outputs": [
    {
     "data": {
      "text/plain": "576"
     },
     "execution_count": 13,
     "metadata": {},
     "output_type": "execute_result"
    }
   ],
   "source": [
    "len(X_val)"
   ]
  },
  {
   "cell_type": "code",
   "execution_count": 14,
   "metadata": {},
   "outputs": [
    {
     "data": {
      "image/png": "[encoded data removed]",
      "image/svg+xml": "<?xml version=\"1.0\" encoding=\"utf-8\" standalone=\"no\"?>\r\n<!DOCTYPE svg PUBLIC \"-//W3C//DTD SVG 1.1//EN\"\r\n  \"http://www.w3.org/Graphics/SVG/1.1/DTD/svg11.dtd\">\r\n<!-- Created with matplotlib (https://matplotlib.org/) -->\r\n<svg height=\"250.618594pt\" version=\"1.1\" viewBox=\"0 0 251.565 250.618594\" width=\"251.565pt\" xmlns=\"http://www.w3.org/2000/svg\" xmlns:xlink=\"http://www.w3.org/1999/xlink\">\r\n <defs>\r\n  <style type=\"text/css\">\r\n*{stroke-linecap:butt;stroke-linejoin:round;}\r\n  </style>\r\n </defs>\r\n <g id=\"figure_1\">\r\n  <g id=\"patch_1\">\r\n   <path d=\"M 0 250.618594 \r\nL 251.565 250.618594 \r\nL 251.565 0 \r\nL 0 0 \r\nz\r\n\" style=\"fill:none;\"/>\r\n  </g>\r\n  <g id=\"axes_1\">\r\n   <g id=\"patch_2\">\r\n    <path d=\"M 26.925 226.740469 \r\nL 244.365 226.740469 \r\nL 244.365 9.300469 \r\nL 26.925 9.300469 \r\nz\r\n\" style=\"fill:#ffffff;\"/>\r\n   </g>\r\n   <g clip-path=\"url(#p8f1b06cc9c)\">\r\n    <image height=\"218\" id=\"imagecec15e7c9c\" transform=\"scale(1 -1)translate(0 -218)\" width=\"218\" x=\"26.925\" xlink:href=\"data:image/png;base64,\r\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\" y=\"-8.740469\"/>\r\n   </g>\r\n   <g id=\"matplotlib.axis_1\">\r\n    <g id=\"xtick_1\">\r\n     <g id=\"line2d_1\">\r\n      <defs>\r\n       <path d=\"M 0 0 \r\nL 0 3.5 \r\n\" id=\"mb0ce0b7db1\" style=\"stroke:#000000;stroke-width:0.8;\"/>\r\n      </defs>\r\n      <g>\r\n       <use style=\"stroke:#000000;stroke-width:0.8;\" x=\"28.62375\" xlink:href=\"#mb0ce0b7db1\" y=\"226.740469\"/>\r\n      </g>\r\n     </g>\r\n     <g id=\"text_1\">\r\n      <!-- 0 -->\r\n      <defs>\r\n       <path d=\"M 31.78125 66.40625 \r\nQ 24.171875 66.40625 20.328125 58.90625 \r\nQ 16.5 51.421875 16.5 36.375 \r\nQ 16.5 21.390625 20.328125 13.890625 \r\nQ 24.171875 6.390625 31.78125 6.390625 \r\nQ 39.453125 6.390625 43.28125 13.890625 \r\nQ 47.125 21.390625 47.125 36.375 \r\nQ 47.125 51.421875 43.28125 58.90625 \r\nQ 39.453125 66.40625 31.78125 66.40625 \r\nz\r\nM 31.78125 74.21875 \r\nQ 44.046875 74.21875 50.515625 64.515625 \r\nQ 56.984375 54.828125 56.984375 36.375 \r\nQ 56.984375 17.96875 50.515625 8.265625 \r\nQ 44.046875 -1.421875 31.78125 -1.421875 \r\nQ 19.53125 -1.421875 13.0625 8.265625 \r\nQ 6.59375 17.96875 6.59375 36.375 \r\nQ 6.59375 54.828125 13.0625 64.515625 \r\nQ 19.53125 74.21875 31.78125 74.21875 \r\nz\r\n\" id=\"DejaVuSans-48\"/>\r\n      </defs>\r\n      <g transform=\"translate(25.4425 241.338906)scale(0.1 -0.1)\">\r\n       <use xlink:href=\"#DejaVuSans-48\"/>\r\n      </g>\r\n     </g>\r\n    </g>\r\n    <g id=\"xtick_2\">\r\n     <g id=\"line2d_2\">\r\n      <g>\r\n       <use style=\"stroke:#000000;stroke-width:0.8;\" x=\"62.59875\" xlink:href=\"#mb0ce0b7db1\" y=\"226.740469\"/>\r\n      </g>\r\n     </g>\r\n     <g id=\"text_2\">\r\n      <!-- 10 -->\r\n      <defs>\r\n       <path d=\"M 12.40625 8.296875 \r\nL 28.515625 8.296875 \r\nL 28.515625 63.921875 \r\nL 10.984375 60.40625 \r\nL 10.984375 69.390625 \r\nL 28.421875 72.90625 \r\nL 38.28125 72.90625 \r\nL 38.28125 8.296875 \r\nL 54.390625 8.296875 \r\nL 54.390625 0 \r\nL 12.40625 0 \r\nz\r\n\" id=\"DejaVuSans-49\"/>\r\n      </defs>\r\n      <g transform=\"translate(56.23625 241.338906)scale(0.1 -0.1)\">\r\n       <use xlink:href=\"#DejaVuSans-49\"/>\r\n       <use x=\"63.623047\" xlink:href=\"#DejaVuSans-48\"/>\r\n      </g>\r\n     </g>\r\n    </g>\r\n    <g id=\"xtick_3\">\r\n     <g id=\"line2d_3\">\r\n      <g>\r\n       <use style=\"stroke:#000000;stroke-width:0.8;\" x=\"96.57375\" xlink:href=\"#mb0ce0b7db1\" y=\"226.740469\"/>\r\n      </g>\r\n     </g>\r\n     <g id=\"text_3\">\r\n      <!-- 20 -->\r\n      <defs>\r\n       <path d=\"M 19.1875 8.296875 \r\nL 53.609375 8.296875 \r\nL 53.609375 0 \r\nL 7.328125 0 \r\nL 7.328125 8.296875 \r\nQ 12.9375 14.109375 22.625 23.890625 \r\nQ 32.328125 33.6875 34.8125 36.53125 \r\nQ 39.546875 41.84375 41.421875 45.53125 \r\nQ 43.3125 49.21875 43.3125 52.78125 \r\nQ 43.3125 58.59375 39.234375 62.25 \r\nQ 35.15625 65.921875 28.609375 65.921875 \r\nQ 23.96875 65.921875 18.8125 64.3125 \r\nQ 13.671875 62.703125 7.8125 59.421875 \r\nL 7.8125 69.390625 \r\nQ 13.765625 71.78125 18.9375 73 \r\nQ 24.125 74.21875 28.421875 74.21875 \r\nQ 39.75 74.21875 46.484375 68.546875 \r\nQ 53.21875 62.890625 53.21875 53.421875 \r\nQ 53.21875 48.921875 51.53125 44.890625 \r\nQ 49.859375 40.875 45.40625 35.40625 \r\nQ 44.1875 33.984375 37.640625 27.21875 \r\nQ 31.109375 20.453125 19.1875 8.296875 \r\nz\r\n\" id=\"DejaVuSans-50\"/>\r\n      </defs>\r\n      <g transform=\"translate(90.21125 241.338906)scale(0.1 -0.1)\">\r\n       <use xlink:href=\"#DejaVuSans-50\"/>\r\n       <use x=\"63.623047\" xlink:href=\"#DejaVuSans-48\"/>\r\n      </g>\r\n     </g>\r\n    </g>\r\n    <g id=\"xtick_4\">\r\n     <g id=\"line2d_4\">\r\n      <g>\r\n       <use style=\"stroke:#000000;stroke-width:0.8;\" x=\"130.54875\" xlink:href=\"#mb0ce0b7db1\" y=\"226.740469\"/>\r\n      </g>\r\n     </g>\r\n     <g id=\"text_4\">\r\n      <!-- 30 -->\r\n      <defs>\r\n       <path d=\"M 40.578125 39.3125 \r\nQ 47.65625 37.796875 51.625 33 \r\nQ 55.609375 28.21875 55.609375 21.1875 \r\nQ 55.609375 10.40625 48.1875 4.484375 \r\nQ 40.765625 -1.421875 27.09375 -1.421875 \r\nQ 22.515625 -1.421875 17.65625 -0.515625 \r\nQ 12.796875 0.390625 7.625 2.203125 \r\nL 7.625 11.71875 \r\nQ 11.71875 9.328125 16.59375 8.109375 \r\nQ 21.484375 6.890625 26.8125 6.890625 \r\nQ 36.078125 6.890625 40.9375 10.546875 \r\nQ 45.796875 14.203125 45.796875 21.1875 \r\nQ 45.796875 27.640625 41.28125 31.265625 \r\nQ 36.765625 34.90625 28.71875 34.90625 \r\nL 20.21875 34.90625 \r\nL 20.21875 43.015625 \r\nL 29.109375 43.015625 \r\nQ 36.375 43.015625 40.234375 45.921875 \r\nQ 44.09375 48.828125 44.09375 54.296875 \r\nQ 44.09375 59.90625 40.109375 62.90625 \r\nQ 36.140625 65.921875 28.71875 65.921875 \r\nQ 24.65625 65.921875 20.015625 65.03125 \r\nQ 15.375 64.15625 9.8125 62.3125 \r\nL 9.8125 71.09375 \r\nQ 15.4375 72.65625 20.34375 73.4375 \r\nQ 25.25 74.21875 29.59375 74.21875 \r\nQ 40.828125 74.21875 47.359375 69.109375 \r\nQ 53.90625 64.015625 53.90625 55.328125 \r\nQ 53.90625 49.265625 50.4375 45.09375 \r\nQ 46.96875 40.921875 40.578125 39.3125 \r\nz\r\n\" id=\"DejaVuSans-51\"/>\r\n      </defs>\r\n      <g transform=\"translate(124.18625 241.338906)scale(0.1 -0.1)\">\r\n       <use xlink:href=\"#DejaVuSans-51\"/>\r\n       <use x=\"63.623047\" xlink:href=\"#DejaVuSans-48\"/>\r\n      </g>\r\n     </g>\r\n    </g>\r\n    <g id=\"xtick_5\">\r\n     <g id=\"line2d_5\">\r\n      <g>\r\n       <use style=\"stroke:#000000;stroke-width:0.8;\" x=\"164.52375\" xlink:href=\"#mb0ce0b7db1\" y=\"226.740469\"/>\r\n      </g>\r\n     </g>\r\n     <g id=\"text_5\">\r\n      <!-- 40 -->\r\n      <defs>\r\n       <path d=\"M 37.796875 64.3125 \r\nL 12.890625 25.390625 \r\nL 37.796875 25.390625 \r\nz\r\nM 35.203125 72.90625 \r\nL 47.609375 72.90625 \r\nL 47.609375 25.390625 \r\nL 58.015625 25.390625 \r\nL 58.015625 17.1875 \r\nL 47.609375 17.1875 \r\nL 47.609375 0 \r\nL 37.796875 0 \r\nL 37.796875 17.1875 \r\nL 4.890625 17.1875 \r\nL 4.890625 26.703125 \r\nz\r\n\" id=\"DejaVuSans-52\"/>\r\n      </defs>\r\n      <g transform=\"translate(158.16125 241.338906)scale(0.1 -0.1)\">\r\n       <use xlink:href=\"#DejaVuSans-52\"/>\r\n       <use x=\"63.623047\" xlink:href=\"#DejaVuSans-48\"/>\r\n      </g>\r\n     </g>\r\n    </g>\r\n    <g id=\"xtick_6\">\r\n     <g id=\"line2d_6\">\r\n      <g>\r\n       <use style=\"stroke:#000000;stroke-width:0.8;\" x=\"198.49875\" xlink:href=\"#mb0ce0b7db1\" y=\"226.740469\"/>\r\n      </g>\r\n     </g>\r\n     <g id=\"text_6\">\r\n      <!-- 50 -->\r\n      <defs>\r\n       <path d=\"M 10.796875 72.90625 \r\nL 49.515625 72.90625 \r\nL 49.515625 64.59375 \r\nL 19.828125 64.59375 \r\nL 19.828125 46.734375 \r\nQ 21.96875 47.46875 24.109375 47.828125 \r\nQ 26.265625 48.1875 28.421875 48.1875 \r\nQ 40.625 48.1875 47.75 41.5 \r\nQ 54.890625 34.8125 54.890625 23.390625 \r\nQ 54.890625 11.625 47.5625 5.09375 \r\nQ 40.234375 -1.421875 26.90625 -1.421875 \r\nQ 22.3125 -1.421875 17.546875 -0.640625 \r\nQ 12.796875 0.140625 7.71875 1.703125 \r\nL 7.71875 11.625 \r\nQ 12.109375 9.234375 16.796875 8.0625 \r\nQ 21.484375 6.890625 26.703125 6.890625 \r\nQ 35.15625 6.890625 40.078125 11.328125 \r\nQ 45.015625 15.765625 45.015625 23.390625 \r\nQ 45.015625 31 40.078125 35.4375 \r\nQ 35.15625 39.890625 26.703125 39.890625 \r\nQ 22.75 39.890625 18.8125 39.015625 \r\nQ 14.890625 38.140625 10.796875 36.28125 \r\nz\r\n\" id=\"DejaVuSans-53\"/>\r\n      </defs>\r\n      <g transform=\"translate(192.13625 241.338906)scale(0.1 -0.1)\">\r\n       <use xlink:href=\"#DejaVuSans-53\"/>\r\n       <use x=\"63.623047\" xlink:href=\"#DejaVuSans-48\"/>\r\n      </g>\r\n     </g>\r\n    </g>\r\n    <g id=\"xtick_7\">\r\n     <g id=\"line2d_7\">\r\n      <g>\r\n       <use style=\"stroke:#000000;stroke-width:0.8;\" x=\"232.47375\" xlink:href=\"#mb0ce0b7db1\" y=\"226.740469\"/>\r\n      </g>\r\n     </g>\r\n     <g id=\"text_7\">\r\n      <!-- 60 -->\r\n      <defs>\r\n       <path d=\"M 33.015625 40.375 \r\nQ 26.375 40.375 22.484375 35.828125 \r\nQ 18.609375 31.296875 18.609375 23.390625 \r\nQ 18.609375 15.53125 22.484375 10.953125 \r\nQ 26.375 6.390625 33.015625 6.390625 \r\nQ 39.65625 6.390625 43.53125 10.953125 \r\nQ 47.40625 15.53125 47.40625 23.390625 \r\nQ 47.40625 31.296875 43.53125 35.828125 \r\nQ 39.65625 40.375 33.015625 40.375 \r\nz\r\nM 52.59375 71.296875 \r\nL 52.59375 62.3125 \r\nQ 48.875 64.0625 45.09375 64.984375 \r\nQ 41.3125 65.921875 37.59375 65.921875 \r\nQ 27.828125 65.921875 22.671875 59.328125 \r\nQ 17.53125 52.734375 16.796875 39.40625 \r\nQ 19.671875 43.65625 24.015625 45.921875 \r\nQ 28.375 48.1875 33.59375 48.1875 \r\nQ 44.578125 48.1875 50.953125 41.515625 \r\nQ 57.328125 34.859375 57.328125 23.390625 \r\nQ 57.328125 12.15625 50.6875 5.359375 \r\nQ 44.046875 -1.421875 33.015625 -1.421875 \r\nQ 20.359375 -1.421875 13.671875 8.265625 \r\nQ 6.984375 17.96875 6.984375 36.375 \r\nQ 6.984375 53.65625 15.1875 63.9375 \r\nQ 23.390625 74.21875 37.203125 74.21875 \r\nQ 40.921875 74.21875 44.703125 73.484375 \r\nQ 48.484375 72.75 52.59375 71.296875 \r\nz\r\n\" id=\"DejaVuSans-54\"/>\r\n      </defs>\r\n      <g transform=\"translate(226.11125 241.338906)scale(0.1 -0.1)\">\r\n       <use xlink:href=\"#DejaVuSans-54\"/>\r\n       <use x=\"63.623047\" xlink:href=\"#DejaVuSans-48\"/>\r\n      </g>\r\n     </g>\r\n    </g>\r\n   </g>\r\n   <g id=\"matplotlib.axis_2\">\r\n    <g id=\"ytick_1\">\r\n     <g id=\"line2d_8\">\r\n      <defs>\r\n       <path d=\"M 0 0 \r\nL -3.5 0 \r\n\" id=\"me3d82fa097\" style=\"stroke:#000000;stroke-width:0.8;\"/>\r\n      </defs>\r\n      <g>\r\n       <use style=\"stroke:#000000;stroke-width:0.8;\" x=\"26.925\" xlink:href=\"#me3d82fa097\" y=\"10.999219\"/>\r\n      </g>\r\n     </g>\r\n     <g id=\"text_8\">\r\n      <!-- 0 -->\r\n      <g transform=\"translate(13.5625 14.798437)scale(0.1 -0.1)\">\r\n       <use xlink:href=\"#DejaVuSans-48\"/>\r\n      </g>\r\n     </g>\r\n    </g>\r\n    <g id=\"ytick_2\">\r\n     <g id=\"line2d_9\">\r\n      <g>\r\n       <use style=\"stroke:#000000;stroke-width:0.8;\" x=\"26.925\" xlink:href=\"#me3d82fa097\" y=\"44.974219\"/>\r\n      </g>\r\n     </g>\r\n     <g id=\"text_9\">\r\n      <!-- 10 -->\r\n      <g transform=\"translate(7.2 48.773437)scale(0.1 -0.1)\">\r\n       <use xlink:href=\"#DejaVuSans-49\"/>\r\n       <use x=\"63.623047\" xlink:href=\"#DejaVuSans-48\"/>\r\n      </g>\r\n     </g>\r\n    </g>\r\n    <g id=\"ytick_3\">\r\n     <g id=\"line2d_10\">\r\n      <g>\r\n       <use style=\"stroke:#000000;stroke-width:0.8;\" x=\"26.925\" xlink:href=\"#me3d82fa097\" y=\"78.949219\"/>\r\n      </g>\r\n     </g>\r\n     <g id=\"text_10\">\r\n      <!-- 20 -->\r\n      <g transform=\"translate(7.2 82.748437)scale(0.1 -0.1)\">\r\n       <use xlink:href=\"#DejaVuSans-50\"/>\r\n       <use x=\"63.623047\" xlink:href=\"#DejaVuSans-48\"/>\r\n      </g>\r\n     </g>\r\n    </g>\r\n    <g id=\"ytick_4\">\r\n     <g id=\"line2d_11\">\r\n      <g>\r\n       <use style=\"stroke:#000000;stroke-width:0.8;\" x=\"26.925\" xlink:href=\"#me3d82fa097\" y=\"112.924219\"/>\r\n      </g>\r\n     </g>\r\n     <g id=\"text_11\">\r\n      <!-- 30 -->\r\n      <g transform=\"translate(7.2 116.723437)scale(0.1 -0.1)\">\r\n       <use xlink:href=\"#DejaVuSans-51\"/>\r\n       <use x=\"63.623047\" xlink:href=\"#DejaVuSans-48\"/>\r\n      </g>\r\n     </g>\r\n    </g>\r\n    <g id=\"ytick_5\">\r\n     <g id=\"line2d_12\">\r\n      <g>\r\n       <use style=\"stroke:#000000;stroke-width:0.8;\" x=\"26.925\" xlink:href=\"#me3d82fa097\" y=\"146.899219\"/>\r\n      </g>\r\n     </g>\r\n     <g id=\"text_12\">\r\n      <!-- 40 -->\r\n      <g transform=\"translate(7.2 150.698437)scale(0.1 -0.1)\">\r\n       <use xlink:href=\"#DejaVuSans-52\"/>\r\n       <use x=\"63.623047\" xlink:href=\"#DejaVuSans-48\"/>\r\n      </g>\r\n     </g>\r\n    </g>\r\n    <g id=\"ytick_6\">\r\n     <g id=\"line2d_13\">\r\n      <g>\r\n       <use style=\"stroke:#000000;stroke-width:0.8;\" x=\"26.925\" xlink:href=\"#me3d82fa097\" y=\"180.874219\"/>\r\n      </g>\r\n     </g>\r\n     <g id=\"text_13\">\r\n      <!-- 50 -->\r\n      <g transform=\"translate(7.2 184.673437)scale(0.1 -0.1)\">\r\n       <use xlink:href=\"#DejaVuSans-53\"/>\r\n       <use x=\"63.623047\" xlink:href=\"#DejaVuSans-48\"/>\r\n      </g>\r\n     </g>\r\n    </g>\r\n    <g id=\"ytick_7\">\r\n     <g id=\"line2d_14\">\r\n      <g>\r\n       <use style=\"stroke:#000000;stroke-width:0.8;\" x=\"26.925\" xlink:href=\"#me3d82fa097\" y=\"214.849219\"/>\r\n      </g>\r\n     </g>\r\n     <g id=\"text_14\">\r\n      <!-- 60 -->\r\n      <g transform=\"translate(7.2 218.648437)scale(0.1 -0.1)\">\r\n       <use xlink:href=\"#DejaVuSans-54\"/>\r\n       <use x=\"63.623047\" xlink:href=\"#DejaVuSans-48\"/>\r\n      </g>\r\n     </g>\r\n    </g>\r\n   </g>\r\n   <g id=\"patch_3\">\r\n    <path d=\"M 26.925 226.740469 \r\nL 26.925 9.300469 \r\n\" style=\"fill:none;stroke:#000000;stroke-linecap:square;stroke-linejoin:miter;stroke-width:0.8;\"/>\r\n   </g>\r\n   <g id=\"patch_4\">\r\n    <path d=\"M 244.365 226.740469 \r\nL 244.365 9.300469 \r\n\" style=\"fill:none;stroke:#000000;stroke-linecap:square;stroke-linejoin:miter;stroke-width:0.8;\"/>\r\n   </g>\r\n   <g id=\"patch_5\">\r\n    <path d=\"M 26.925 226.740469 \r\nL 244.365 226.740469 \r\n\" style=\"fill:none;stroke:#000000;stroke-linecap:square;stroke-linejoin:miter;stroke-width:0.8;\"/>\r\n   </g>\r\n   <g id=\"patch_6\">\r\n    <path d=\"M 26.925 9.300469 \r\nL 244.365 9.300469 \r\n\" style=\"fill:none;stroke:#000000;stroke-linecap:square;stroke-linejoin:miter;stroke-width:0.8;\"/>\r\n   </g>\r\n  </g>\r\n </g>\r\n <defs>\r\n  <clipPath id=\"p8f1b06cc9c\">\r\n   <rect height=\"217.44\" width=\"217.44\" x=\"26.925\" y=\"9.300469\"/>\r\n  </clipPath>\r\n </defs>\r\n</svg>\r\n",
      "text/plain": "<Figure size 432x288 with 1 Axes>"
     },
     "metadata": {
      "needs_background": "light"
     },
     "output_type": "display_data"
    }
   ],
   "source": [
    "from matplotlib import pyplot as plt\n",
    "plt.imshow(X_val[4]);"
   ]
  },
  {
   "cell_type": "code",
   "execution_count": null,
   "metadata": {},
   "outputs": [],
   "source": [
    "def make_convnet():#x_train, y_train, x_val, y_val):\n",
    "    model = Sequential()\n",
    "    model.add(Conv2D(32, kernel_size=(5, 5), strides=(1, 1),\n",
    "                 activation='relu',\n",
    "                 input_shape=(img_width, img_height, img_depth))) # 1 or img_depth??\n",
    "    model.add(MaxPooling2D(pool_size=(2, 2), strides=(2, 2)))\n",
    "    model.add(Conv2D(64, (5, 5), activation='relu'))\n",
    "    model.add(MaxPooling2D(pool_size=(2, 2)))\n",
    "    model.add(Flatten())\n",
    "    model.add(Dense(128, activation='relu'))\n",
    "    model.add(Dense(1, activation='sigmoid')) # 2 classes: car or not car\n",
    "    model.compile(loss='binary_crossentropy',\n",
    "              optimizer='adam',\n",
    "              metrics=['accuracy'])\n",
    "    '''\n",
    "    model.fit(x_train, y_train,\n",
    "          batch_size=10,\n",
    "          epochs=10,\n",
    "          verbose=1,\n",
    "          validation_data=(x_val, y_val));\n",
    "    '''\n",
    "    return model"
   ]
  },
  {
   "cell_type": "code",
   "execution_count": 16,
   "metadata": {},
   "outputs": [
    {
     "name": "stdout",
     "output_type": "stream",
     "text": "(1600, 64, 64, 3)\n(1600,)\n(576, 64, 64, 3)\n(576,)\n1600\n"
    }
   ],
   "source": [
    "# debugging\n",
    "print(X_train.shape)\n",
    "print(Y_train.shape)\n",
    "print(X_val.shape)\n",
    "print(Y_val.shape)\n",
    "print(batch_size)"
   ]
  },
  {
   "cell_type": "code",
   "execution_count": 17,
   "metadata": {},
   "outputs": [],
   "source": [
    "import time\n",
    "from tensorflow.keras.callbacks import EarlyStopping\n",
    "def fit_convnet(model, X_train, Y_train, X_val, Y_val):\n",
    "    t0 = time.time()\n",
    "    es = EarlyStopping(monitor='val_loss', patience=3, restore_best_weights=True)\n",
    "    history = model.fit(X_train, Y_train,\n",
    "              batch_size=10, # 10 - 200?\n",
    "              epochs=10, # 10 - 2?\n",
    "              verbose=1,\n",
    "              validation_data=(X_val, Y_val))\n",
    "    model.save_weights('saved_weights') # don't know how to use this yet but it will probably save time\n",
    "    t1 = time.time()\n",
    "    print('Training time: {:.2f} sec.'.format(t1-t0))\n",
    "    return history"
   ]
  },
  {
   "cell_type": "code",
   "execution_count": 18,
   "metadata": {},
   "outputs": [
    {
     "name": "stdout",
     "output_type": "stream",
     "text": "Train on 1600 samples, validate on 576 samples\nEpoch 1/10\n1600/1600 [==============================] - 9s 6ms/step - loss: 0.6228 - accuracy: 0.6538 - val_loss: 0.6192 - val_accuracy: 0.6337\nEpoch 2/10\n1600/1600 [==============================] - 10s 6ms/step - loss: 0.5347 - accuracy: 0.7362 - val_loss: 0.5820 - val_accuracy: 0.7535\nEpoch 3/10\n1600/1600 [==============================] - 10s 6ms/step - loss: 0.4560 - accuracy: 0.7962 - val_loss: 0.5476 - val_accuracy: 0.7552\nEpoch 4/10\n1600/1600 [==============================] - 10s 6ms/step - loss: 0.4230 - accuracy: 0.8106 - val_loss: 0.5243 - val_accuracy: 0.7396\nEpoch 5/10\n1600/1600 [==============================] - 10s 6ms/step - loss: 0.3382 - accuracy: 0.8481 - val_loss: 0.6009 - val_accuracy: 0.7326\nEpoch 6/10\n1600/1600 [==============================] - 10s 6ms/step - loss: 0.2751 - accuracy: 0.8819 - val_loss: 0.7635 - val_accuracy: 0.7014\nEpoch 7/10\n1600/1600 [==============================] - 10s 6ms/step - loss: 0.1947 - accuracy: 0.9212 - val_loss: 0.8013 - val_accuracy: 0.7569\nEpoch 8/10\n1600/1600 [==============================] - 10s 6ms/step - loss: 0.1593 - accuracy: 0.9438 - val_loss: 0.8873 - val_accuracy: 0.7431\nEpoch 9/10\n1600/1600 [==============================] - 10s 6ms/step - loss: 0.1187 - accuracy: 0.9544 - val_loss: 1.0205 - val_accuracy: 0.7500\nEpoch 10/10\n1600/1600 [==============================] - 11s 7ms/step - loss: 0.0798 - accuracy: 0.9769 - val_loss: 1.2118 - val_accuracy: 0.7240\nTraining time: 100.03 sec.\n"
    }
   ],
   "source": [
    "model = make_convnet()\n",
    "history = fit_convnet(model, X_train, Y_train, X_val, Y_val)"
   ]
  },
  {
   "cell_type": "code",
   "execution_count": 19,
   "metadata": {},
   "outputs": [],
   "source": [
    "# not using this yet\n",
    "#history.load_weights('saved_weights')"
   ]
  },
  {
   "cell_type": "code",
   "execution_count": 42,
   "metadata": {},
   "outputs": [],
   "source": [
    "# cell to play around with visualization of training history and \"fitting\"-curves\n",
    "\n",
    "import matplotlib.pyplot as plt\n",
    "\n",
    "def plot_hist(history):\n",
    "    # Plot training & validation accuracy values\n",
    "    plt.plot(history.history['acc'])\n",
    "    plt.plot(history.history['val_acc'])\n",
    "    plt.title('Model accuracy')\n",
    "    plt.ylabel('Accuracy')\n",
    "    plt.xlabel('Epoch')\n",
    "    plt.legend(['Train', 'Test'], loc='upper left')\n",
    "    plt.show()\n",
    "\n",
    "    # Plot training & validation loss values\n",
    "    plt.plot(history.history['loss'])\n",
    "    plt.plot(history.history['val_loss'])\n",
    "    plt.title('Model loss')\n",
    "    plt.ylabel('Loss')\n",
    "    plt.xlabel('Epoch')\n",
    "    plt.legend(['Train', 'Test'], loc='upper left')\n",
    "    plt.show()\n",
    "    return None"
   ]
  },
  {
   "cell_type": "code",
   "execution_count": 43,
   "metadata": {},
   "outputs": [
    {
     "name": "stdout",
     "output_type": "stream",
     "text": "[[0]\n [0]\n [0]\n [0]\n [0]\n [1]\n [1]\n [1]\n [1]\n [0]]\n"
    }
   ],
   "source": [
    "# debugging\n",
    "guesses = model.predict_classes(X_val)\n",
    "print(guesses[:10])"
   ]
  },
  {
   "cell_type": "code",
   "execution_count": 22,
   "metadata": {},
   "outputs": [],
   "source": [
    "'''TO-DO:\n",
    "- create a function doing all this at once in order to make the testing of different augmentaion simpler\n",
    "\n",
    "''';"
   ]
  },
  {
   "cell_type": "markdown",
   "metadata": {},
   "source": [
    "## Part 2: Data augmentation"
   ]
  },
  {
   "cell_type": "code",
   "execution_count": 23,
   "metadata": {},
   "outputs": [],
   "source": [
    "data_gen_augmented = ImageDataGenerator(rescale=1.0/255, brightness_range = (0.0, 1.0))"
   ]
  },
  {
   "cell_type": "code",
   "execution_count": 24,
   "metadata": {},
   "outputs": [
    {
     "name": "stdout",
     "output_type": "stream",
     "text": "Found 1601 images belonging to 2 classes.\n"
    }
   ],
   "source": [
    "train_generator = data_gen_augmented.flow_from_directory(\n",
    "        imgdir + '/train',\n",
    "        target_size=(img_size, img_size),\n",
    "        batch_size=batch_size,\n",
    "        class_mode='binary',\n",
    "        classes=['other', 'car'],\n",
    "        seed=12345,\n",
    "        shuffle=True)"
   ]
  },
  {
   "cell_type": "code",
   "execution_count": 25,
   "metadata": {},
   "outputs": [],
   "source": [
    "X_train, Y_train = train_generator.next()"
   ]
  },
  {
   "cell_type": "code",
   "execution_count": 26,
   "metadata": {},
   "outputs": [
    {
     "name": "stdout",
     "output_type": "stream",
     "text": "Train on 1600 samples, validate on 576 samples\nEpoch 1/10\n1600/1600 [==============================] - 11s 7ms/step - loss: 0.6627 - accuracy: 0.6156 - val_loss: 0.6707 - val_accuracy: 0.6528\nEpoch 2/10\n1600/1600 [==============================] - 10s 6ms/step - loss: 0.5685 - accuracy: 0.7081 - val_loss: 0.6598 - val_accuracy: 0.6910\nEpoch 3/10\n1600/1600 [==============================] - 11s 7ms/step - loss: 0.5495 - accuracy: 0.7262 - val_loss: 0.6165 - val_accuracy: 0.7049\nEpoch 4/10\n1600/1600 [==============================] - 11s 7ms/step - loss: 0.4805 - accuracy: 0.7819 - val_loss: 0.5707 - val_accuracy: 0.7500\nEpoch 5/10\n1600/1600 [==============================] - 10s 7ms/step - loss: 0.4421 - accuracy: 0.7919 - val_loss: 0.5795 - val_accuracy: 0.7674\nEpoch 6/10\n1600/1600 [==============================] - 10s 7ms/step - loss: 0.3940 - accuracy: 0.8175 - val_loss: 0.6571 - val_accuracy: 0.7517\nEpoch 7/10\n1600/1600 [==============================] - 11s 7ms/step - loss: 0.3431 - accuracy: 0.8331 - val_loss: 0.7328 - val_accuracy: 0.7517\nEpoch 8/10\n1600/1600 [==============================] - 12s 7ms/step - loss: 0.3000 - accuracy: 0.8562 - val_loss: 1.0074 - val_accuracy: 0.7309\nEpoch 9/10\n1600/1600 [==============================] - 12s 8ms/step - loss: 0.2586 - accuracy: 0.8813 - val_loss: 1.0521 - val_accuracy: 0.7535\nEpoch 10/10\n1600/1600 [==============================] - 13s 8ms/step - loss: 0.1870 - accuracy: 0.9237 - val_loss: 1.2971 - val_accuracy: 0.7431\nTraining time: 111.71 sec.\n"
    }
   ],
   "source": [
    "model = make_convnet()\n",
    "history = fit_convnet(model, X_train, Y_train, X_val, Y_val)"
   ]
  },
  {
   "cell_type": "code",
   "execution_count": 27,
   "metadata": {},
   "outputs": [
    {
     "ename": "KeyError",
     "evalue": "'acc'",
     "output_type": "error",
     "traceback": [
      "\u001b[1;31m---------------------------------------------------------------------------\u001b[0m",
      "\u001b[1;31mKeyError\u001b[0m                                  Traceback (most recent call last)",
      "\u001b[1;32m<ipython-input-27-d7e20bb6ce33>\u001b[0m in \u001b[0;36m<module>\u001b[1;34m\u001b[0m\n\u001b[1;32m----> 1\u001b[1;33m \u001b[0mplot_hist\u001b[0m\u001b[1;33m(\u001b[0m\u001b[0mhistory\u001b[0m\u001b[1;33m)\u001b[0m\u001b[1;33m\u001b[0m\u001b[1;33m\u001b[0m\u001b[0m\n\u001b[0m",
      "\u001b[1;32m<ipython-input-20-be881c4179ad>\u001b[0m in \u001b[0;36mplot_hist\u001b[1;34m(history)\u001b[0m\n\u001b[0;32m      5\u001b[0m \u001b[1;32mdef\u001b[0m \u001b[0mplot_hist\u001b[0m\u001b[1;33m(\u001b[0m\u001b[0mhistory\u001b[0m\u001b[1;33m)\u001b[0m\u001b[1;33m:\u001b[0m\u001b[1;33m\u001b[0m\u001b[1;33m\u001b[0m\u001b[0m\n\u001b[0;32m      6\u001b[0m     \u001b[1;31m# Plot training & validation accuracy values\u001b[0m\u001b[1;33m\u001b[0m\u001b[1;33m\u001b[0m\u001b[1;33m\u001b[0m\u001b[0m\n\u001b[1;32m----> 7\u001b[1;33m     \u001b[0mplt\u001b[0m\u001b[1;33m.\u001b[0m\u001b[0mplot\u001b[0m\u001b[1;33m(\u001b[0m\u001b[0mhistory\u001b[0m\u001b[1;33m.\u001b[0m\u001b[0mhistory\u001b[0m\u001b[1;33m[\u001b[0m\u001b[1;34m'acc'\u001b[0m\u001b[1;33m]\u001b[0m\u001b[1;33m)\u001b[0m\u001b[1;33m\u001b[0m\u001b[1;33m\u001b[0m\u001b[0m\n\u001b[0m\u001b[0;32m      8\u001b[0m     \u001b[0mplt\u001b[0m\u001b[1;33m.\u001b[0m\u001b[0mplot\u001b[0m\u001b[1;33m(\u001b[0m\u001b[0mhistory\u001b[0m\u001b[1;33m.\u001b[0m\u001b[0mhistory\u001b[0m\u001b[1;33m[\u001b[0m\u001b[1;34m'val_acc'\u001b[0m\u001b[1;33m]\u001b[0m\u001b[1;33m)\u001b[0m\u001b[1;33m\u001b[0m\u001b[1;33m\u001b[0m\u001b[0m\n\u001b[0;32m      9\u001b[0m     \u001b[0mplt\u001b[0m\u001b[1;33m.\u001b[0m\u001b[0mtitle\u001b[0m\u001b[1;33m(\u001b[0m\u001b[1;34m'Model accuracy'\u001b[0m\u001b[1;33m)\u001b[0m\u001b[1;33m\u001b[0m\u001b[1;33m\u001b[0m\u001b[0m\n",
      "\u001b[1;31mKeyError\u001b[0m: 'acc'"
     ]
    }
   ],
   "source": [
    "plot_hist(history)"
   ]
  },
  {
   "cell_type": "markdown",
   "metadata": {},
   "source": [
    "## Optional task: Run your code on a high-performance machine"
   ]
  },
  {
   "cell_type": "code",
   "execution_count": null,
   "metadata": {},
   "outputs": [],
   "source": [
    "# NOT STARTED YET"
   ]
  },
  {
   "cell_type": "markdown",
   "metadata": {},
   "source": [
    "## Interlude: Applying a pre-trained convolutional neural network (should probably not be included in report)"
   ]
  },
  {
   "cell_type": "code",
   "execution_count": null,
   "metadata": {},
   "outputs": [],
   "source": [
    "# importing the VGG-16 model\n",
    "from tensorflow.keras import applications\n",
    "from tensorflow.keras.preprocessing.image import load_img, img_to_array\n",
    "from tensorflow.keras.applications.vgg16 import decode_predictions, preprocess_input\n",
    "\n",
    "vggmodel = applications.VGG16(weights='imagenet', include_top=True)"
   ]
  },
  {
   "cell_type": "code",
   "execution_count": null,
   "metadata": {},
   "outputs": [],
   "source": [
    "# loading an image\n",
    "img = load_img('apple.jpg', target_size=(224,224))\n",
    "plt.imshow(img);"
   ]
  },
  {
   "cell_type": "code",
   "execution_count": null,
   "metadata": {},
   "outputs": [],
   "source": [
    "# converting to numpy\n",
    "from keras.preprocessing.image import img_to_array\n",
    "arr = img_to_array(img);\n",
    "\n",
    "# process the array\n",
    "proc_arr = preprocess_input(arr)\n",
    "\n",
    "# reshape\n",
    "your_image = proc_arr.reshape(1, 224, 224, 3)"
   ]
  },
  {
   "cell_type": "code",
   "execution_count": null,
   "metadata": {},
   "outputs": [],
   "source": [
    "pred = vggmodel.predict(your_image)\n",
    "print('Predicted:', decode_predictions(pred, top=10)[0])"
   ]
  },
  {
   "cell_type": "markdown",
   "metadata": {},
   "source": [
    "## Part 3: Using VGG-16 as a feature extractor"
   ]
  },
  {
   "cell_type": "code",
   "execution_count": 44,
   "metadata": {},
   "outputs": [],
   "source": [
    "# imports\n",
    "from tensorflow.keras import applications\n",
    "from tensorflow.keras.preprocessing.image import ImageDataGenerator\n",
    "from tensorflow.keras.applications.vgg16 import decode_predictions, preprocess_input\n",
    "\n",
    "# random setup stuff\n",
    "img_size=64\n",
    "imgdir = 'pa3_images'\n",
    "batch_size=1600"
   ]
  },
  {
   "cell_type": "code",
   "execution_count": 45,
   "metadata": {},
   "outputs": [],
   "source": [
    "feature_extractor = applications.VGG16(include_top=False, weights='imagenet',\n",
    "                                       input_shape=(img_size, img_size, 3))"
   ]
  },
  {
   "cell_type": "code",
   "execution_count": 46,
   "metadata": {},
   "outputs": [],
   "source": [
    "vgg_data_gen = ImageDataGenerator(preprocessing_function=preprocess_input)"
   ]
  },
  {
   "cell_type": "code",
   "execution_count": 47,
   "metadata": {},
   "outputs": [],
   "source": [
    "import numpy as np\n",
    "\n",
    "def create_vgg16_features(directory, filename):\n",
    "    \n",
    "    val_generator = vgg_data_gen.flow_from_directory(\n",
    "        imgdir + directory,\n",
    "        target_size=(img_size, img_size),\n",
    "        batch_size=batch_size,\n",
    "        class_mode='binary',\n",
    "        classes=['other', 'car'],\n",
    "        seed=12345,\n",
    "        shuffle=False)\n",
    "    \n",
    "    X_set, Y_set = val_generator.next()\n",
    "    \n",
    "    #img_width, img_height, img_depth = X_train[0].shape\n",
    "    \n",
    "    cnn_features = feature_extractor.predict(X_set) \n",
    "    \n",
    "    #print(cnn_features)\n",
    "    \n",
    "    with open(filename, 'wb') as f:\n",
    "      np.save(f, cnn_features)\n",
    "    \n",
    "    return None"
   ]
  },
  {
   "cell_type": "code",
   "execution_count": null,
   "metadata": {},
   "outputs": [],
   "source": [
    "dir_val = '/validation'\n",
    "dir_train = '/train'\n",
    "file_val = 'val_file'\n",
    "file_train = 'train_file'\n",
    "create_vgg16_features(dir_train, file_train)"
   ]
  },
  {
   "cell_type": "code",
   "execution_count": 48,
   "metadata": {},
   "outputs": [
    {
     "name": "stdout",
     "output_type": "stream",
     "text": "Found 576 images belonging to 2 classes.\n"
    }
   ],
   "source": [
    "create_vgg16_features(dir_val, file_val)"
   ]
  },
  {
   "cell_type": "code",
   "execution_count": 49,
   "metadata": {},
   "outputs": [],
   "source": [
    "def train_on_cnnfeatures():\n",
    "    \n",
    "    with open('train_file', 'rb') as f:\n",
    "        train_data = np.load(f)\n",
    "    \n",
    "    with open('val_file', 'rb') as f:\n",
    "        val_data = np.load(f)\n",
    "        \n",
    "    return None"
   ]
  },
  {
   "cell_type": "code",
   "execution_count": 50,
   "metadata": {},
   "outputs": [],
   "source": [
    "train_on_cnnfeatures()"
   ]
  },
  {
   "cell_type": "markdown",
   "metadata": {},
   "source": [
    "# 3: VGG-16 as Feature Extractor"
   ]
  },
  {
   "cell_type": "code",
   "execution_count": 54,
   "metadata": {},
   "outputs": [],
   "source": [
    "feature_extractor = applications.VGG16(include_top=False, weights='imagenet',\n",
    "                                       input_shape=(img_size, img_size, 3))\n",
    "vgg_data_gen = ImageDataGenerator(preprocessing_function=preprocess_input)"
   ]
  },
  {
   "cell_type": "code",
   "execution_count": 56,
   "metadata": {},
   "outputs": [
    {
     "name": "stdout",
     "output_type": "stream",
     "text": "Found 1601 images belonging to 2 classes.\n"
    }
   ],
   "source": [
    "imgdir = 'pa3_images' # or wherever you put them...\n",
    "img_size = 64\n",
    "feature_extractor = applications.VGG16(include_top=False, weights='imagenet',\n",
    "                                       input_shape=(img_size, img_size, 3))\n",
    "vgg_data_gen = ImageDataGenerator(preprocessing_function=preprocess_input)\n",
    "\n",
    "train_or_test = 'train'\n",
    "batch_size = 1600\n",
    "vgg16_generator = vgg_data_gen.flow_from_directory(\n",
    "        imgdir + '/' + 'train',\n",
    "        target_size=(img_size, img_size),\n",
    "        batch_size=batch_size,\n",
    "        class_mode='binary',\n",
    "        classes=['other', 'car'],\n",
    "        seed=12345,\n",
    "        shuffle=False)"
   ]
  },
  {
   "cell_type": "code",
   "execution_count": 57,
   "metadata": {},
   "outputs": [],
   "source": [
    "X_train, Y_train = train_generator.next()\n",
    "X_train.shape\n",
    "Y_train[4]\n",
    "\n",
    "img_width, img_height, img_depth = X_train[0].shape"
   ]
  },
  {
   "cell_type": "code",
   "execution_count": 78,
   "metadata": {},
   "outputs": [
    {
     "name": "stderr",
     "output_type": "stream",
     "text": "Clipping input data to the valid range for imshow with RGB data ([0..1] for floats or [0..255] for integers).\nA car\n"
    },
    {
     "data": {
      "image/png": "[encoded data removed]",
      "image/svg+xml": "<?xml version=\"1.0\" encoding=\"utf-8\" standalone=\"no\"?>\r\n<!DOCTYPE svg PUBLIC \"-//W3C//DTD SVG 1.1//EN\"\r\n  \"http://www.w3.org/Graphics/SVG/1.1/DTD/svg11.dtd\">\r\n<!-- Created with matplotlib (https://matplotlib.org/) -->\r\n<svg height=\"250.618594pt\" version=\"1.1\" viewBox=\"0 0 251.565 250.618594\" width=\"251.565pt\" xmlns=\"http://www.w3.org/2000/svg\" xmlns:xlink=\"http://www.w3.org/1999/xlink\">\r\n <defs>\r\n  <style type=\"text/css\">\r\n*{stroke-linecap:butt;stroke-linejoin:round;}\r\n  </style>\r\n </defs>\r\n <g id=\"figure_1\">\r\n  <g id=\"patch_1\">\r\n   <path d=\"M 0 250.618594 \r\nL 251.565 250.618594 \r\nL 251.565 0 \r\nL 0 0 \r\nz\r\n\" style=\"fill:none;\"/>\r\n  </g>\r\n  <g id=\"axes_1\">\r\n   <g id=\"patch_2\">\r\n    <path d=\"M 26.925 226.740469 \r\nL 244.365 226.740469 \r\nL 244.365 9.300469 \r\nL 26.925 9.300469 \r\nz\r\n\" style=\"fill:#ffffff;\"/>\r\n   </g>\r\n   <g clip-path=\"url(#p4ca29b9978)\">\r\n    <image height=\"218\" id=\"image2ebcb63d27\" transform=\"scale(1 -1)translate(0 -218)\" width=\"218\" x=\"26.925\" xlink:href=\"data:image/png;base64,\r\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\" y=\"-8.740469\"/>\r\n   </g>\r\n   <g id=\"matplotlib.axis_1\">\r\n    <g id=\"xtick_1\">\r\n     <g id=\"line2d_1\">\r\n      <defs>\r\n       <path d=\"M 0 0 \r\nL 0 3.5 \r\n\" id=\"m7cbde748ed\" style=\"stroke:#000000;stroke-width:0.8;\"/>\r\n      </defs>\r\n      <g>\r\n       <use style=\"stroke:#000000;stroke-width:0.8;\" x=\"28.62375\" xlink:href=\"#m7cbde748ed\" y=\"226.740469\"/>\r\n      </g>\r\n     </g>\r\n     <g id=\"text_1\">\r\n      <!-- 0 -->\r\n      <defs>\r\n       <path d=\"M 31.78125 66.40625 \r\nQ 24.171875 66.40625 20.328125 58.90625 \r\nQ 16.5 51.421875 16.5 36.375 \r\nQ 16.5 21.390625 20.328125 13.890625 \r\nQ 24.171875 6.390625 31.78125 6.390625 \r\nQ 39.453125 6.390625 43.28125 13.890625 \r\nQ 47.125 21.390625 47.125 36.375 \r\nQ 47.125 51.421875 43.28125 58.90625 \r\nQ 39.453125 66.40625 31.78125 66.40625 \r\nz\r\nM 31.78125 74.21875 \r\nQ 44.046875 74.21875 50.515625 64.515625 \r\nQ 56.984375 54.828125 56.984375 36.375 \r\nQ 56.984375 17.96875 50.515625 8.265625 \r\nQ 44.046875 -1.421875 31.78125 -1.421875 \r\nQ 19.53125 -1.421875 13.0625 8.265625 \r\nQ 6.59375 17.96875 6.59375 36.375 \r\nQ 6.59375 54.828125 13.0625 64.515625 \r\nQ 19.53125 74.21875 31.78125 74.21875 \r\nz\r\n\" id=\"DejaVuSans-48\"/>\r\n      </defs>\r\n      <g transform=\"translate(25.4425 241.338906)scale(0.1 -0.1)\">\r\n       <use xlink:href=\"#DejaVuSans-48\"/>\r\n      </g>\r\n     </g>\r\n    </g>\r\n    <g id=\"xtick_2\">\r\n     <g id=\"line2d_2\">\r\n      <g>\r\n       <use style=\"stroke:#000000;stroke-width:0.8;\" x=\"62.59875\" xlink:href=\"#m7cbde748ed\" y=\"226.740469\"/>\r\n      </g>\r\n     </g>\r\n     <g id=\"text_2\">\r\n      <!-- 10 -->\r\n      <defs>\r\n       <path d=\"M 12.40625 8.296875 \r\nL 28.515625 8.296875 \r\nL 28.515625 63.921875 \r\nL 10.984375 60.40625 \r\nL 10.984375 69.390625 \r\nL 28.421875 72.90625 \r\nL 38.28125 72.90625 \r\nL 38.28125 8.296875 \r\nL 54.390625 8.296875 \r\nL 54.390625 0 \r\nL 12.40625 0 \r\nz\r\n\" id=\"DejaVuSans-49\"/>\r\n      </defs>\r\n      <g transform=\"translate(56.23625 241.338906)scale(0.1 -0.1)\">\r\n       <use xlink:href=\"#DejaVuSans-49\"/>\r\n       <use x=\"63.623047\" xlink:href=\"#DejaVuSans-48\"/>\r\n      </g>\r\n     </g>\r\n    </g>\r\n    <g id=\"xtick_3\">\r\n     <g id=\"line2d_3\">\r\n      <g>\r\n       <use style=\"stroke:#000000;stroke-width:0.8;\" x=\"96.57375\" xlink:href=\"#m7cbde748ed\" y=\"226.740469\"/>\r\n      </g>\r\n     </g>\r\n     <g id=\"text_3\">\r\n      <!-- 20 -->\r\n      <defs>\r\n       <path d=\"M 19.1875 8.296875 \r\nL 53.609375 8.296875 \r\nL 53.609375 0 \r\nL 7.328125 0 \r\nL 7.328125 8.296875 \r\nQ 12.9375 14.109375 22.625 23.890625 \r\nQ 32.328125 33.6875 34.8125 36.53125 \r\nQ 39.546875 41.84375 41.421875 45.53125 \r\nQ 43.3125 49.21875 43.3125 52.78125 \r\nQ 43.3125 58.59375 39.234375 62.25 \r\nQ 35.15625 65.921875 28.609375 65.921875 \r\nQ 23.96875 65.921875 18.8125 64.3125 \r\nQ 13.671875 62.703125 7.8125 59.421875 \r\nL 7.8125 69.390625 \r\nQ 13.765625 71.78125 18.9375 73 \r\nQ 24.125 74.21875 28.421875 74.21875 \r\nQ 39.75 74.21875 46.484375 68.546875 \r\nQ 53.21875 62.890625 53.21875 53.421875 \r\nQ 53.21875 48.921875 51.53125 44.890625 \r\nQ 49.859375 40.875 45.40625 35.40625 \r\nQ 44.1875 33.984375 37.640625 27.21875 \r\nQ 31.109375 20.453125 19.1875 8.296875 \r\nz\r\n\" id=\"DejaVuSans-50\"/>\r\n      </defs>\r\n      <g transform=\"translate(90.21125 241.338906)scale(0.1 -0.1)\">\r\n       <use xlink:href=\"#DejaVuSans-50\"/>\r\n       <use x=\"63.623047\" xlink:href=\"#DejaVuSans-48\"/>\r\n      </g>\r\n     </g>\r\n    </g>\r\n    <g id=\"xtick_4\">\r\n     <g id=\"line2d_4\">\r\n      <g>\r\n       <use style=\"stroke:#000000;stroke-width:0.8;\" x=\"130.54875\" xlink:href=\"#m7cbde748ed\" y=\"226.740469\"/>\r\n      </g>\r\n     </g>\r\n     <g id=\"text_4\">\r\n      <!-- 30 -->\r\n      <defs>\r\n       <path d=\"M 40.578125 39.3125 \r\nQ 47.65625 37.796875 51.625 33 \r\nQ 55.609375 28.21875 55.609375 21.1875 \r\nQ 55.609375 10.40625 48.1875 4.484375 \r\nQ 40.765625 -1.421875 27.09375 -1.421875 \r\nQ 22.515625 -1.421875 17.65625 -0.515625 \r\nQ 12.796875 0.390625 7.625 2.203125 \r\nL 7.625 11.71875 \r\nQ 11.71875 9.328125 16.59375 8.109375 \r\nQ 21.484375 6.890625 26.8125 6.890625 \r\nQ 36.078125 6.890625 40.9375 10.546875 \r\nQ 45.796875 14.203125 45.796875 21.1875 \r\nQ 45.796875 27.640625 41.28125 31.265625 \r\nQ 36.765625 34.90625 28.71875 34.90625 \r\nL 20.21875 34.90625 \r\nL 20.21875 43.015625 \r\nL 29.109375 43.015625 \r\nQ 36.375 43.015625 40.234375 45.921875 \r\nQ 44.09375 48.828125 44.09375 54.296875 \r\nQ 44.09375 59.90625 40.109375 62.90625 \r\nQ 36.140625 65.921875 28.71875 65.921875 \r\nQ 24.65625 65.921875 20.015625 65.03125 \r\nQ 15.375 64.15625 9.8125 62.3125 \r\nL 9.8125 71.09375 \r\nQ 15.4375 72.65625 20.34375 73.4375 \r\nQ 25.25 74.21875 29.59375 74.21875 \r\nQ 40.828125 74.21875 47.359375 69.109375 \r\nQ 53.90625 64.015625 53.90625 55.328125 \r\nQ 53.90625 49.265625 50.4375 45.09375 \r\nQ 46.96875 40.921875 40.578125 39.3125 \r\nz\r\n\" id=\"DejaVuSans-51\"/>\r\n      </defs>\r\n      <g transform=\"translate(124.18625 241.338906)scale(0.1 -0.1)\">\r\n       <use xlink:href=\"#DejaVuSans-51\"/>\r\n       <use x=\"63.623047\" xlink:href=\"#DejaVuSans-48\"/>\r\n      </g>\r\n     </g>\r\n    </g>\r\n    <g id=\"xtick_5\">\r\n     <g id=\"line2d_5\">\r\n      <g>\r\n       <use style=\"stroke:#000000;stroke-width:0.8;\" x=\"164.52375\" xlink:href=\"#m7cbde748ed\" y=\"226.740469\"/>\r\n      </g>\r\n     </g>\r\n     <g id=\"text_5\">\r\n      <!-- 40 -->\r\n      <defs>\r\n       <path d=\"M 37.796875 64.3125 \r\nL 12.890625 25.390625 \r\nL 37.796875 25.390625 \r\nz\r\nM 35.203125 72.90625 \r\nL 47.609375 72.90625 \r\nL 47.609375 25.390625 \r\nL 58.015625 25.390625 \r\nL 58.015625 17.1875 \r\nL 47.609375 17.1875 \r\nL 47.609375 0 \r\nL 37.796875 0 \r\nL 37.796875 17.1875 \r\nL 4.890625 17.1875 \r\nL 4.890625 26.703125 \r\nz\r\n\" id=\"DejaVuSans-52\"/>\r\n      </defs>\r\n      <g transform=\"translate(158.16125 241.338906)scale(0.1 -0.1)\">\r\n       <use xlink:href=\"#DejaVuSans-52\"/>\r\n       <use x=\"63.623047\" xlink:href=\"#DejaVuSans-48\"/>\r\n      </g>\r\n     </g>\r\n    </g>\r\n    <g id=\"xtick_6\">\r\n     <g id=\"line2d_6\">\r\n      <g>\r\n       <use style=\"stroke:#000000;stroke-width:0.8;\" x=\"198.49875\" xlink:href=\"#m7cbde748ed\" y=\"226.740469\"/>\r\n      </g>\r\n     </g>\r\n     <g id=\"text_6\">\r\n      <!-- 50 -->\r\n      <defs>\r\n       <path d=\"M 10.796875 72.90625 \r\nL 49.515625 72.90625 \r\nL 49.515625 64.59375 \r\nL 19.828125 64.59375 \r\nL 19.828125 46.734375 \r\nQ 21.96875 47.46875 24.109375 47.828125 \r\nQ 26.265625 48.1875 28.421875 48.1875 \r\nQ 40.625 48.1875 47.75 41.5 \r\nQ 54.890625 34.8125 54.890625 23.390625 \r\nQ 54.890625 11.625 47.5625 5.09375 \r\nQ 40.234375 -1.421875 26.90625 -1.421875 \r\nQ 22.3125 -1.421875 17.546875 -0.640625 \r\nQ 12.796875 0.140625 7.71875 1.703125 \r\nL 7.71875 11.625 \r\nQ 12.109375 9.234375 16.796875 8.0625 \r\nQ 21.484375 6.890625 26.703125 6.890625 \r\nQ 35.15625 6.890625 40.078125 11.328125 \r\nQ 45.015625 15.765625 45.015625 23.390625 \r\nQ 45.015625 31 40.078125 35.4375 \r\nQ 35.15625 39.890625 26.703125 39.890625 \r\nQ 22.75 39.890625 18.8125 39.015625 \r\nQ 14.890625 38.140625 10.796875 36.28125 \r\nz\r\n\" id=\"DejaVuSans-53\"/>\r\n      </defs>\r\n      <g transform=\"translate(192.13625 241.338906)scale(0.1 -0.1)\">\r\n       <use xlink:href=\"#DejaVuSans-53\"/>\r\n       <use x=\"63.623047\" xlink:href=\"#DejaVuSans-48\"/>\r\n      </g>\r\n     </g>\r\n    </g>\r\n    <g id=\"xtick_7\">\r\n     <g id=\"line2d_7\">\r\n      <g>\r\n       <use style=\"stroke:#000000;stroke-width:0.8;\" x=\"232.47375\" xlink:href=\"#m7cbde748ed\" y=\"226.740469\"/>\r\n      </g>\r\n     </g>\r\n     <g id=\"text_7\">\r\n      <!-- 60 -->\r\n      <defs>\r\n       <path d=\"M 33.015625 40.375 \r\nQ 26.375 40.375 22.484375 35.828125 \r\nQ 18.609375 31.296875 18.609375 23.390625 \r\nQ 18.609375 15.53125 22.484375 10.953125 \r\nQ 26.375 6.390625 33.015625 6.390625 \r\nQ 39.65625 6.390625 43.53125 10.953125 \r\nQ 47.40625 15.53125 47.40625 23.390625 \r\nQ 47.40625 31.296875 43.53125 35.828125 \r\nQ 39.65625 40.375 33.015625 40.375 \r\nz\r\nM 52.59375 71.296875 \r\nL 52.59375 62.3125 \r\nQ 48.875 64.0625 45.09375 64.984375 \r\nQ 41.3125 65.921875 37.59375 65.921875 \r\nQ 27.828125 65.921875 22.671875 59.328125 \r\nQ 17.53125 52.734375 16.796875 39.40625 \r\nQ 19.671875 43.65625 24.015625 45.921875 \r\nQ 28.375 48.1875 33.59375 48.1875 \r\nQ 44.578125 48.1875 50.953125 41.515625 \r\nQ 57.328125 34.859375 57.328125 23.390625 \r\nQ 57.328125 12.15625 50.6875 5.359375 \r\nQ 44.046875 -1.421875 33.015625 -1.421875 \r\nQ 20.359375 -1.421875 13.671875 8.265625 \r\nQ 6.984375 17.96875 6.984375 36.375 \r\nQ 6.984375 53.65625 15.1875 63.9375 \r\nQ 23.390625 74.21875 37.203125 74.21875 \r\nQ 40.921875 74.21875 44.703125 73.484375 \r\nQ 48.484375 72.75 52.59375 71.296875 \r\nz\r\n\" id=\"DejaVuSans-54\"/>\r\n      </defs>\r\n      <g transform=\"translate(226.11125 241.338906)scale(0.1 -0.1)\">\r\n       <use xlink:href=\"#DejaVuSans-54\"/>\r\n       <use x=\"63.623047\" xlink:href=\"#DejaVuSans-48\"/>\r\n      </g>\r\n     </g>\r\n    </g>\r\n   </g>\r\n   <g id=\"matplotlib.axis_2\">\r\n    <g id=\"ytick_1\">\r\n     <g id=\"line2d_8\">\r\n      <defs>\r\n       <path d=\"M 0 0 \r\nL -3.5 0 \r\n\" id=\"m24ef26c162\" style=\"stroke:#000000;stroke-width:0.8;\"/>\r\n      </defs>\r\n      <g>\r\n       <use style=\"stroke:#000000;stroke-width:0.8;\" x=\"26.925\" xlink:href=\"#m24ef26c162\" y=\"10.999219\"/>\r\n      </g>\r\n     </g>\r\n     <g id=\"text_8\">\r\n      <!-- 0 -->\r\n      <g transform=\"translate(13.5625 14.798437)scale(0.1 -0.1)\">\r\n       <use xlink:href=\"#DejaVuSans-48\"/>\r\n      </g>\r\n     </g>\r\n    </g>\r\n    <g id=\"ytick_2\">\r\n     <g id=\"line2d_9\">\r\n      <g>\r\n       <use style=\"stroke:#000000;stroke-width:0.8;\" x=\"26.925\" xlink:href=\"#m24ef26c162\" y=\"44.974219\"/>\r\n      </g>\r\n     </g>\r\n     <g id=\"text_9\">\r\n      <!-- 10 -->\r\n      <g transform=\"translate(7.2 48.773437)scale(0.1 -0.1)\">\r\n       <use xlink:href=\"#DejaVuSans-49\"/>\r\n       <use x=\"63.623047\" xlink:href=\"#DejaVuSans-48\"/>\r\n      </g>\r\n     </g>\r\n    </g>\r\n    <g id=\"ytick_3\">\r\n     <g id=\"line2d_10\">\r\n      <g>\r\n       <use style=\"stroke:#000000;stroke-width:0.8;\" x=\"26.925\" xlink:href=\"#m24ef26c162\" y=\"78.949219\"/>\r\n      </g>\r\n     </g>\r\n     <g id=\"text_10\">\r\n      <!-- 20 -->\r\n      <g transform=\"translate(7.2 82.748437)scale(0.1 -0.1)\">\r\n       <use xlink:href=\"#DejaVuSans-50\"/>\r\n       <use x=\"63.623047\" xlink:href=\"#DejaVuSans-48\"/>\r\n      </g>\r\n     </g>\r\n    </g>\r\n    <g id=\"ytick_4\">\r\n     <g id=\"line2d_11\">\r\n      <g>\r\n       <use style=\"stroke:#000000;stroke-width:0.8;\" x=\"26.925\" xlink:href=\"#m24ef26c162\" y=\"112.924219\"/>\r\n      </g>\r\n     </g>\r\n     <g id=\"text_11\">\r\n      <!-- 30 -->\r\n      <g transform=\"translate(7.2 116.723437)scale(0.1 -0.1)\">\r\n       <use xlink:href=\"#DejaVuSans-51\"/>\r\n       <use x=\"63.623047\" xlink:href=\"#DejaVuSans-48\"/>\r\n      </g>\r\n     </g>\r\n    </g>\r\n    <g id=\"ytick_5\">\r\n     <g id=\"line2d_12\">\r\n      <g>\r\n       <use style=\"stroke:#000000;stroke-width:0.8;\" x=\"26.925\" xlink:href=\"#m24ef26c162\" y=\"146.899219\"/>\r\n      </g>\r\n     </g>\r\n     <g id=\"text_12\">\r\n      <!-- 40 -->\r\n      <g transform=\"translate(7.2 150.698437)scale(0.1 -0.1)\">\r\n       <use xlink:href=\"#DejaVuSans-52\"/>\r\n       <use x=\"63.623047\" xlink:href=\"#DejaVuSans-48\"/>\r\n      </g>\r\n     </g>\r\n    </g>\r\n    <g id=\"ytick_6\">\r\n     <g id=\"line2d_13\">\r\n      <g>\r\n       <use style=\"stroke:#000000;stroke-width:0.8;\" x=\"26.925\" xlink:href=\"#m24ef26c162\" y=\"180.874219\"/>\r\n      </g>\r\n     </g>\r\n     <g id=\"text_13\">\r\n      <!-- 50 -->\r\n      <g transform=\"translate(7.2 184.673437)scale(0.1 -0.1)\">\r\n       <use xlink:href=\"#DejaVuSans-53\"/>\r\n       <use x=\"63.623047\" xlink:href=\"#DejaVuSans-48\"/>\r\n      </g>\r\n     </g>\r\n    </g>\r\n    <g id=\"ytick_7\">\r\n     <g id=\"line2d_14\">\r\n      <g>\r\n       <use style=\"stroke:#000000;stroke-width:0.8;\" x=\"26.925\" xlink:href=\"#m24ef26c162\" y=\"214.849219\"/>\r\n      </g>\r\n     </g>\r\n     <g id=\"text_14\">\r\n      <!-- 60 -->\r\n      <g transform=\"translate(7.2 218.648437)scale(0.1 -0.1)\">\r\n       <use xlink:href=\"#DejaVuSans-54\"/>\r\n       <use x=\"63.623047\" xlink:href=\"#DejaVuSans-48\"/>\r\n      </g>\r\n     </g>\r\n    </g>\r\n   </g>\r\n   <g id=\"patch_3\">\r\n    <path d=\"M 26.925 226.740469 \r\nL 26.925 9.300469 \r\n\" style=\"fill:none;stroke:#000000;stroke-linecap:square;stroke-linejoin:miter;stroke-width:0.8;\"/>\r\n   </g>\r\n   <g id=\"patch_4\">\r\n    <path d=\"M 244.365 226.740469 \r\nL 244.365 9.300469 \r\n\" style=\"fill:none;stroke:#000000;stroke-linecap:square;stroke-linejoin:miter;stroke-width:0.8;\"/>\r\n   </g>\r\n   <g id=\"patch_5\">\r\n    <path d=\"M 26.925 226.740469 \r\nL 244.365 226.740469 \r\n\" style=\"fill:none;stroke:#000000;stroke-linecap:square;stroke-linejoin:miter;stroke-width:0.8;\"/>\r\n   </g>\r\n   <g id=\"patch_6\">\r\n    <path d=\"M 26.925 9.300469 \r\nL 244.365 9.300469 \r\n\" style=\"fill:none;stroke:#000000;stroke-linecap:square;stroke-linejoin:miter;stroke-width:0.8;\"/>\r\n   </g>\r\n  </g>\r\n </g>\r\n <defs>\r\n  <clipPath id=\"p4ca29b9978\">\r\n   <rect height=\"217.44\" width=\"217.44\" x=\"26.925\" y=\"9.300469\"/>\r\n  </clipPath>\r\n </defs>\r\n</svg>\r\n",
      "text/plain": "<Figure size 432x288 with 1 Axes>"
     },
     "metadata": {
      "needs_background": "light"
     },
     "output_type": "display_data"
    }
   ],
   "source": [
    "img_nr = 7\n",
    "plt.imshow(X_train[img_nr])\n",
    "print('A car' if Y_train[img_nr] > 0 else 'Not a car')"
   ]
  },
  {
   "cell_type": "code",
   "execution_count": 84,
   "metadata": {},
   "outputs": [
    {
     "ename": "NameError",
     "evalue": "name 'train_or_test' is not defined",
     "output_type": "error",
     "traceback": [
      "\u001b[1;31m---------------------------------------------------------------------------\u001b[0m",
      "\u001b[1;31mNameError\u001b[0m                                 Traceback (most recent call last)",
      "\u001b[1;32m<ipython-input-84-11f5e29f9fa5>\u001b[0m in \u001b[0;36m<module>\u001b[1;34m\u001b[0m\n\u001b[0;32m      2\u001b[0m \u001b[1;32massert\u001b[0m \u001b[0mlen\u001b[0m\u001b[1;33m(\u001b[0m\u001b[0mprd\u001b[0m\u001b[1;33m.\u001b[0m\u001b[0mshape\u001b[0m\u001b[1;33m)\u001b[0m \u001b[1;33m==\u001b[0m \u001b[1;36m4\u001b[0m\u001b[1;33m\u001b[0m\u001b[1;33m\u001b[0m\u001b[0m\n\u001b[0;32m      3\u001b[0m \u001b[1;33m\u001b[0m\u001b[0m\n\u001b[1;32m----> 4\u001b[1;33m \u001b[1;32mwith\u001b[0m \u001b[0mopen\u001b[0m\u001b[1;33m(\u001b[0m\u001b[1;34m'ext_features/{}'\u001b[0m\u001b[1;33m.\u001b[0m\u001b[0mformat\u001b[0m\u001b[1;33m(\u001b[0m\u001b[0mtrain_or_test\u001b[0m\u001b[1;33m)\u001b[0m\u001b[1;33m,\u001b[0m \u001b[1;34m'rb'\u001b[0m\u001b[1;33m)\u001b[0m \u001b[1;32mas\u001b[0m \u001b[0mf\u001b[0m\u001b[1;33m:\u001b[0m\u001b[1;33m\u001b[0m\u001b[1;33m\u001b[0m\u001b[0m\n\u001b[0m\u001b[0;32m      5\u001b[0m     \u001b[0mnp\u001b[0m\u001b[1;33m.\u001b[0m\u001b[0msave\u001b[0m\u001b[1;33m(\u001b[0m\u001b[0mf\u001b[0m\u001b[1;33m,\u001b[0m \u001b[0mcnn_features\u001b[0m\u001b[1;33m)\u001b[0m\u001b[1;33m\u001b[0m\u001b[1;33m\u001b[0m\u001b[0m\n",
      "\u001b[1;31mNameError\u001b[0m: name 'train_or_test' is not defined"
     ]
    }
   ],
   "source": [
    "cnn_features = feature_extractor.predict(X_train[:4])\n",
    "assert len(prd.shape) == 4\n",
    "\n",
    "with open('ext_features/{}'.format(train_or_test), 'rb') as f:\n",
    "    np.save(f, cnn_features)"
   ]
  },
  {
   "cell_type": "code",
   "execution_count": null,
   "metadata": {},
   "outputs": [],
   "source": []
  }
 ],
 "metadata": {
  "kernelspec": {
   "display_name": "Python 3",
   "language": "python",
   "name": "python3"
  },
  "language_info": {
   "codemirror_mode": {
    "name": "ipython",
    "version": 3
   },
   "file_extension": ".py",
   "mimetype": "text/x-python",
   "name": "python",
   "nbconvert_exporter": "python",
   "pygments_lexer": "ipython3",
   "version": "3.7.6-final"
  }
 },
 "nbformat": 4,
 "nbformat_minor": 4
}