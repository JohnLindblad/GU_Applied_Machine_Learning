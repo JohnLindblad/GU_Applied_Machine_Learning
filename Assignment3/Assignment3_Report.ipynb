{
 "cells": [
  {
   "cell_type": "markdown",
   "metadata": {},
   "source": [
    "# Programming Assignment 3\n",
    "by John Lindblad and Olle Lindgren"
   ]
  },
  {
   "cell_type": "markdown",
   "metadata": {},
   "source": [
    "## Part 1: Training a convolutional neural network"
   ]
  },
  {
   "cell_type": "code",
   "execution_count": 1,
   "metadata": {},
   "outputs": [],
   "source": [
    "from tensorflow.keras.preprocessing.image import ImageDataGenerator\n",
    "\n",
    "data_gen = ImageDataGenerator(rescale=1.0/255)"
   ]
  },
  {
   "cell_type": "code",
   "execution_count": 2,
   "metadata": {},
   "outputs": [
    {
     "name": "stdout",
     "output_type": "stream",
     "text": [
      "Found 1601 images belonging to 2 classes.\n"
     ]
    }
   ],
   "source": [
    "imgdir = 'pa3_images' # or wherever you put them...\n",
    "img_size = 64\n",
    "batch_size = 1600\n",
    "\n",
    "train_generator = data_gen.flow_from_directory(\n",
    "        imgdir + '/train',\n",
    "        target_size=(img_size, img_size),\n",
    "        batch_size=batch_size,\n",
    "        class_mode='binary',\n",
    "        classes=['other', 'car'],\n",
    "        seed=12345,\n",
    "        shuffle=True)\n",
    "\n",
    "X_train, Y_train = train_generator.next()\n",
    "img_width, img_height, img_depth = X_train[0].shape"
   ]
  },
  {
   "cell_type": "code",
   "execution_count": 3,
   "metadata": {},
   "outputs": [
    {
     "name": "stderr",
     "output_type": "stream",
     "text": [
      "Using TensorFlow backend.\n"
     ]
    }
   ],
   "source": [
    "from keras.models import Sequential\n",
    "from keras.layers import Conv2D, MaxPooling2D\n",
    "from keras.layers import Dense, Flatten"
   ]
  },
  {
   "cell_type": "code",
   "execution_count": 6,
   "metadata": {},
   "outputs": [
    {
     "name": "stdout",
     "output_type": "stream",
     "text": [
      "Found 576 images belonging to 2 classes.\n"
     ]
    }
   ],
   "source": [
    "val_generator = data_gen.flow_from_directory(\n",
    "        imgdir + '/validation',\n",
    "        target_size=(img_size, img_size),\n",
    "        batch_size=batch_size,\n",
    "        class_mode='binary',\n",
    "        classes=['other', 'car'],\n",
    "        seed=12345,\n",
    "        shuffle=True)\n",
    "X_val, Y_val = val_generator.next()"
   ]
  },
  {
   "cell_type": "code",
   "execution_count": 30,
   "metadata": {},
   "outputs": [],
   "source": [
    "def make_convnet():#x_train, y_train, x_val, y_val):\n",
    "    model = Sequential()\n",
    "    model.add(Conv2D(32, kernel_size=(5, 5), strides=(1, 1),\n",
    "                 activation='relu',\n",
    "                 input_shape=(img_width, img_height, img_depth)))\n",
    "    model.add(MaxPooling2D(pool_size=(2, 2), strides=(2, 2)))\n",
    "    model.add(Conv2D(64, (5, 5), activation='relu'))\n",
    "    model.add(MaxPooling2D(pool_size=(2, 2)))\n",
    "    model.add(Flatten())\n",
    "    model.add(Dense(128, activation='relu'))\n",
    "    model.add(Dense(1, activation='sigmoid')) # 2 classes: car or not car\n",
    "    model.compile(loss='binary_crossentropy',\n",
    "              optimizer='adam',\n",
    "              metrics=['accuracy'])\n",
    "    return model"
   ]
  },
  {
   "cell_type": "code",
   "execution_count": 33,
   "metadata": {},
   "outputs": [],
   "source": [
    "import time\n",
    "from tensorflow.keras.callbacks import EarlyStopping\n",
    "def fit_convnet(model, X_train, Y_train, X_val, Y_val, batch_size=10, epochs=10):\n",
    "    t0 = time.time()\n",
    "    es = EarlyStopping(monitor='val_loss', patience=3, restore_best_weights=True)\n",
    "    history = model.fit(X_train, Y_train,\n",
    "              batch_size=batch_size,\n",
    "              epochs=epochs,\n",
    "              verbose=1,\n",
    "              validation_data=(X_val, Y_val))\n",
    "    model.save_weights('saved_weights')\n",
    "    t1 = time.time()\n",
    "    print('Training time: {:.2f} sec.'.format(t1-t0))\n",
    "    return history"
   ]
  },
  {
   "cell_type": "code",
   "execution_count": 102,
   "metadata": {},
   "outputs": [
    {
     "name": "stdout",
     "output_type": "stream",
     "text": [
      "Train on 1600 samples, validate on 576 samples\n",
      "Epoch 1/25\n",
      "1600/1600 [==============================] - 8s 5ms/step - loss: 0.7094 - acc: 0.5031 - val_loss: 0.6758 - val_acc: 0.5312\n",
      "Epoch 2/25\n",
      "1600/1600 [==============================] - 7s 4ms/step - loss: 0.6615 - acc: 0.6006 - val_loss: 0.6778 - val_acc: 0.5677\n",
      "Epoch 3/25\n",
      "1600/1600 [==============================] - 7s 4ms/step - loss: 0.6081 - acc: 0.6656 - val_loss: 0.6650 - val_acc: 0.6302\n",
      "Epoch 4/25\n",
      "1600/1600 [==============================] - 7s 4ms/step - loss: 0.5375 - acc: 0.7325 - val_loss: 0.6613 - val_acc: 0.7031\n",
      "Epoch 5/25\n",
      "1600/1600 [==============================] - 7s 5ms/step - loss: 0.5080 - acc: 0.7525 - val_loss: 0.6420 - val_acc: 0.7118\n",
      "Epoch 6/25\n",
      "1600/1600 [==============================] - 8s 5ms/step - loss: 0.4700 - acc: 0.7794 - val_loss: 0.5859 - val_acc: 0.7465\n",
      "Epoch 7/25\n",
      "1600/1600 [==============================] - 7s 5ms/step - loss: 0.4378 - acc: 0.7944 - val_loss: 0.6177 - val_acc: 0.7552\n",
      "Epoch 8/25\n",
      "1600/1600 [==============================] - 7s 5ms/step - loss: 0.4094 - acc: 0.8119 - val_loss: 0.6822 - val_acc: 0.7639\n",
      "Epoch 9/25\n",
      "1600/1600 [==============================] - 7s 5ms/step - loss: 0.3636 - acc: 0.8437 - val_loss: 0.6570 - val_acc: 0.7778\n",
      "Epoch 10/25\n",
      "1600/1600 [==============================] - 7s 5ms/step - loss: 0.3507 - acc: 0.8463 - val_loss: 0.7223 - val_acc: 0.7622\n",
      "Epoch 11/25\n",
      "1600/1600 [==============================] - 7s 5ms/step - loss: 0.3407 - acc: 0.8419 - val_loss: 0.6850 - val_acc: 0.7639\n",
      "Epoch 12/25\n",
      "1600/1600 [==============================] - 7s 5ms/step - loss: 0.3166 - acc: 0.8619 - val_loss: 0.7379 - val_acc: 0.7587\n",
      "Epoch 13/25\n",
      "1600/1600 [==============================] - 7s 5ms/step - loss: 0.2819 - acc: 0.8838 - val_loss: 0.8847 - val_acc: 0.7726\n",
      "Epoch 14/25\n",
      "1600/1600 [==============================] - 7s 5ms/step - loss: 0.2897 - acc: 0.8694 - val_loss: 0.8688 - val_acc: 0.7656\n",
      "Epoch 15/25\n",
      "1600/1600 [==============================] - 7s 5ms/step - loss: 0.2506 - acc: 0.9000 - val_loss: 0.9035 - val_acc: 0.7431\n",
      "Epoch 16/25\n",
      "1600/1600 [==============================] - 7s 5ms/step - loss: 0.2154 - acc: 0.9156 - val_loss: 1.0259 - val_acc: 0.7535\n",
      "Epoch 17/25\n",
      "1600/1600 [==============================] - 8s 5ms/step - loss: 0.2035 - acc: 0.9175 - val_loss: 1.2746 - val_acc: 0.7622\n",
      "Epoch 18/25\n",
      "1600/1600 [==============================] - 7s 5ms/step - loss: 0.1801 - acc: 0.9356 - val_loss: 1.0800 - val_acc: 0.7639\n",
      "Epoch 19/25\n",
      "1600/1600 [==============================] - 7s 5ms/step - loss: 0.1765 - acc: 0.9319 - val_loss: 1.1479 - val_acc: 0.7396\n",
      "Epoch 20/25\n",
      "1600/1600 [==============================] - 7s 5ms/step - loss: 0.1595 - acc: 0.9419 - val_loss: 1.2012 - val_acc: 0.7552\n",
      "Epoch 21/25\n",
      "1600/1600 [==============================] - 7s 5ms/step - loss: 0.1369 - acc: 0.9500 - val_loss: 1.3250 - val_acc: 0.7604\n",
      "Epoch 22/25\n",
      "1600/1600 [==============================] - 7s 5ms/step - loss: 0.1294 - acc: 0.9581 - val_loss: 1.3457 - val_acc: 0.7483\n",
      "Epoch 23/25\n",
      "1600/1600 [==============================] - 8s 5ms/step - loss: 0.1092 - acc: 0.9656 - val_loss: 1.5005 - val_acc: 0.7587\n",
      "Epoch 24/25\n",
      "1600/1600 [==============================] - 7s 5ms/step - loss: 0.0966 - acc: 0.9713 - val_loss: 1.4504 - val_acc: 0.7483\n",
      "Epoch 25/25\n",
      "1600/1600 [==============================] - 7s 5ms/step - loss: 0.0881 - acc: 0.9719 - val_loss: 1.5897 - val_acc: 0.7587\n",
      "Training time: 185.48 sec.\n"
     ]
    }
   ],
   "source": [
    "model = make_convnet()\n",
    "history = fit_convnet(model, X_train, Y_train, X_val, Y_val, batch_size=100, epochs=25)"
   ]
  },
  {
   "cell_type": "code",
   "execution_count": 103,
   "metadata": {},
   "outputs": [],
   "source": [
    "import matplotlib.pyplot as plt\n",
    "\n",
    "def plot_hist(history):\n",
    "    # Plot training & validation accuracy values\n",
    "    plt.plot(history.history['acc'])\n",
    "    plt.plot(history.history['val_acc'])\n",
    "    plt.title('Model accuracy')\n",
    "    plt.ylabel('Accuracy')\n",
    "    plt.xlabel('Epoch')\n",
    "    plt.legend(['Train', 'Test'], loc='upper left')\n",
    "    plt.show()\n",
    "\n",
    "    # Plot training & validation loss values\n",
    "    plt.plot(history.history['loss'])\n",
    "    plt.plot(history.history['val_loss'])\n",
    "    plt.title('Model loss')\n",
    "    plt.ylabel('Loss')\n",
    "    plt.xlabel('Epoch')\n",
    "    plt.legend(['Train', 'Test'], loc='upper left')\n",
    "    plt.show()\n",
    "    return None"
   ]
  },
  {
   "cell_type": "code",
   "execution_count": 104,
   "metadata": {},
   "outputs": [
    {
     "data": {
      "image/png": "[encoded data removed]",
      "text/plain": [
       "<Figure size 432x288 with 1 Axes>"
      ]
     },
     "metadata": {
      "needs_background": "light"
     },
     "output_type": "display_data"
    },
    {
     "data": {
      "image/png": "[encoded data removed]",
      "text/plain": [
       "<Figure size 432x288 with 1 Axes>"
      ]
     },
     "metadata": {
      "needs_background": "light"
     },
     "output_type": "display_data"
    }
   ],
   "source": [
    "plot_hist(history)"
   ]
  },
  {
   "cell_type": "markdown",
   "metadata": {},
   "source": [
    "These graphs indicate that this CNN overfits with a peaking accuracy on the validation data after epoch 9 whereafter the accuracy on the training data increases quickly and validation accuracy remains around 75%."
   ]
  },
  {
   "cell_type": "markdown",
   "metadata": {},
   "source": [
    "## Part 2: Data augmentation"
   ]
  },
  {
   "cell_type": "markdown",
   "metadata": {},
   "source": [
    "On this task, we tested some different ways of augmenting the training data in order to reduce overfitting. We did this primarily by testing different values for the parameters in ImageDataGenerator."
   ]
  },
  {
   "cell_type": "code",
   "execution_count": 105,
   "metadata": {},
   "outputs": [],
   "source": [
    "data_gen_augmented = ImageDataGenerator(rescale=1.0/255, rotation_range=30, width_shift_range=0.2, height_shift_range=0.2)"
   ]
  },
  {
   "cell_type": "code",
   "execution_count": 106,
   "metadata": {},
   "outputs": [
    {
     "name": "stdout",
     "output_type": "stream",
     "text": [
      "Found 1601 images belonging to 2 classes.\n"
     ]
    }
   ],
   "source": [
    "train_generator_augmented = data_gen_augmented.flow_from_directory(\n",
    "        imgdir + '/train',\n",
    "        target_size=(img_size, img_size),\n",
    "        batch_size=batch_size,\n",
    "        class_mode='binary',\n",
    "        classes=['other', 'car'],\n",
    "        seed=12345,\n",
    "        shuffle=True)"
   ]
  },
  {
   "cell_type": "code",
   "execution_count": 107,
   "metadata": {},
   "outputs": [],
   "source": [
    "X_train_aug, Y_train_aug = train_generator_augmented.next()"
   ]
  },
  {
   "cell_type": "code",
   "execution_count": 108,
   "metadata": {},
   "outputs": [
    {
     "name": "stdout",
     "output_type": "stream",
     "text": [
      "Train on 1600 samples, validate on 576 samples\n",
      "Epoch 1/25\n",
      "1600/1600 [==============================] - 9s 6ms/step - loss: 0.7462 - acc: 0.5131 - val_loss: 0.6893 - val_acc: 0.5174\n",
      "Epoch 2/25\n",
      "1600/1600 [==============================] - 7s 4ms/step - loss: 0.6778 - acc: 0.5787 - val_loss: 0.6465 - val_acc: 0.6667\n",
      "Epoch 3/25\n",
      "1600/1600 [==============================] - 7s 5ms/step - loss: 0.6253 - acc: 0.6556 - val_loss: 0.6101 - val_acc: 0.6649\n",
      "Epoch 4/25\n",
      "1600/1600 [==============================] - 7s 5ms/step - loss: 0.5929 - acc: 0.6869 - val_loss: 0.5697 - val_acc: 0.7118\n",
      "Epoch 5/25\n",
      "1600/1600 [==============================] - 8s 5ms/step - loss: 0.5590 - acc: 0.7188 - val_loss: 0.5575 - val_acc: 0.7170\n",
      "Epoch 6/25\n",
      "1600/1600 [==============================] - 8s 5ms/step - loss: 0.5561 - acc: 0.7206 - val_loss: 0.5729 - val_acc: 0.7187\n",
      "Epoch 7/25\n",
      "1600/1600 [==============================] - 8s 5ms/step - loss: 0.5158 - acc: 0.7512 - val_loss: 0.5605 - val_acc: 0.7309\n",
      "Epoch 8/25\n",
      "1600/1600 [==============================] - 8s 5ms/step - loss: 0.4807 - acc: 0.7694 - val_loss: 0.5308 - val_acc: 0.7517\n",
      "Epoch 9/25\n",
      "1600/1600 [==============================] - 8s 5ms/step - loss: 0.4575 - acc: 0.7925 - val_loss: 0.5713 - val_acc: 0.7587\n",
      "Epoch 10/25\n",
      "1600/1600 [==============================] - 8s 5ms/step - loss: 0.4339 - acc: 0.7944 - val_loss: 0.5880 - val_acc: 0.7552\n",
      "Epoch 11/25\n",
      "1600/1600 [==============================] - 8s 5ms/step - loss: 0.3937 - acc: 0.8244 - val_loss: 0.5981 - val_acc: 0.7517\n",
      "Epoch 12/25\n",
      "1600/1600 [==============================] - 7s 5ms/step - loss: 0.3731 - acc: 0.8263 - val_loss: 0.5889 - val_acc: 0.7500\n",
      "Epoch 13/25\n",
      "1600/1600 [==============================] - 7s 5ms/step - loss: 0.3531 - acc: 0.8400 - val_loss: 0.6142 - val_acc: 0.7378\n",
      "Epoch 14/25\n",
      "1600/1600 [==============================] - 7s 5ms/step - loss: 0.3197 - acc: 0.8581 - val_loss: 0.7563 - val_acc: 0.7031\n",
      "Epoch 15/25\n",
      "1600/1600 [==============================] - 8s 5ms/step - loss: 0.2842 - acc: 0.8850 - val_loss: 0.7021 - val_acc: 0.7378\n",
      "Epoch 16/25\n",
      "1600/1600 [==============================] - 7s 5ms/step - loss: 0.2403 - acc: 0.9056 - val_loss: 0.7214 - val_acc: 0.7378\n",
      "Epoch 17/25\n",
      "1600/1600 [==============================] - 8s 5ms/step - loss: 0.2063 - acc: 0.9269 - val_loss: 0.7130 - val_acc: 0.7170\n",
      "Epoch 18/25\n",
      "1600/1600 [==============================] - 8s 5ms/step - loss: 0.1906 - acc: 0.9269 - val_loss: 0.8276 - val_acc: 0.7431\n",
      "Epoch 19/25\n",
      "1600/1600 [==============================] - 8s 5ms/step - loss: 0.1416 - acc: 0.9569 - val_loss: 0.8973 - val_acc: 0.7101\n",
      "Epoch 20/25\n",
      "1600/1600 [==============================] - 7s 5ms/step - loss: 0.1166 - acc: 0.9631 - val_loss: 0.9692 - val_acc: 0.7396\n",
      "Epoch 21/25\n",
      "1600/1600 [==============================] - 8s 5ms/step - loss: 0.1145 - acc: 0.9606 - val_loss: 0.9896 - val_acc: 0.7049\n",
      "Epoch 22/25\n",
      "1600/1600 [==============================] - 7s 5ms/step - loss: 0.0833 - acc: 0.9744 - val_loss: 1.0445 - val_acc: 0.7448\n",
      "Epoch 23/25\n",
      "1600/1600 [==============================] - 8s 5ms/step - loss: 0.0655 - acc: 0.9838 - val_loss: 1.1501 - val_acc: 0.7309\n",
      "Epoch 24/25\n",
      "1600/1600 [==============================] - 8s 5ms/step - loss: 0.0419 - acc: 0.9931 - val_loss: 1.1803 - val_acc: 0.7361\n",
      "Epoch 25/25\n",
      "1600/1600 [==============================] - 8s 5ms/step - loss: 0.0294 - acc: 0.9963 - val_loss: 1.3027 - val_acc: 0.7448\n",
      "Training time: 193.00 sec.\n"
     ]
    }
   ],
   "source": [
    "model = make_convnet()\n",
    "history = fit_convnet(model, X_train_aug, Y_train_aug, X_val, Y_val, batch_size=100, epochs=25)"
   ]
  },
  {
   "cell_type": "code",
   "execution_count": 109,
   "metadata": {},
   "outputs": [
    {
     "data": {
      "image/png": "[encoded data removed]",
      "text/plain": [
       "<Figure size 432x288 with 1 Axes>"
      ]
     },
     "metadata": {
      "needs_background": "light"
     },
     "output_type": "display_data"
    },
    {
     "data": {
      "image/png": "[encoded data removed]",
      "text/plain": [
       "<Figure size 432x288 with 1 Axes>"
      ]
     },
     "metadata": {
      "needs_background": "light"
     },
     "output_type": "display_data"
    }
   ],
   "source": [
    "plot_hist(history)"
   ]
  },
  {
   "cell_type": "markdown",
   "metadata": {},
   "source": [
    "The resulting graph above when using augmentation when preprocessing the data shows that this somewhat minimizes the problem of overfitting (smaller difference between the training and validation accuracy on the peak after epoch 9) but the problem still exists and the accuracy is lower in this case also on the validation data which may indicate that we instead underfit a little bit. A good balance between underfitting and overfitting is difficult to reach here but we did not see huge differences caused by using augmentation when trying out different values of the parameters used in the image preprocessing."
   ]
  },
  {
   "cell_type": "markdown",
   "metadata": {},
   "source": [
    "## Interlude: Applying a pre-trained convolutional neural network"
   ]
  },
  {
   "cell_type": "code",
   "execution_count": 110,
   "metadata": {},
   "outputs": [
    {
     "name": "stdout",
     "output_type": "stream",
     "text": [
      "WARNING:tensorflow:From C:\\Users\\46703\\Anaconda3\\lib\\site-packages\\tensorflow_core\\python\\ops\\resource_variable_ops.py:1630: calling BaseResourceVariable.__init__ (from tensorflow.python.ops.resource_variable_ops) with constraint is deprecated and will be removed in a future version.\n",
      "Instructions for updating:\n",
      "If using Keras pass *_constraint arguments to layers.\n"
     ]
    }
   ],
   "source": [
    "# importing the VGG-16 model\n",
    "from tensorflow.keras import applications\n",
    "from tensorflow.keras.preprocessing.image import load_img, img_to_array\n",
    "from tensorflow.keras.applications.vgg16 import decode_predictions, preprocess_input\n",
    "\n",
    "vggmodel = applications.VGG16(weights='imagenet', include_top=True)"
   ]
  },
  {
   "cell_type": "code",
   "execution_count": 111,
   "metadata": {},
   "outputs": [
    {
     "data": {
      "image/png": "[encoded data removed]",
      "text/plain": [
       "<Figure size 432x288 with 1 Axes>"
      ]
     },
     "metadata": {
      "needs_background": "light"
     },
     "output_type": "display_data"
    }
   ],
   "source": [
    "# loading an image\n",
    "img = load_img('apple.jpg', target_size=(224,224))\n",
    "plt.imshow(img);"
   ]
  },
  {
   "cell_type": "code",
   "execution_count": 112,
   "metadata": {},
   "outputs": [],
   "source": [
    "# converting to numpy\n",
    "from keras.preprocessing.image import img_to_array\n",
    "arr = img_to_array(img);\n",
    "\n",
    "# process the array\n",
    "proc_arr = preprocess_input(arr)\n",
    "\n",
    "# reshape\n",
    "your_image = proc_arr.reshape(1, 224, 224, 3)"
   ]
  },
  {
   "cell_type": "code",
   "execution_count": 113,
   "metadata": {},
   "outputs": [
    {
     "name": "stdout",
     "output_type": "stream",
     "text": [
      "Predicted: [('n07742313', 'Granny_Smith', 0.57527566), ('n07768694', 'pomegranate', 0.11990318), ('n07753113', 'fig', 0.079739615), ('n07753592', 'banana', 0.059216265), ('n07747607', 'orange', 0.048092417), ('n03134739', 'croquet_ball', 0.02308206), ('n07749582', 'lemon', 0.017987078), ('n07745940', 'strawberry', 0.01583414), ('n03720891', 'maraca', 0.0074312165), ('n12620546', 'hip', 0.003751107)]\n"
     ]
    }
   ],
   "source": [
    "pred = vggmodel.predict(your_image)\n",
    "print('Predicted:', decode_predictions(pred, top=10)[0])"
   ]
  },
  {
   "cell_type": "markdown",
   "metadata": {},
   "source": [
    "The prediction make sense since the clear number one label (0.57) is Granny Smith (i.e. a sort of apple) with pomegranate (0.12) as number two."
   ]
  },
  {
   "cell_type": "markdown",
   "metadata": {},
   "source": [
    "## Part 3: Using VGG-16 as a feature extractor"
   ]
  },
  {
   "cell_type": "code",
   "execution_count": 138,
   "metadata": {},
   "outputs": [],
   "source": [
    "from keras.models import Sequential\n",
    "from keras.layers import Dense, Flatten, Reshape, Dropout\n",
    "from keras.optimizers import Adam, SGD, RMSprop\n",
    "from keras.callbacks import EarlyStopping\n",
    "import time"
   ]
  },
  {
   "cell_type": "code",
   "execution_count": 119,
   "metadata": {},
   "outputs": [],
   "source": [
    "imgdir = 'pa3_images' # or wherever you put them...\n",
    "img_size = 64\n",
    "feature_extractor = applications.VGG16(include_top=False, weights='imagenet',\n",
    "                                       input_shape=(img_size, img_size, 3))\n",
    "vgg_data_gen = ImageDataGenerator(preprocessing_function=preprocess_input)"
   ]
  },
  {
   "cell_type": "code",
   "execution_count": 120,
   "metadata": {},
   "outputs": [],
   "source": [
    "import numpy as np\n",
    "\n",
    "def create_vgg16_features(directory, filename):\n",
    "    \n",
    "    vgg_generator = vgg_data_gen.flow_from_directory(\n",
    "        imgdir + directory,\n",
    "        target_size=(img_size, img_size),\n",
    "        batch_size=batch_size,\n",
    "        class_mode='binary',\n",
    "        classes=['other', 'car'],\n",
    "        seed=12345,\n",
    "        shuffle=False)\n",
    "    \n",
    "    X_set, Y_set = vgg_generator.next()\n",
    "    \n",
    "    #img_width, img_height, img_depth = X_train[0].shape\n",
    "    \n",
    "    cnn_features = feature_extractor.predict(X_set) \n",
    "    \n",
    "    #print(cnn_features)\n",
    "    \n",
    "    with open(filename, 'wb') as f:\n",
    "      np.save(f, cnn_features)\n",
    "    \n",
    "    return None"
   ]
  },
  {
   "cell_type": "code",
   "execution_count": 139,
   "metadata": {},
   "outputs": [
    {
     "name": "stdout",
     "output_type": "stream",
     "text": [
      "Found 1601 images belonging to 2 classes.\n",
      "Found 576 images belonging to 2 classes.\n"
     ]
    }
   ],
   "source": [
    "dir_val = '/validation'\n",
    "dir_train = '/train'\n",
    "file_val = 'val_file'\n",
    "file_train = 'train_file'\n",
    "create_vgg16_features(dir_train, file_train)\n",
    "create_vgg16_features(dir_val, file_val)"
   ]
  },
  {
   "cell_type": "code",
   "execution_count": 136,
   "metadata": {},
   "outputs": [],
   "source": [
    "def train_on_cnnfeatures():\n",
    "    \n",
    "    with open('train_file', 'rb') as f:\n",
    "        train_data = np.load(f)\n",
    "    \n",
    "    with open('val_file', 'rb') as f:\n",
    "        val_data = np.load(f)\n",
    "    \n",
    "    model = Sequential()\n",
    "\n",
    "    # starting with flattening layer to convert the input\n",
    "    model.add(Flatten(input_shape=(2,2,512)))\n",
    "    \n",
    "    model.add(Dense(32, activation='relu', input_dim=(2*2*512)))\n",
    "    \n",
    "    # dropout and output layer\n",
    "    model.add(Dropout(0.15))\n",
    "    model.add(Dense(1, activation='sigmoid'))  \n",
    "    \n",
    "    model.summary()\n",
    "    \n",
    "    model.compile(loss='binary_crossentropy',\n",
    "              optimizer=RMSprop(),\n",
    "              metrics=['accuracy'])\n",
    "    \n",
    "    # using EarlyStopping\n",
    "    #es = EarlyStopping(monitor='val_loss', patience=3, restore_best_weights=True)\n",
    "    \n",
    "    t0 = time.time()\n",
    "    history = model.fit(train_data, Y_train,\n",
    "              batch_size=10,\n",
    "              epochs=10,\n",
    "              verbose=1,\n",
    "              validation_data=(val_data, Y_val))#,\n",
    "            #callbacks = [es])\n",
    "    t1 = time.time()\n",
    "    print('Training time: {:.2f} sec.'.format(t1-t0))\n",
    "    \n",
    "    return model, history"
   ]
  },
  {
   "cell_type": "code",
   "execution_count": 137,
   "metadata": {},
   "outputs": [
    {
     "name": "stdout",
     "output_type": "stream",
     "text": [
      "_________________________________________________________________\n",
      "Layer (type)                 Output Shape              Param #   \n",
      "=================================================================\n",
      "flatten_32 (Flatten)         (None, 2048)              0         \n",
      "_________________________________________________________________\n",
      "dense_62 (Dense)             (None, 32)                65568     \n",
      "_________________________________________________________________\n",
      "dropout_6 (Dropout)          (None, 32)                0         \n",
      "_________________________________________________________________\n",
      "dense_63 (Dense)             (None, 1)                 33        \n",
      "=================================================================\n",
      "Total params: 65,601\n",
      "Trainable params: 65,601\n",
      "Non-trainable params: 0\n",
      "_________________________________________________________________\n",
      "Train on 1600 samples, validate on 576 samples\n",
      "Epoch 1/10\n",
      "1600/1600 [==============================] - 3s 2ms/step - loss: 4.1844 - acc: 0.4975 - val_loss: 1.5546 - val_acc: 0.4792\n",
      "Epoch 2/10\n",
      "1600/1600 [==============================] - 1s 482us/step - loss: 0.9859 - acc: 0.6106 - val_loss: 1.2805 - val_acc: 0.4826\n",
      "Epoch 3/10\n",
      "1600/1600 [==============================] - 1s 505us/step - loss: 0.7396 - acc: 0.6656 - val_loss: 1.5082 - val_acc: 0.4861\n",
      "Epoch 4/10\n",
      "1600/1600 [==============================] - 1s 487us/step - loss: 0.6564 - acc: 0.7138 - val_loss: 1.6311 - val_acc: 0.4878\n",
      "Epoch 5/10\n",
      "1600/1600 [==============================] - 0s 264us/step - loss: 0.5546 - acc: 0.7631 - val_loss: 1.7661 - val_acc: 0.4670\n",
      "Epoch 6/10\n",
      "1600/1600 [==============================] - 1s 432us/step - loss: 0.5251 - acc: 0.7994 - val_loss: 2.4457 - val_acc: 0.4479\n",
      "Epoch 7/10\n",
      "1600/1600 [==============================] - 1s 422us/step - loss: 0.4403 - acc: 0.8244 - val_loss: 2.3663 - val_acc: 0.4635\n",
      "Epoch 8/10\n",
      "1600/1600 [==============================] - 1s 398us/step - loss: 0.3921 - acc: 0.8512 - val_loss: 2.5951 - val_acc: 0.5035\n",
      "Epoch 9/10\n",
      "1600/1600 [==============================] - 1s 475us/step - loss: 0.3470 - acc: 0.8794 - val_loss: 2.6274 - val_acc: 0.4913\n",
      "Epoch 10/10\n",
      "1600/1600 [==============================] - 1s 454us/step - loss: 0.2959 - acc: 0.8931 - val_loss: 3.1478 - val_acc: 0.4757\n",
      "Training time: 9.01 sec.\n"
     ]
    }
   ],
   "source": [
    "model, history = train_on_cnnfeatures()"
   ]
  },
  {
   "cell_type": "code",
   "execution_count": null,
   "metadata": {},
   "outputs": [],
   "source": [
    "plot_hist(history)"
   ]
  },
  {
   "cell_type": "markdown",
   "metadata": {},
   "source": [
    "# 3: VGG-16 as Feature Extractor"
   ]
  },
  {
   "cell_type": "code",
   "execution_count": 147,
   "metadata": {},
   "outputs": [
    {
     "name": "stdout",
     "output_type": "stream",
     "text": [
      "Found 576 images belonging to 2 classes.\n"
     ]
    }
   ],
   "source": [
    "imgdir = 'pa3_images' # or wherever you put them...\n",
    "img_size = 64\n",
    "feature_extractor = applications.VGG16(include_top=False, weights='imagenet',\n",
    "                                       input_shape=(img_size, img_size, 3))\n",
    "vgg_data_gen = ImageDataGenerator(preprocessing_function=preprocess_input)\n",
    "\n",
    "train_or_test = 'validation'\n",
    "batch_size = 1600\n",
    "vgg16_generator = vgg_data_gen.flow_from_directory(\n",
    "        imgdir + '/' + train_or_test,\n",
    "        target_size=(img_size, img_size),\n",
    "        batch_size=batch_size,\n",
    "        class_mode='binary',\n",
    "        classes=['other', 'car'],\n",
    "        seed=12345,\n",
    "        shuffle=False)"
   ]
  },
  {
   "cell_type": "code",
   "execution_count": 148,
   "metadata": {},
   "outputs": [
    {
     "name": "stdout",
     "output_type": "stream",
     "text": [
      "(576, 64, 64, 3)\n",
      "(576,)\n"
     ]
    }
   ],
   "source": [
    "X_train, Y_train = vgg16_generator.next()\n",
    "\n",
    "img_width, img_height, img_depth = X_train[0].shape\n",
    "\n",
    "print(X_train.shape)\n",
    "print(Y_train.shape)"
   ]
  },
  {
   "cell_type": "code",
   "execution_count": 149,
   "metadata": {},
   "outputs": [
    {
     "name": "stderr",
     "output_type": "stream",
     "text": [
      "Clipping input data to the valid range for imshow with RGB data ([0..1] for floats or [0..255] for integers).\n"
     ]
    },
    {
     "name": "stdout",
     "output_type": "stream",
     "text": [
      "Not a car\n"
     ]
    },
    {
     "data": {
      "image/png": "[encoded data removed]",
      "text/plain": [
       "<Figure size 432x288 with 1 Axes>"
      ]
     },
     "metadata": {
      "needs_background": "light"
     },
     "output_type": "display_data"
    }
   ],
   "source": [
    "img_nr = 7\n",
    "plt.imshow(X_train[img_nr])\n",
    "print('A car' if Y_train[img_nr] > 0 else 'Not a car')"
   ]
  },
  {
   "cell_type": "code",
   "execution_count": 150,
   "metadata": {},
   "outputs": [],
   "source": [
    "with open('cnn_features/{}/features.npz'.format(train_or_test), 'wb') as f:\n",
    "    np.savez(f, x = X_train, y = Y_train)\n",
    "#with open('cnn_features/{}/Y.npy'.format(train_or_test), 'wb') as f:\n",
    "#    np.save(f, Y_train)"
   ]
  },
  {
   "cell_type": "code",
   "execution_count": 151,
   "metadata": {},
   "outputs": [],
   "source": [
    "with open('cnn_features/validation/features.npz', 'rb') as f:\n",
    "    dct = np.load(f)\n",
    "    #for k in dct.items():\n",
    "    #    print(k)\n",
    "    X_val = dct['x']\n",
    "    Y_val = dct['y']\n",
    "with open('cnn_features/train/features.npz', 'rb') as f:\n",
    "    dct = np.load(f)\n",
    "    #for k in dct.items():\n",
    "    #    print(k)\n",
    "    X_train = dct['x']\n",
    "    Y_train = dct['y']"
   ]
  },
  {
   "cell_type": "markdown",
   "metadata": {},
   "source": [
    "Basic sanity checks"
   ]
  },
  {
   "cell_type": "code",
   "execution_count": 152,
   "metadata": {},
   "outputs": [
    {
     "name": "stdout",
     "output_type": "stream",
     "text": [
      "(576, 64, 64, 3)\n",
      "(576,)\n",
      "(1600, 64, 64, 3)\n",
      "(1600,)\n"
     ]
    }
   ],
   "source": [
    "print(X_val.shape)\n",
    "print(Y_val.shape)\n",
    "print(X_train.shape)\n",
    "print(Y_train.shape)\n",
    "assert X_val.shape[0] == Y_val.shape[0]\n",
    "assert X_train.shape[0] == Y_train.shape[0]\n",
    "assert X_train.shape[0] != X_val.shape[0]"
   ]
  },
  {
   "cell_type": "markdown",
   "metadata": {},
   "source": [
    "## Neural network approach using Keras. Record accuracy is 72%."
   ]
  },
  {
   "cell_type": "code",
   "execution_count": 153,
   "metadata": {},
   "outputs": [
    {
     "name": "stdout",
     "output_type": "stream",
     "text": [
      "Train on 1600 samples, validate on 576 samples\n",
      "Epoch 1/10\n",
      "1600/1600 [==============================] - 4s 2ms/step - loss: 6.9390 - acc: 0.5638 - val_loss: 6.3282 - val_acc: 0.6042\n",
      "Epoch 2/10\n",
      "1600/1600 [==============================] - 2s 1ms/step - loss: 6.6618 - acc: 0.5831 - val_loss: 6.3015 - val_acc: 0.6059\n",
      "Epoch 3/10\n",
      "1600/1600 [==============================] - 2s 998us/step - loss: 6.6146 - acc: 0.5863 - val_loss: 6.3279 - val_acc: 0.6007\n",
      "Training time: 9.75 sec.\n",
      "Accuracy: 0.60 (0.69)\n",
      "Train on 1600 samples, validate on 576 samples\n",
      "Epoch 1/10\n",
      "1600/1600 [==============================] - 4s 2ms/step - loss: 6.4505 - acc: 0.5944 - val_loss: 5.9137 - val_acc: 0.6302\n",
      "Epoch 2/10\n",
      "1600/1600 [==============================] - 2s 1ms/step - loss: 6.2359 - acc: 0.6075 - val_loss: 5.7157 - val_acc: 0.6406\n",
      "Epoch 3/10\n",
      "1600/1600 [==============================] - 2s 1ms/step - loss: 5.7857 - acc: 0.6375 - val_loss: 5.7690 - val_acc: 0.6389\n",
      "Training time: 9.34 sec.\n",
      "Accuracy: 0.64 (0.69)\n",
      "Train on 1600 samples, validate on 576 samples\n",
      "Epoch 1/10\n",
      "1600/1600 [==============================] - 4s 3ms/step - loss: 7.5088 - acc: 0.5281 - val_loss: 7.0483 - val_acc: 0.5590\n",
      "Epoch 2/10\n",
      "1600/1600 [==============================] - 2s 1ms/step - loss: 7.1893 - acc: 0.5513 - val_loss: 7.9934 - val_acc: 0.5017\n",
      "Training time: 7.68 sec.\n",
      "Accuracy: 0.50 (0.69)\n",
      "Train on 1600 samples, validate on 576 samples\n",
      "Epoch 1/10\n",
      "1600/1600 [==============================] - 4s 2ms/step - loss: 6.8855 - acc: 0.5669 - val_loss: 7.0931 - val_acc: 0.5556\n",
      "Epoch 2/10\n",
      "1600/1600 [==============================] - 2s 1ms/step - loss: 6.6493 - acc: 0.5831 - val_loss: 6.7875 - val_acc: 0.5747\n",
      "Epoch 3/10\n",
      "1600/1600 [==============================] - 2s 1ms/step - loss: 6.7070 - acc: 0.5794 - val_loss: 6.5545 - val_acc: 0.5885\n",
      "Epoch 4/10\n",
      "1600/1600 [==============================] - 2s 974us/step - loss: 7.1023 - acc: 0.5550 - val_loss: 6.6063 - val_acc: 0.5851\n",
      "Training time: 11.40 sec.\n",
      "Accuracy: 0.59 (0.69)\n",
      "Train on 1600 samples, validate on 576 samples\n",
      "Epoch 1/10\n",
      "1600/1600 [==============================] - 4s 2ms/step - loss: 7.2371 - acc: 0.5438 - val_loss: 8.3907 - val_acc: 0.4757\n",
      "Epoch 2/10\n",
      "1600/1600 [==============================] - 2s 1ms/step - loss: 7.9272 - acc: 0.5050 - val_loss: 8.3752 - val_acc: 0.4774\n",
      "Epoch 3/10\n",
      "1600/1600 [==============================] - 2s 1ms/step - loss: 7.4789 - acc: 0.5319 - val_loss: 8.1015 - val_acc: 0.4948\n",
      "Epoch 4/10\n",
      "1600/1600 [==============================] - 2s 1ms/step - loss: 7.0326 - acc: 0.5594 - val_loss: 7.0041 - val_acc: 0.5590\n",
      "Epoch 5/10\n",
      "1600/1600 [==============================] - 2s 1ms/step - loss: 6.5801 - acc: 0.5869 - val_loss: 6.2990 - val_acc: 0.6059\n",
      "Epoch 6/10\n",
      "1600/1600 [==============================] - 2s 1ms/step - loss: 6.5647 - acc: 0.5888 - val_loss: 6.3492 - val_acc: 0.6024\n",
      "Training time: 14.39 sec.\n",
      "Accuracy: 0.60 (0.69)\n",
      "Train on 1600 samples, validate on 576 samples\n",
      "Epoch 1/10\n",
      "1600/1600 [==============================] - 4s 2ms/step - loss: 8.3034 - acc: 0.4800 - val_loss: 8.6134 - val_acc: 0.4635\n",
      "Epoch 2/10\n",
      "1600/1600 [==============================] - 2s 1ms/step - loss: 8.1084 - acc: 0.4938 - val_loss: 8.4869 - val_acc: 0.4670\n",
      "Epoch 3/10\n",
      "1600/1600 [==============================] - 2s 1ms/step - loss: 8.2937 - acc: 0.4838 - val_loss: 8.7324 - val_acc: 0.4566\n",
      "Training time: 9.81 sec.\n",
      "Accuracy: 0.46 (0.69)\n",
      "Train on 1600 samples, validate on 576 samples\n",
      "Epoch 1/10\n",
      "1600/1600 [==============================] - 4s 3ms/step - loss: 7.6757 - acc: 0.5188 - val_loss: 7.2045 - val_acc: 0.5486\n",
      "Epoch 2/10\n",
      "1600/1600 [==============================] - 2s 1ms/step - loss: 6.8668 - acc: 0.5681 - val_loss: 7.2118 - val_acc: 0.5469\n",
      "Training time: 8.06 sec.\n",
      "Accuracy: 0.55 (0.69)\n",
      "Train on 1600 samples, validate on 576 samples\n",
      "Epoch 1/10\n",
      "1600/1600 [==============================] - 4s 3ms/step - loss: 6.8154 - acc: 0.5731 - val_loss: 7.9847 - val_acc: 0.5017\n",
      "Epoch 2/10\n",
      "1600/1600 [==============================] - 2s 1ms/step - loss: 8.3156 - acc: 0.4825 - val_loss: 8.4319 - val_acc: 0.4757\n",
      "Training time: 8.04 sec.\n",
      "Accuracy: 0.48 (0.69)\n",
      "Train on 1600 samples, validate on 576 samples\n",
      "Epoch 1/10\n",
      "1600/1600 [==============================] - 4s 3ms/step - loss: 7.5577 - acc: 0.5281 - val_loss: 7.4192 - val_acc: 0.5382\n",
      "Epoch 2/10\n",
      "1600/1600 [==============================] - 2s 1ms/step - loss: 7.0763 - acc: 0.5581 - val_loss: 6.7924 - val_acc: 0.5747\n",
      "Epoch 3/10\n",
      "1600/1600 [==============================] - 2s 1ms/step - loss: 6.8034 - acc: 0.5738 - val_loss: 6.6926 - val_acc: 0.5816\n",
      "Epoch 4/10\n",
      "1600/1600 [==============================] - 2s 1ms/step - loss: 6.9698 - acc: 0.5638 - val_loss: 6.7759 - val_acc: 0.5764\n",
      "Training time: 12.09 sec.\n",
      "Accuracy: 0.58 (0.69)\n",
      "Train on 1600 samples, validate on 576 samples\n",
      "Epoch 1/10\n",
      "1320/1600 [=======================>......] - ETA: 0s - loss: 6.8599 - acc: 0.5682"
     ]
    },
    {
     "ename": "KeyboardInterrupt",
     "evalue": "",
     "output_type": "error",
     "traceback": [
      "\u001b[1;31m---------------------------------------------------------------------------\u001b[0m",
      "\u001b[1;31mKeyboardInterrupt\u001b[0m                         Traceback (most recent call last)",
      "\u001b[1;32m<ipython-input-153-49d3a39ba729>\u001b[0m in \u001b[0;36m<module>\u001b[1;34m\u001b[0m\n\u001b[0;32m     40\u001b[0m \u001b[1;32mwhile\u001b[0m \u001b[0maccuracy\u001b[0m \u001b[1;33m<\u001b[0m \u001b[0mmin_worthwhile_accuracy\u001b[0m\u001b[1;33m:\u001b[0m\u001b[1;33m\u001b[0m\u001b[1;33m\u001b[0m\u001b[0m\n\u001b[0;32m     41\u001b[0m     \u001b[0mmodel\u001b[0m \u001b[1;33m=\u001b[0m \u001b[0mget_model\u001b[0m\u001b[1;33m(\u001b[0m\u001b[1;33m)\u001b[0m\u001b[1;33m\u001b[0m\u001b[1;33m\u001b[0m\u001b[0m\n\u001b[1;32m---> 42\u001b[1;33m     \u001b[0mhistory\u001b[0m \u001b[1;33m=\u001b[0m \u001b[0mfit_transfer_net\u001b[0m\u001b[1;33m(\u001b[0m\u001b[0mmodel\u001b[0m\u001b[1;33m,\u001b[0m \u001b[0mX_train\u001b[0m\u001b[1;33m,\u001b[0m \u001b[0mY_train\u001b[0m\u001b[1;33m,\u001b[0m \u001b[0mX_val\u001b[0m\u001b[1;33m,\u001b[0m \u001b[0mY_val\u001b[0m\u001b[1;33m,\u001b[0m \u001b[0mstarting_lr\u001b[0m\u001b[1;33m)\u001b[0m\u001b[1;33m.\u001b[0m\u001b[0mhistory\u001b[0m\u001b[1;33m\u001b[0m\u001b[1;33m\u001b[0m\u001b[0m\n\u001b[0m\u001b[0;32m     43\u001b[0m \u001b[1;33m\u001b[0m\u001b[0m\n\u001b[0;32m     44\u001b[0m     \u001b[0maccuracy\u001b[0m \u001b[1;33m=\u001b[0m \u001b[0mhistory\u001b[0m\u001b[1;33m[\u001b[0m\u001b[1;34m'val_acc'\u001b[0m\u001b[1;33m]\u001b[0m\u001b[1;33m[\u001b[0m\u001b[1;33m-\u001b[0m\u001b[1;36m1\u001b[0m\u001b[1;33m]\u001b[0m\u001b[1;33m\u001b[0m\u001b[1;33m\u001b[0m\u001b[0m\n",
      "\u001b[1;32m<ipython-input-153-49d3a39ba729>\u001b[0m in \u001b[0;36mfit_transfer_net\u001b[1;34m(model, X_train, Y_train, X_val, Y_val, starting_lr)\u001b[0m\n\u001b[0;32m     27\u001b[0m               \u001b[0mverbose\u001b[0m\u001b[1;33m=\u001b[0m\u001b[1;36m1\u001b[0m\u001b[1;33m,\u001b[0m\u001b[1;33m\u001b[0m\u001b[1;33m\u001b[0m\u001b[0m\n\u001b[0;32m     28\u001b[0m               \u001b[0mvalidation_data\u001b[0m\u001b[1;33m=\u001b[0m\u001b[1;33m(\u001b[0m\u001b[0mX_val\u001b[0m\u001b[1;33m,\u001b[0m \u001b[0mY_val\u001b[0m\u001b[1;33m)\u001b[0m\u001b[1;33m,\u001b[0m\u001b[1;33m\u001b[0m\u001b[1;33m\u001b[0m\u001b[0m\n\u001b[1;32m---> 29\u001b[1;33m             callbacks = [es])\n\u001b[0m\u001b[0;32m     30\u001b[0m     \u001b[0mmodel\u001b[0m\u001b[1;33m.\u001b[0m\u001b[0msave_weights\u001b[0m\u001b[1;33m(\u001b[0m\u001b[1;34m'saved_weights'\u001b[0m\u001b[1;33m)\u001b[0m \u001b[1;31m# don't know how to use this yet but it will probably save time\u001b[0m\u001b[1;33m\u001b[0m\u001b[1;33m\u001b[0m\u001b[0m\n\u001b[0;32m     31\u001b[0m     \u001b[0mt1\u001b[0m \u001b[1;33m=\u001b[0m \u001b[0mtime\u001b[0m\u001b[1;33m.\u001b[0m\u001b[0mtime\u001b[0m\u001b[1;33m(\u001b[0m\u001b[1;33m)\u001b[0m\u001b[1;33m\u001b[0m\u001b[1;33m\u001b[0m\u001b[0m\n",
      "\u001b[1;32m~\\Anaconda3\\lib\\site-packages\\keras\\engine\\training.py\u001b[0m in \u001b[0;36mfit\u001b[1;34m(self, x, y, batch_size, epochs, verbose, callbacks, validation_split, validation_data, shuffle, class_weight, sample_weight, initial_epoch, steps_per_epoch, validation_steps, **kwargs)\u001b[0m\n\u001b[0;32m   1037\u001b[0m                                         \u001b[0minitial_epoch\u001b[0m\u001b[1;33m=\u001b[0m\u001b[0minitial_epoch\u001b[0m\u001b[1;33m,\u001b[0m\u001b[1;33m\u001b[0m\u001b[1;33m\u001b[0m\u001b[0m\n\u001b[0;32m   1038\u001b[0m                                         \u001b[0msteps_per_epoch\u001b[0m\u001b[1;33m=\u001b[0m\u001b[0msteps_per_epoch\u001b[0m\u001b[1;33m,\u001b[0m\u001b[1;33m\u001b[0m\u001b[1;33m\u001b[0m\u001b[0m\n\u001b[1;32m-> 1039\u001b[1;33m                                         validation_steps=validation_steps)\n\u001b[0m\u001b[0;32m   1040\u001b[0m \u001b[1;33m\u001b[0m\u001b[0m\n\u001b[0;32m   1041\u001b[0m     def evaluate(self, x=None, y=None,\n",
      "\u001b[1;32m~\\Anaconda3\\lib\\site-packages\\keras\\engine\\training_arrays.py\u001b[0m in \u001b[0;36mfit_loop\u001b[1;34m(model, f, ins, out_labels, batch_size, epochs, verbose, callbacks, val_f, val_ins, shuffle, callback_metrics, initial_epoch, steps_per_epoch, validation_steps)\u001b[0m\n\u001b[0;32m    197\u001b[0m                     \u001b[0mins_batch\u001b[0m\u001b[1;33m[\u001b[0m\u001b[0mi\u001b[0m\u001b[1;33m]\u001b[0m \u001b[1;33m=\u001b[0m \u001b[0mins_batch\u001b[0m\u001b[1;33m[\u001b[0m\u001b[0mi\u001b[0m\u001b[1;33m]\u001b[0m\u001b[1;33m.\u001b[0m\u001b[0mtoarray\u001b[0m\u001b[1;33m(\u001b[0m\u001b[1;33m)\u001b[0m\u001b[1;33m\u001b[0m\u001b[1;33m\u001b[0m\u001b[0m\n\u001b[0;32m    198\u001b[0m \u001b[1;33m\u001b[0m\u001b[0m\n\u001b[1;32m--> 199\u001b[1;33m                 \u001b[0mouts\u001b[0m \u001b[1;33m=\u001b[0m \u001b[0mf\u001b[0m\u001b[1;33m(\u001b[0m\u001b[0mins_batch\u001b[0m\u001b[1;33m)\u001b[0m\u001b[1;33m\u001b[0m\u001b[1;33m\u001b[0m\u001b[0m\n\u001b[0m\u001b[0;32m    200\u001b[0m                 \u001b[0mouts\u001b[0m \u001b[1;33m=\u001b[0m \u001b[0mto_list\u001b[0m\u001b[1;33m(\u001b[0m\u001b[0mouts\u001b[0m\u001b[1;33m)\u001b[0m\u001b[1;33m\u001b[0m\u001b[1;33m\u001b[0m\u001b[0m\n\u001b[0;32m    201\u001b[0m                 \u001b[1;32mfor\u001b[0m \u001b[0ml\u001b[0m\u001b[1;33m,\u001b[0m \u001b[0mo\u001b[0m \u001b[1;32min\u001b[0m \u001b[0mzip\u001b[0m\u001b[1;33m(\u001b[0m\u001b[0mout_labels\u001b[0m\u001b[1;33m,\u001b[0m \u001b[0mouts\u001b[0m\u001b[1;33m)\u001b[0m\u001b[1;33m:\u001b[0m\u001b[1;33m\u001b[0m\u001b[1;33m\u001b[0m\u001b[0m\n",
      "\u001b[1;32m~\\Anaconda3\\lib\\site-packages\\keras\\backend\\tensorflow_backend.py\u001b[0m in \u001b[0;36m__call__\u001b[1;34m(self, inputs)\u001b[0m\n\u001b[0;32m   2713\u001b[0m                 \u001b[1;32mreturn\u001b[0m \u001b[0mself\u001b[0m\u001b[1;33m.\u001b[0m\u001b[0m_legacy_call\u001b[0m\u001b[1;33m(\u001b[0m\u001b[0minputs\u001b[0m\u001b[1;33m)\u001b[0m\u001b[1;33m\u001b[0m\u001b[1;33m\u001b[0m\u001b[0m\n\u001b[0;32m   2714\u001b[0m \u001b[1;33m\u001b[0m\u001b[0m\n\u001b[1;32m-> 2715\u001b[1;33m             \u001b[1;32mreturn\u001b[0m \u001b[0mself\u001b[0m\u001b[1;33m.\u001b[0m\u001b[0m_call\u001b[0m\u001b[1;33m(\u001b[0m\u001b[0minputs\u001b[0m\u001b[1;33m)\u001b[0m\u001b[1;33m\u001b[0m\u001b[1;33m\u001b[0m\u001b[0m\n\u001b[0m\u001b[0;32m   2716\u001b[0m         \u001b[1;32melse\u001b[0m\u001b[1;33m:\u001b[0m\u001b[1;33m\u001b[0m\u001b[1;33m\u001b[0m\u001b[0m\n\u001b[0;32m   2717\u001b[0m             \u001b[1;32mif\u001b[0m \u001b[0mpy_any\u001b[0m\u001b[1;33m(\u001b[0m\u001b[0mis_tensor\u001b[0m\u001b[1;33m(\u001b[0m\u001b[0mx\u001b[0m\u001b[1;33m)\u001b[0m \u001b[1;32mfor\u001b[0m \u001b[0mx\u001b[0m \u001b[1;32min\u001b[0m \u001b[0minputs\u001b[0m\u001b[1;33m)\u001b[0m\u001b[1;33m:\u001b[0m\u001b[1;33m\u001b[0m\u001b[1;33m\u001b[0m\u001b[0m\n",
      "\u001b[1;32m~\\Anaconda3\\lib\\site-packages\\keras\\backend\\tensorflow_backend.py\u001b[0m in \u001b[0;36m_call\u001b[1;34m(self, inputs)\u001b[0m\n\u001b[0;32m   2673\u001b[0m             \u001b[0mfetched\u001b[0m \u001b[1;33m=\u001b[0m \u001b[0mself\u001b[0m\u001b[1;33m.\u001b[0m\u001b[0m_callable_fn\u001b[0m\u001b[1;33m(\u001b[0m\u001b[1;33m*\u001b[0m\u001b[0marray_vals\u001b[0m\u001b[1;33m,\u001b[0m \u001b[0mrun_metadata\u001b[0m\u001b[1;33m=\u001b[0m\u001b[0mself\u001b[0m\u001b[1;33m.\u001b[0m\u001b[0mrun_metadata\u001b[0m\u001b[1;33m)\u001b[0m\u001b[1;33m\u001b[0m\u001b[1;33m\u001b[0m\u001b[0m\n\u001b[0;32m   2674\u001b[0m         \u001b[1;32melse\u001b[0m\u001b[1;33m:\u001b[0m\u001b[1;33m\u001b[0m\u001b[1;33m\u001b[0m\u001b[0m\n\u001b[1;32m-> 2675\u001b[1;33m             \u001b[0mfetched\u001b[0m \u001b[1;33m=\u001b[0m \u001b[0mself\u001b[0m\u001b[1;33m.\u001b[0m\u001b[0m_callable_fn\u001b[0m\u001b[1;33m(\u001b[0m\u001b[1;33m*\u001b[0m\u001b[0marray_vals\u001b[0m\u001b[1;33m)\u001b[0m\u001b[1;33m\u001b[0m\u001b[1;33m\u001b[0m\u001b[0m\n\u001b[0m\u001b[0;32m   2676\u001b[0m         \u001b[1;32mreturn\u001b[0m \u001b[0mfetched\u001b[0m\u001b[1;33m[\u001b[0m\u001b[1;33m:\u001b[0m\u001b[0mlen\u001b[0m\u001b[1;33m(\u001b[0m\u001b[0mself\u001b[0m\u001b[1;33m.\u001b[0m\u001b[0moutputs\u001b[0m\u001b[1;33m)\u001b[0m\u001b[1;33m]\u001b[0m\u001b[1;33m\u001b[0m\u001b[1;33m\u001b[0m\u001b[0m\n\u001b[0;32m   2677\u001b[0m \u001b[1;33m\u001b[0m\u001b[0m\n",
      "\u001b[1;32m~\\Anaconda3\\lib\\site-packages\\tensorflow_core\\python\\client\\session.py\u001b[0m in \u001b[0;36m__call__\u001b[1;34m(self, *args, **kwargs)\u001b[0m\n\u001b[0;32m   1470\u001b[0m         ret = tf_session.TF_SessionRunCallable(self._session._session,\n\u001b[0;32m   1471\u001b[0m                                                \u001b[0mself\u001b[0m\u001b[1;33m.\u001b[0m\u001b[0m_handle\u001b[0m\u001b[1;33m,\u001b[0m \u001b[0margs\u001b[0m\u001b[1;33m,\u001b[0m\u001b[1;33m\u001b[0m\u001b[1;33m\u001b[0m\u001b[0m\n\u001b[1;32m-> 1472\u001b[1;33m                                                run_metadata_ptr)\n\u001b[0m\u001b[0;32m   1473\u001b[0m         \u001b[1;32mif\u001b[0m \u001b[0mrun_metadata\u001b[0m\u001b[1;33m:\u001b[0m\u001b[1;33m\u001b[0m\u001b[1;33m\u001b[0m\u001b[0m\n\u001b[0;32m   1474\u001b[0m           \u001b[0mproto_data\u001b[0m \u001b[1;33m=\u001b[0m \u001b[0mtf_session\u001b[0m\u001b[1;33m.\u001b[0m\u001b[0mTF_GetBuffer\u001b[0m\u001b[1;33m(\u001b[0m\u001b[0mrun_metadata_ptr\u001b[0m\u001b[1;33m)\u001b[0m\u001b[1;33m\u001b[0m\u001b[1;33m\u001b[0m\u001b[0m\n",
      "\u001b[1;31mKeyboardInterrupt\u001b[0m: "
     ]
    }
   ],
   "source": [
    "from keras.models import Sequential\n",
    "from keras.layers import Dense, Flatten, Reshape, Dropout\n",
    "from keras.optimizers import Adam, SGD, RMSprop\n",
    "from keras.callbacks import EarlyStopping\n",
    "import time\n",
    "\n",
    "def get_model():\n",
    "    \n",
    "    transfer_model = Sequential()\n",
    "    transfer_model.add(Flatten(input_shape=X_train[0].shape))\n",
    "    transfer_model.add(Dense(32, activation='relu'))\n",
    "    transfer_model.add(Dropout(.15))\n",
    "    transfer_model.add(Dense(1, activation='sigmoid'))\n",
    "    return transfer_model\n",
    "\n",
    "def fit_transfer_net(model, X_train, Y_train, X_val, Y_val, starting_lr=.001):\n",
    "    model.compile(\n",
    "        optimizer = RMSprop(), \n",
    "        loss='binary_crossentropy',\n",
    "        metrics=['accuracy']\n",
    "    )\n",
    "    t0 = time.time()\n",
    "    es = EarlyStopping(monitor='val_loss', patience=0, restore_best_weights=True)\n",
    "    history = model.fit(X_train, Y_train,\n",
    "              batch_size=10, # 10 - 200?\n",
    "              epochs=10, # 10 - 2?\n",
    "              verbose=1,\n",
    "              validation_data=(X_val, Y_val),\n",
    "            callbacks = [es])\n",
    "    model.save_weights('saved_weights') # don't know how to use this yet but it will probably save time\n",
    "    t1 = time.time()\n",
    "    print('Training time: {:.2f} sec.'.format(t1-t0))\n",
    "    return history\n",
    "\n",
    "# Do initial fit with relatively high learning rate and then evaluate.\n",
    "# Keep doing this until results are good.\n",
    "accuracy = 0\n",
    "min_worthwhile_accuracy = .69\n",
    "starting_lr = .0005\n",
    "while accuracy < min_worthwhile_accuracy:\n",
    "    model = get_model()\n",
    "    history = fit_transfer_net(model, X_train, Y_train, X_val, Y_val, starting_lr).history\n",
    "\n",
    "    accuracy = history['val_acc'][-1]\n",
    "    print(f\"Accuracy: {accuracy:.2f} ({min_worthwhile_accuracy})\")\n",
    "    starting_lr *= .8\n"
   ]
  },
  {
   "cell_type": "code",
   "execution_count": null,
   "metadata": {},
   "outputs": [],
   "source": [
    "prd = (model.predict(X_val) > .5).reshape(np.prod(Y_val.shape))\n",
    "accuracy = np.sum(prd == Y_val) / len(Y_val)\n",
    "print(f\"Accuracy: {accuracy:.3f}\")"
   ]
  },
  {
   "cell_type": "code",
   "execution_count": 155,
   "metadata": {},
   "outputs": [
    {
     "ename": "NameError",
     "evalue": "name 'min_worthwile_accuracy' is not defined",
     "output_type": "error",
     "traceback": [
      "\u001b[1;31m---------------------------------------------------------------------------\u001b[0m",
      "\u001b[1;31mNameError\u001b[0m                                 Traceback (most recent call last)",
      "\u001b[1;32m<ipython-input-155-2af2ae2e1c1b>\u001b[0m in \u001b[0;36m<module>\u001b[1;34m\u001b[0m\n\u001b[1;32m----> 1\u001b[1;33m \u001b[1;32mdel\u001b[0m \u001b[0mmin_worthwile_accuracy\u001b[0m\u001b[1;33m\u001b[0m\u001b[1;33m\u001b[0m\u001b[0m\n\u001b[0m",
      "\u001b[1;31mNameError\u001b[0m: name 'min_worthwile_accuracy' is not defined"
     ]
    }
   ],
   "source": [
    "del min_worthwile_accuracy"
   ]
  },
  {
   "cell_type": "markdown",
   "metadata": {},
   "source": [
    "## Scikit-learn approaches. Almost 75%."
   ]
  },
  {
   "cell_type": "code",
   "execution_count": 156,
   "metadata": {},
   "outputs": [
    {
     "name": "stdout",
     "output_type": "stream",
     "text": [
      "(576, 12288)\n",
      "(576,)\n",
      "(1600, 12288)\n",
      "(1600,)\n"
     ]
    }
   ],
   "source": [
    "# Scikit-learn approach. reshape.\n",
    "X_train_reshaped = X_train.reshape((X_train.shape[0], np.prod(X_train.shape[1:])))\n",
    "X_val_reshaped = X_val.reshape((X_val.shape[0], np.prod(X_val.shape[1:])))\n",
    "\n",
    "print(X_val_reshaped.shape)\n",
    "print(Y_val.shape)\n",
    "print(X_train_reshaped.shape)\n",
    "print(Y_train.shape)\n",
    "assert X_val_reshaped.shape[0] == Y_val.shape[0]\n",
    "assert X_train_reshaped.shape[0] == Y_train.shape[0]\n",
    "assert X_train_reshaped.shape[0] != X_val_reshaped.shape[0]"
   ]
  },
  {
   "cell_type": "markdown",
   "metadata": {},
   "source": [
    "## Random Forest"
   ]
  },
  {
   "cell_type": "code",
   "execution_count": 157,
   "metadata": {},
   "outputs": [
    {
     "name": "stdout",
     "output_type": "stream",
     "text": [
      "0.7291666666666666\n"
     ]
    }
   ],
   "source": [
    "from sklearn.ensemble import RandomForestClassifier\n",
    "\n",
    "rf = RandomForestClassifier()\n",
    "rf.fit(X_train_reshaped, Y_train)\n",
    "\n",
    "rf_prd = (rf.predict(X_val_reshaped) > .5).reshape(np.prod(Y_val.shape))\n",
    "accuracy = np.sum(rf_prd == Y_val) / len(Y_val)\n",
    "print(accuracy)"
   ]
  },
  {
   "cell_type": "markdown",
   "metadata": {},
   "source": [
    "## SVC"
   ]
  },
  {
   "cell_type": "code",
   "execution_count": 158,
   "metadata": {},
   "outputs": [
    {
     "name": "stdout",
     "output_type": "stream",
     "text": [
      "0.7465277777777778\n"
     ]
    }
   ],
   "source": [
    "from sklearn.svm import SVC\n",
    "\n",
    "svc = SVC()\n",
    "svc.fit(X_train_reshaped, Y_train)\n",
    "\n",
    "svc_prd = (svc.predict(X_val_reshaped) > .5).reshape(np.prod(Y_val.shape))\n",
    "accuracy = np.sum(svc_prd == Y_val) / len(Y_val)\n",
    "print(accuracy)"
   ]
  },
  {
   "cell_type": "markdown",
   "metadata": {},
   "source": [
    "## KNN"
   ]
  },
  {
   "cell_type": "code",
   "execution_count": 159,
   "metadata": {},
   "outputs": [
    {
     "name": "stdout",
     "output_type": "stream",
     "text": [
      "0.609375\n"
     ]
    }
   ],
   "source": [
    "from sklearn.neighbors import KNeighborsClassifier\n",
    "\n",
    "knn = KNeighborsClassifier()\n",
    "knn.fit(X_train_reshaped, Y_train)\n",
    "\n",
    "knn_prd = (knn.predict(X_val_reshaped) > .5).reshape(np.prod(Y_val.shape))\n",
    "accuracy = np.sum(knn_prd == Y_val) / len(Y_val)\n",
    "print(accuracy)"
   ]
  },
  {
   "cell_type": "markdown",
   "metadata": {},
   "source": [
    "## Conclusions\n",
    "\n",
    "This dataset is really, really weird. To be honest, we've only t"
   ]
  },
  {
   "cell_type": "markdown",
   "metadata": {},
   "source": [
    "# 4: Visualization"
   ]
  },
  {
   "cell_type": "code",
   "execution_count": 160,
   "metadata": {},
   "outputs": [
    {
     "data": {
      "text/plain": [
       "(3, 3, 3, 64)"
      ]
     },
     "execution_count": 160,
     "metadata": {},
     "output_type": "execute_result"
    }
   ],
   "source": [
    "first_layer_weights = vggmodel.get_weights()[0]\n",
    "first_layer_weights.shape"
   ]
  },
  {
   "cell_type": "code",
   "execution_count": 161,
   "metadata": {},
   "outputs": [],
   "source": [
    "def kernel_image(weights, i, positive):\n",
    "    \n",
    "    # extract the convolutional kernel at position i\n",
    "    k = weights[:,:,:,i].copy()\n",
    "    if not positive:\n",
    "        k = -k\n",
    "    \n",
    "    # clip the values: if we're looking for positive\n",
    "    # values, just keep the positive part; vice versa\n",
    "    # for the negative values.\n",
    "    k *= k > 0\n",
    "\n",
    "    # rescale the colors, to make the images less dark\n",
    "    m = k.max()\n",
    "    if m > 1e-3:\n",
    "        k /= m \n",
    "\n",
    "    return k"
   ]
  },
  {
   "cell_type": "markdown",
   "metadata": {},
   "source": [
    "## Plotting\n",
    "\n",
    "It's interesting to see how the images are generally eachothers' opposites. But there aren't really any particular image pairs that are more interesting than any others."
   ]
  },
  {
   "cell_type": "code",
   "execution_count": null,
   "metadata": {},
   "outputs": [],
   "source": [
    "first_layer_weights = vggmodel.get_weights()[0]\n",
    "\n",
    "# Plot all (positive, negative) pairs side by side.\n",
    "fig, ax = plt.subplots(8, 16)\n",
    "for i in range(8):\n",
    "    for j in range(8):\n",
    "        ax[i,j*2].matshow(kernel_image(first_layer_weights, i*8+j, True))\n",
    "        ax[i,j*2].set_xticks([], [])\n",
    "        ax[i,j*2].set_yticks([], [])\n",
    "        ax[i,j*2+1].matshow(kernel_image(first_layer_weights, i*8+j, False))\n",
    "        ax[i,j*2+1].set_xticks([], [])\n",
    "        ax[i,j*2+1].set_yticks([], [])\n",
    "fig.suptitle(\"Positive, Negative\")\n",
    "plt.show()\n"
   ]
  },
  {
   "cell_type": "code",
   "execution_count": null,
   "metadata": {},
   "outputs": [],
   "source": []
  },
  {
   "cell_type": "code",
   "execution_count": null,
   "metadata": {},
   "outputs": [],
   "source": []
  }
 ],
 "metadata": {
  "kernelspec": {
   "display_name": "Python 3",
   "language": "python",
   "name": "python3"
  },
  "language_info": {
   "codemirror_mode": {
    "name": "ipython",
    "version": 3
   },
   "file_extension": ".py",
   "mimetype": "text/x-python",
   "name": "python",
   "nbconvert_exporter": "python",
   "pygments_lexer": "ipython3",
   "version": "3.7.6"
  }
 },
 "nbformat": 4,
 "nbformat_minor": 4
}
