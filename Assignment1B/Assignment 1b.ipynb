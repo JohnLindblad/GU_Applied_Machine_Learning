{
 "cells": [
  {
   "cell_type": "markdown",
   "metadata": {},
   "source": [
    "# Assignment 1B by Group 28\n",
    "John Lindblad and Olle Lindgren"
   ]
  },
  {
   "cell_type": "code",
   "execution_count": 17,
   "metadata": {},
   "outputs": [],
   "source": [
    "# imports\n",
    "import pandas as pd\n",
    "import pprint\n",
    "\n",
    "# scikit learn tools\n",
    "from sklearn.feature_extraction import DictVectorizer\n",
    "from sklearn.pipeline import make_pipeline\n",
    "from sklearn.model_selection import cross_val_score\n",
    "\n",
    "# scikit learn classifiers\n",
    "from sklearn.tree import DecisionTreeClassifier\n",
    "from sklearn.ensemble import RandomForestClassifier\n",
    "from sklearn.tree import plot_tree\n",
    "from sklearn.tree import export_graphviz"
   ]
  },
  {
   "cell_type": "markdown",
   "metadata": {},
   "source": [
    "## Task 1: Working with a dataset with categorical features"
   ]
  },
  {
   "cell_type": "markdown",
   "metadata": {},
   "source": [
    "### Step 1: Reading the data"
   ]
  },
  {
   "cell_type": "code",
   "execution_count": 18,
   "metadata": {},
   "outputs": [],
   "source": [
    "adult_train = pd.read_csv('adult_train.csv')\n",
    "adult_test = pd.read_csv('adult_test.csv')\n",
    "#print(adult_train)\n",
    "features = ['age', 'workclass', 'fnlwgt','education', 'education-num', \n",
    "            'marital-status', 'occupation', 'relationship', 'race', 'sex',\n",
    "            'capital-gain', 'capital-loss', 'hours-per-week', 'native-country']\n",
    "target = 'target'\n",
    "Xtrain = adult_train[features]\n",
    "#print(Xtrain)\n",
    "Ytrain = adult_train[target]\n",
    "#print(Ytrain)\n",
    "Xtest = adult_test[features]\n",
    "#print(Xtest)\n",
    "Ytest = adult_test[target]\n",
    "#print(Ytest)"
   ]
  },
  {
   "cell_type": "markdown",
   "metadata": {},
   "source": [
    "### Step 2: Encoding the features as numbers"
   ]
  },
  {
   "cell_type": "code",
   "execution_count": 19,
   "metadata": {},
   "outputs": [],
   "source": [
    "#convert into lists of dictionaries\n",
    "Xtrain_dict = Xtrain.to_dict('records')\n",
    "#print(Xtrain_dict[:5])\n",
    "Xtest_dict = Xtest.to_dict('records')\n",
    "#print(Xtest_dict[:5])\n",
    "#Yrain_dict = Ytrain.to_dict('records')\n",
    "\n",
    "# make and apply a DictVectorizer to training data\n",
    "dv = DictVectorizer()\n",
    "Xtrain_encoded = dv.fit_transform(Xtrain_dict)\n",
    "#print(Xtrain_encoded)\n",
    "#print(type(Xtrain_encoded))\n",
    "\n",
    "# apply the same DictVectorizer to the test data\n",
    "Xtest_encoded = dv.fit_transform(Xtest_dict)\n",
    "#print(Xtrain_encoded)\n",
    "#print(type(Xtrain_encoded))"
   ]
  },
  {
   "cell_type": "code",
   "execution_count": 20,
   "metadata": {},
   "outputs": [],
   "source": [
    "Ytrain_dict = Xtrain.to_dict('records')\n",
    "Ytrain_encoded = dv.fit_transform(Ytrain_dict)"
   ]
  },
  {
   "cell_type": "markdown",
   "metadata": {},
   "source": [
    "### Step 3: Combining the steps "
   ]
  },
  {
   "cell_type": "code",
   "execution_count": 21,
   "metadata": {},
   "outputs": [],
   "source": [
    "# building a pipeline\n",
    "pipeline = make_pipeline(\n",
    "    DictVectorizer(),\n",
    "    DecisionTreeClassifier()\n",
    ")"
   ]
  },
  {
   "cell_type": "code",
   "execution_count": 22,
   "metadata": {},
   "outputs": [],
   "source": [
    "# testing the pipeline\n",
    "\n",
    "#pipeline.score(Xtrain_dict, Ytrain)\n",
    "# it works but I have no idea what the score tells me\n",
    "\n",
    "pipeline.fit(Xtrain_dict, Ytrain);\n",
    "# no errors given, I assume that it works"
   ]
  },
  {
   "cell_type": "markdown",
   "metadata": {},
   "source": [
    "## Task 2: Decision trees and random forests"
   ]
  },
  {
   "cell_type": "markdown",
   "metadata": {},
   "source": [
    "### Underfitting and overfitting in decision tree classifiers"
   ]
  },
  {
   "cell_type": "code",
   "execution_count": 23,
   "metadata": {},
   "outputs": [
    {
     "name": "stdout",
     "output_type": "stream",
     "text": [
      "The cross-validation score on the test data is: 0.8167747994843804\n"
     ]
    }
   ],
   "source": [
    "clf_tree = DecisionTreeClassifier()\n",
    "clf_tree.fit(Xtrain_encoded, Ytrain)\n",
    "cvs_tree = cross_val_score(clf_tree, Xtrain_encoded, Ytrain, cv=5, error_score='raise').mean()\n",
    "print(f'The cross-validation score on the test data is: {cvs_tree}')"
   ]
  },
  {
   "cell_type": "code",
   "execution_count": 24,
   "metadata": {},
   "outputs": [
    {
     "ename": "ValueError",
     "evalue": "Number of features of the model must match the input. Model n_features is 108 and input n_features is 107 ",
     "output_type": "error",
     "traceback": [
      "\u001b[1;31m---------------------------------------------------------------------------\u001b[0m",
      "\u001b[1;31mValueError\u001b[0m                                Traceback (most recent call last)",
      "\u001b[1;32m<ipython-input-24-f6d0386b18f6>\u001b[0m in \u001b[0;36m<module>\u001b[1;34m\u001b[0m\n\u001b[1;32m----> 1\u001b[1;33m \u001b[0mclf_tree\u001b[0m\u001b[1;33m.\u001b[0m\u001b[0mpredict\u001b[0m\u001b[1;33m(\u001b[0m\u001b[0mXtest_encoded\u001b[0m\u001b[1;33m)\u001b[0m\u001b[1;33m\u001b[0m\u001b[1;33m\u001b[0m\u001b[0m\n\u001b[0m",
      "\u001b[1;32m~\\Anaconda3\\lib\\site-packages\\sklearn\\tree\\tree.py\u001b[0m in \u001b[0;36mpredict\u001b[1;34m(self, X, check_input)\u001b[0m\n\u001b[0;32m    428\u001b[0m         \"\"\"\n\u001b[0;32m    429\u001b[0m         \u001b[0mcheck_is_fitted\u001b[0m\u001b[1;33m(\u001b[0m\u001b[0mself\u001b[0m\u001b[1;33m,\u001b[0m \u001b[1;34m'tree_'\u001b[0m\u001b[1;33m)\u001b[0m\u001b[1;33m\u001b[0m\u001b[1;33m\u001b[0m\u001b[0m\n\u001b[1;32m--> 430\u001b[1;33m         \u001b[0mX\u001b[0m \u001b[1;33m=\u001b[0m \u001b[0mself\u001b[0m\u001b[1;33m.\u001b[0m\u001b[0m_validate_X_predict\u001b[0m\u001b[1;33m(\u001b[0m\u001b[0mX\u001b[0m\u001b[1;33m,\u001b[0m \u001b[0mcheck_input\u001b[0m\u001b[1;33m)\u001b[0m\u001b[1;33m\u001b[0m\u001b[1;33m\u001b[0m\u001b[0m\n\u001b[0m\u001b[0;32m    431\u001b[0m         \u001b[0mproba\u001b[0m \u001b[1;33m=\u001b[0m \u001b[0mself\u001b[0m\u001b[1;33m.\u001b[0m\u001b[0mtree_\u001b[0m\u001b[1;33m.\u001b[0m\u001b[0mpredict\u001b[0m\u001b[1;33m(\u001b[0m\u001b[0mX\u001b[0m\u001b[1;33m)\u001b[0m\u001b[1;33m\u001b[0m\u001b[1;33m\u001b[0m\u001b[0m\n\u001b[0;32m    432\u001b[0m         \u001b[0mn_samples\u001b[0m \u001b[1;33m=\u001b[0m \u001b[0mX\u001b[0m\u001b[1;33m.\u001b[0m\u001b[0mshape\u001b[0m\u001b[1;33m[\u001b[0m\u001b[1;36m0\u001b[0m\u001b[1;33m]\u001b[0m\u001b[1;33m\u001b[0m\u001b[1;33m\u001b[0m\u001b[0m\n",
      "\u001b[1;32m~\\Anaconda3\\lib\\site-packages\\sklearn\\tree\\tree.py\u001b[0m in \u001b[0;36m_validate_X_predict\u001b[1;34m(self, X, check_input)\u001b[0m\n\u001b[0;32m    400\u001b[0m                              \u001b[1;34m\"match the input. Model n_features is %s and \"\u001b[0m\u001b[1;33m\u001b[0m\u001b[1;33m\u001b[0m\u001b[0m\n\u001b[0;32m    401\u001b[0m                              \u001b[1;34m\"input n_features is %s \"\u001b[0m\u001b[1;33m\u001b[0m\u001b[1;33m\u001b[0m\u001b[0m\n\u001b[1;32m--> 402\u001b[1;33m                              % (self.n_features_, n_features))\n\u001b[0m\u001b[0;32m    403\u001b[0m \u001b[1;33m\u001b[0m\u001b[0m\n\u001b[0;32m    404\u001b[0m         \u001b[1;32mreturn\u001b[0m \u001b[0mX\u001b[0m\u001b[1;33m\u001b[0m\u001b[1;33m\u001b[0m\u001b[0m\n",
      "\u001b[1;31mValueError\u001b[0m: Number of features of the model must match the input. Model n_features is 108 and input n_features is 107 "
     ]
    }
   ],
   "source": [
    "clf_tree.predict(Xtest_encoded)"
   ]
  },
  {
   "cell_type": "markdown",
   "metadata": {},
   "source": [
    "### Underfitting and overfitting in random forest classifiers"
   ]
  },
  {
   "cell_type": "code",
   "execution_count": 26,
   "metadata": {},
   "outputs": [
    {
     "name": "stdout",
     "output_type": "stream",
     "text": [
      "The cross-validation score on the test data is: 0.8553485261569094\n"
     ]
    }
   ],
   "source": [
    "clf_forest = RandomForestClassifier(n_estimators=100, n_jobs=-1)\n",
    "clf_forest.fit(Xtrain_encoded, Ytrain)\n",
    "cvs_forest = cross_val_score(clf_forest, Xtrain_encoded, Ytrain, cv=5, error_score='raise').mean()\n",
    "print(f'The cross-validation score on the test data is: {cvs_forest}')"
   ]
  },
  {
   "cell_type": "code",
   "execution_count": 27,
   "metadata": {},
   "outputs": [
    {
     "ename": "ValueError",
     "evalue": "Number of features of the model must match the input. Model n_features is 108 and input n_features is 107 ",
     "output_type": "error",
     "traceback": [
      "\u001b[1;31m---------------------------------------------------------------------------\u001b[0m",
      "\u001b[1;31mValueError\u001b[0m                                Traceback (most recent call last)",
      "\u001b[1;32m<ipython-input-27-8078151b5248>\u001b[0m in \u001b[0;36m<module>\u001b[1;34m\u001b[0m\n\u001b[1;32m----> 1\u001b[1;33m \u001b[0mclf_forest\u001b[0m\u001b[1;33m.\u001b[0m\u001b[0mpredict\u001b[0m\u001b[1;33m(\u001b[0m\u001b[0mXtest_encoded\u001b[0m\u001b[1;33m)\u001b[0m\u001b[1;33m\u001b[0m\u001b[1;33m\u001b[0m\u001b[0m\n\u001b[0m",
      "\u001b[1;32m~\\Anaconda3\\lib\\site-packages\\sklearn\\ensemble\\forest.py\u001b[0m in \u001b[0;36mpredict\u001b[1;34m(self, X)\u001b[0m\n\u001b[0;32m    543\u001b[0m             \u001b[0mThe\u001b[0m \u001b[0mpredicted\u001b[0m \u001b[0mclasses\u001b[0m\u001b[1;33m.\u001b[0m\u001b[1;33m\u001b[0m\u001b[1;33m\u001b[0m\u001b[0m\n\u001b[0;32m    544\u001b[0m         \"\"\"\n\u001b[1;32m--> 545\u001b[1;33m         \u001b[0mproba\u001b[0m \u001b[1;33m=\u001b[0m \u001b[0mself\u001b[0m\u001b[1;33m.\u001b[0m\u001b[0mpredict_proba\u001b[0m\u001b[1;33m(\u001b[0m\u001b[0mX\u001b[0m\u001b[1;33m)\u001b[0m\u001b[1;33m\u001b[0m\u001b[1;33m\u001b[0m\u001b[0m\n\u001b[0m\u001b[0;32m    546\u001b[0m \u001b[1;33m\u001b[0m\u001b[0m\n\u001b[0;32m    547\u001b[0m         \u001b[1;32mif\u001b[0m \u001b[0mself\u001b[0m\u001b[1;33m.\u001b[0m\u001b[0mn_outputs_\u001b[0m \u001b[1;33m==\u001b[0m \u001b[1;36m1\u001b[0m\u001b[1;33m:\u001b[0m\u001b[1;33m\u001b[0m\u001b[1;33m\u001b[0m\u001b[0m\n",
      "\u001b[1;32m~\\Anaconda3\\lib\\site-packages\\sklearn\\ensemble\\forest.py\u001b[0m in \u001b[0;36mpredict_proba\u001b[1;34m(self, X)\u001b[0m\n\u001b[0;32m    586\u001b[0m         \u001b[0mcheck_is_fitted\u001b[0m\u001b[1;33m(\u001b[0m\u001b[0mself\u001b[0m\u001b[1;33m,\u001b[0m \u001b[1;34m'estimators_'\u001b[0m\u001b[1;33m)\u001b[0m\u001b[1;33m\u001b[0m\u001b[1;33m\u001b[0m\u001b[0m\n\u001b[0;32m    587\u001b[0m         \u001b[1;31m# Check data\u001b[0m\u001b[1;33m\u001b[0m\u001b[1;33m\u001b[0m\u001b[1;33m\u001b[0m\u001b[0m\n\u001b[1;32m--> 588\u001b[1;33m         \u001b[0mX\u001b[0m \u001b[1;33m=\u001b[0m \u001b[0mself\u001b[0m\u001b[1;33m.\u001b[0m\u001b[0m_validate_X_predict\u001b[0m\u001b[1;33m(\u001b[0m\u001b[0mX\u001b[0m\u001b[1;33m)\u001b[0m\u001b[1;33m\u001b[0m\u001b[1;33m\u001b[0m\u001b[0m\n\u001b[0m\u001b[0;32m    589\u001b[0m \u001b[1;33m\u001b[0m\u001b[0m\n\u001b[0;32m    590\u001b[0m         \u001b[1;31m# Assign chunk of trees to jobs\u001b[0m\u001b[1;33m\u001b[0m\u001b[1;33m\u001b[0m\u001b[1;33m\u001b[0m\u001b[0m\n",
      "\u001b[1;32m~\\Anaconda3\\lib\\site-packages\\sklearn\\ensemble\\forest.py\u001b[0m in \u001b[0;36m_validate_X_predict\u001b[1;34m(self, X)\u001b[0m\n\u001b[0;32m    357\u001b[0m                                  \"call `fit` before exploiting the model.\")\n\u001b[0;32m    358\u001b[0m \u001b[1;33m\u001b[0m\u001b[0m\n\u001b[1;32m--> 359\u001b[1;33m         \u001b[1;32mreturn\u001b[0m \u001b[0mself\u001b[0m\u001b[1;33m.\u001b[0m\u001b[0mestimators_\u001b[0m\u001b[1;33m[\u001b[0m\u001b[1;36m0\u001b[0m\u001b[1;33m]\u001b[0m\u001b[1;33m.\u001b[0m\u001b[0m_validate_X_predict\u001b[0m\u001b[1;33m(\u001b[0m\u001b[0mX\u001b[0m\u001b[1;33m,\u001b[0m \u001b[0mcheck_input\u001b[0m\u001b[1;33m=\u001b[0m\u001b[1;32mTrue\u001b[0m\u001b[1;33m)\u001b[0m\u001b[1;33m\u001b[0m\u001b[1;33m\u001b[0m\u001b[0m\n\u001b[0m\u001b[0;32m    360\u001b[0m \u001b[1;33m\u001b[0m\u001b[0m\n\u001b[0;32m    361\u001b[0m     \u001b[1;33m@\u001b[0m\u001b[0mproperty\u001b[0m\u001b[1;33m\u001b[0m\u001b[1;33m\u001b[0m\u001b[0m\n",
      "\u001b[1;32m~\\Anaconda3\\lib\\site-packages\\sklearn\\tree\\tree.py\u001b[0m in \u001b[0;36m_validate_X_predict\u001b[1;34m(self, X, check_input)\u001b[0m\n\u001b[0;32m    400\u001b[0m                              \u001b[1;34m\"match the input. Model n_features is %s and \"\u001b[0m\u001b[1;33m\u001b[0m\u001b[1;33m\u001b[0m\u001b[0m\n\u001b[0;32m    401\u001b[0m                              \u001b[1;34m\"input n_features is %s \"\u001b[0m\u001b[1;33m\u001b[0m\u001b[1;33m\u001b[0m\u001b[0m\n\u001b[1;32m--> 402\u001b[1;33m                              % (self.n_features_, n_features))\n\u001b[0m\u001b[0;32m    403\u001b[0m \u001b[1;33m\u001b[0m\u001b[0m\n\u001b[0;32m    404\u001b[0m         \u001b[1;32mreturn\u001b[0m \u001b[0mX\u001b[0m\u001b[1;33m\u001b[0m\u001b[1;33m\u001b[0m\u001b[0m\n",
      "\u001b[1;31mValueError\u001b[0m: Number of features of the model must match the input. Model n_features is 108 and input n_features is 107 "
     ]
    }
   ],
   "source": [
    "clf_forest.predict(Xtest_encoded)"
   ]
  },
  {
   "cell_type": "markdown",
   "metadata": {},
   "source": [
    "## Task 3: Feature importance in random forest classifiers"
   ]
  },
  {
   "cell_type": "markdown",
   "metadata": {},
   "source": [
    "The code below prints a sorted list of the importance scores for all features starting with the most important one. In both cases scikit learn by default uses the gini score (mean decrease in impurity) to determine the importance of different features."
   ]
  },
  {
   "cell_type": "markdown",
   "metadata": {},
   "source": [
    "### Feature importance for the random forest classifier"
   ]
  },
  {
   "cell_type": "code",
   "execution_count": 29,
   "metadata": {},
   "outputs": [
    {
     "name": "stdout",
     "output_type": "stream",
     "text": [
      "[('fnlwgt', 0.1646190781339431),\n",
      " ('age', 0.1503077480370359),\n",
      " ('capital-gain', 0.0941879228098677),\n",
      " ('hours-per-week', 0.0852984143415119),\n",
      " ('education-num', 0.0605269432578257),\n",
      " ('marital-status=Married-civ-spouse', 0.05752386982738975),\n",
      " ('relationship=Husband', 0.03982222511652837),\n",
      " ('capital-loss', 0.029877910336967163),\n",
      " ('marital-status=Never-married', 0.02874923649052793),\n",
      " ('occupation=Exec-managerial', 0.01894477640965589),\n",
      " ('occupation=Prof-specialty', 0.015354717342298423),\n",
      " ('education=Bachelors', 0.011524478325525863),\n",
      " ('sex=Male', 0.011170840301839928),\n",
      " ('workclass=Private', 0.010449333330712409),\n",
      " ('relationship=Not-in-family', 0.010444324529894968),\n",
      " ('relationship=Wife', 0.009839785008561294),\n",
      " ('education=Masters', 0.008543895183392488),\n",
      " ('workclass=Self-emp-not-inc', 0.008398835820082405),\n",
      " ('relationship=Own-child', 0.008152077715487302),\n",
      " ('sex=Female', 0.008095371546472914),\n",
      " ('education=HS-grad', 0.007586470751143972),\n",
      " ('occupation=Other-service', 0.007293370537431949),\n",
      " ('marital-status=Divorced', 0.007233233307563655),\n",
      " ('occupation=Sales', 0.006773347543493474),\n",
      " ('occupation=Craft-repair', 0.006384341543733253),\n",
      " ('workclass=Self-emp-inc', 0.006348809748660514),\n",
      " ('race=White', 0.00613625567162839),\n",
      " ('native-country=United-States', 0.0060665583028770695),\n",
      " ('workclass=Local-gov', 0.005663790805461111),\n",
      " ('occupation=Adm-clerical', 0.005419608391105953),\n",
      " ('relationship=Unmarried', 0.005345474148054945),\n",
      " ('education=Some-college', 0.005280400352268468),\n",
      " ('workclass=Federal-gov', 0.00493417601900269),\n",
      " ('education=Prof-school', 0.0047054068300278985),\n",
      " ('workclass=State-gov', 0.004671354994394411),\n",
      " ('race=Black', 0.004646404240155695),\n",
      " ('occupation=Tech-support', 0.00456691461581123),\n",
      " ('occupation=Transport-moving', 0.004421860217025468),\n",
      " ('occupation=Farming-fishing', 0.004333636892357248),\n",
      " ('occupation=Machine-op-inspct', 0.004035496219595057),\n",
      " ('occupation=Handlers-cleaners', 0.003263530730331334),\n",
      " ('education=Doctorate', 0.0032288045519115426),\n",
      " ('occupation=Protective-serv', 0.0031210070310088915),\n",
      " ('education=Assoc-voc', 0.0029337300594254405),\n",
      " ('race=Asian-Pac-Islander', 0.002821790165280736),\n",
      " ('native-country=?', 0.0025669910286360616),\n",
      " ('education=Assoc-acdm', 0.0023538583159387087),\n",
      " ('education=11th', 0.0020856243996992597),\n",
      " ('education=7th-8th', 0.002024180659409354),\n",
      " ('native-country=Mexico', 0.0019480052970030292),\n",
      " ('marital-status=Separated', 0.0019066966477745803),\n",
      " ('occupation=?', 0.001892132380762704),\n",
      " ('marital-status=Widowed', 0.001877190833817391),\n",
      " ('workclass=?', 0.0018747143433273336),\n",
      " ('education=10th', 0.0014822712544812551),\n",
      " ('race=Amer-Indian-Eskimo', 0.0012540791557806774),\n",
      " ('relationship=Other-relative', 0.0012539109781866439),\n",
      " ('education=9th', 0.001189540549122178),\n",
      " ('native-country=Germany', 0.0010875189300098085),\n",
      " ('native-country=Canada', 0.0009920510464152899),\n",
      " ('native-country=England', 0.0009125724422499571),\n",
      " ('native-country=Philippines', 0.0008944939630966328),\n",
      " ('race=Other', 0.0008852479602067373),\n",
      " ('marital-status=Married-spouse-absent', 0.0008325259728592066),\n",
      " ('education=12th', 0.0007815644039196914),\n",
      " ('native-country=Cuba', 0.0007210545357641946),\n",
      " ('native-country=Italy', 0.0006914152575098656),\n",
      " ('native-country=India', 0.0006871355397008872),\n",
      " ('education=5th-6th', 0.0006341472428497029),\n",
      " ('native-country=South', 0.000596222200953996),\n",
      " ('native-country=Japan', 0.0005129240449190613),\n",
      " ('native-country=Puerto-Rico', 0.0005016254966391554),\n",
      " ('native-country=Poland', 0.00044988794892829705),\n",
      " ('native-country=China', 0.0004387267479488575),\n",
      " ('native-country=Iran', 0.0004131072906151574),\n",
      " ('marital-status=Married-AF-spouse', 0.0003931419660491027),\n",
      " ('native-country=Jamaica', 0.0003881694314039846),\n",
      " ('native-country=Greece', 0.00031547052968292197),\n",
      " ('native-country=France', 0.00030798098703085154),\n",
      " ('native-country=Vietnam', 0.00029622120016632936),\n",
      " ('native-country=Taiwan', 0.00029354064303178744),\n",
      " ('native-country=Yugoslavia', 0.0002829116141614237),\n",
      " ('native-country=Cambodia', 0.0002582834273255139),\n",
      " ('native-country=Columbia', 0.00021141503209248357),\n",
      " ('education=1st-4th', 0.00020825633991335474),\n",
      " ('native-country=El-Salvador', 0.00020362003444066894),\n",
      " ('native-country=Ireland', 0.0001895987945525013),\n",
      " ('native-country=Portugal', 0.0001893014416749967),\n",
      " ('native-country=Haiti', 0.00016841113475776957),\n",
      " ('native-country=Hong', 0.00014922381353540918),\n",
      " ('native-country=Dominican-Republic', 0.00014392509178215264),\n",
      " ('native-country=Ecuador', 0.0001405699130895668),\n",
      " ('native-country=Guatemala', 0.00013661546183913),\n",
      " ('native-country=Hungary', 0.00012220106813737544),\n",
      " ('occupation=Priv-house-serv', 0.0001189918191158011),\n",
      " ('native-country=Nicaragua', 0.00011156959684761262),\n",
      " ('native-country=Trinadad&Tobago', 0.00010978791609459233),\n",
      " ('native-country=Peru', 0.00010313571104619487),\n",
      " ('native-country=Thailand', 7.608782634509206e-05),\n",
      " ('native-country=Laos', 6.470045066430365e-05),\n",
      " ('workclass=Without-pay', 6.142343564376704e-05),\n",
      " ('native-country=Scotland', 5.998430322412736e-05),\n",
      " ('education=Preschool', 4.864023153900135e-05),\n",
      " ('native-country=Outlying-US(Guam-USVI-etc)', 3.0495838323276824e-05),\n",
      " ('occupation=Armed-Forces', 1.2246904423582924e-05),\n",
      " ('native-country=Honduras', 1.1858153492252514e-05),\n",
      " ('workclass=Never-worked', 3.2454847756361713e-06),\n",
      " ('native-country=Holand-Netherlands', 0.0)]\n"
     ]
    }
   ],
   "source": [
    "# for the random forest classifier\n",
    "\n",
    "importances = clf_forest.feature_importances_\n",
    "names = dv.feature_names_\n",
    "output = list(zip(names, importances))\n",
    "#print(output)\n",
    "output_sorted = sorted(output, key=lambda tup: tup[1], reverse=True)\n",
    "pp = pprint.PrettyPrinter()\n",
    "pp.pprint(output_sorted)"
   ]
  },
  {
   "cell_type": "markdown",
   "metadata": {},
   "source": [
    "Some features that are intuitive to find at the top and also ends up there are:\n",
    "\n",
    "    age (salary tends to increase with experience)\n",
    "    \n",
    "    capital-gain (likely to be positively correlated with salary)\n",
    "    \n",
    "    hours per week (more hours usually means higher salary)\n",
    "    \n",
    "    education (education usually means to more qualified and better paid jobs)"
   ]
  },
  {
   "cell_type": "markdown",
   "metadata": {},
   "source": [
    "### Feature importance for the decision tree classifier"
   ]
  },
  {
   "cell_type": "code",
   "execution_count": 15,
   "metadata": {},
   "outputs": [
    {
     "name": "stdout",
     "output_type": "stream",
     "text": [
      "[('marital-status=Married-civ-spouse', 0.19777128189698664),\n",
      " ('fnlwgt', 0.18414435523869777),\n",
      " ('education-num', 0.11320605286769168),\n",
      " ('age', 0.10839973936526899),\n",
      " ('capital-gain', 0.1048135869860863),\n",
      " ('hours-per-week', 0.0698545046879415),\n",
      " ('capital-loss', 0.037985160985046416),\n",
      " ('occupation=Exec-managerial', 0.009341521145424844),\n",
      " ('workclass=Private', 0.009081583044568993),\n",
      " ('workclass=Self-emp-not-inc', 0.008663331891141494),\n",
      " ('occupation=Sales', 0.008343797869959271),\n",
      " ('occupation=Prof-specialty', 0.007525121709789264),\n",
      " ('occupation=Craft-repair', 0.007398447705215974),\n",
      " ('workclass=Local-gov', 0.005981843065125365),\n",
      " ('native-country=United-States', 0.005644946522155411),\n",
      " ('race=White', 0.005411552620154304),\n",
      " ('occupation=Machine-op-inspct', 0.0052601087415490464),\n",
      " ('occupation=Transport-moving', 0.005235721904302993),\n",
      " ('workclass=Self-emp-inc', 0.0051506280733530216),\n",
      " ('workclass=State-gov', 0.004744091961193072),\n",
      " ('occupation=Tech-support', 0.004739430170997202),\n",
      " ('relationship=Wife', 0.004700108127878666),\n",
      " ('occupation=Adm-clerical', 0.004497769487677011),\n",
      " ('workclass=Federal-gov', 0.0043182327680820485),\n",
      " ('occupation=Handlers-cleaners', 0.004230607144352859),\n",
      " ('race=Black', 0.004215219683368461),\n",
      " ('sex=Female', 0.003660724733673125),\n",
      " ('occupation=Other-service', 0.0034858375292061827),\n",
      " ('occupation=Protective-serv', 0.0034475338294205123),\n",
      " ('sex=Male', 0.003216938582037825),\n",
      " ('education=Some-college', 0.0030245408900345344),\n",
      " ('marital-status=Divorced', 0.0029108399593844123),\n",
      " ('relationship=Not-in-family', 0.002649543500519189),\n",
      " ('occupation=Farming-fishing', 0.0025849668280211457),\n",
      " ('race=Asian-Pac-Islander', 0.002582539095593068),\n",
      " ('education=Masters', 0.0024356808886474065),\n",
      " ('relationship=Husband', 0.0022226186590283067),\n",
      " ('native-country=?', 0.002171663156892225),\n",
      " ('education=Assoc-voc', 0.0020739443653628614),\n",
      " ('workclass=?', 0.002068626690338867),\n",
      " ('marital-status=Never-married', 0.0020426689859731257),\n",
      " ('education=HS-grad', 0.0019762434803810023),\n",
      " ('native-country=Germany', 0.0015531861467263568),\n",
      " ('education=Assoc-acdm', 0.0015514135759516832),\n",
      " ('occupation=?', 0.0011901238945091629),\n",
      " ('race=Amer-Indian-Eskimo', 0.0011802702133736083),\n",
      " ('education=Bachelors', 0.0011683594135192294),\n",
      " ('relationship=Own-child', 0.0011601643709773497),\n",
      " ('relationship=Unmarried', 0.0010906361027752112),\n",
      " ('relationship=Other-relative', 0.0009781202829575743),\n",
      " ('native-country=Canada', 0.0009460716655322554),\n",
      " ('native-country=Italy', 0.0009450908011075385),\n",
      " ('marital-status=Separated', 0.0009260333321164768),\n",
      " ('native-country=Philippines', 0.0008970535420008254),\n",
      " ('native-country=Cuba', 0.0008306966734323136),\n",
      " ('native-country=England', 0.0007378866833279076),\n",
      " ('native-country=Mexico', 0.0007337699747924152),\n",
      " ('native-country=India', 0.0007118259880538196),\n",
      " ('marital-status=Widowed', 0.0006586037207923441),\n",
      " ('marital-status=Married-spouse-absent', 0.0006001245316920415),\n",
      " ('native-country=South', 0.0005888764501648927),\n",
      " ('native-country=Japan', 0.0005592608392475143),\n",
      " ('education=Doctorate', 0.0005570105616192844),\n",
      " ('native-country=Yugoslavia', 0.0005418892164366516),\n",
      " ('race=Other', 0.0005187822036796699),\n",
      " ('education=12th', 0.0004527640515626395),\n",
      " ('education=Prof-school', 0.0004055625750542605),\n",
      " ('education=11th', 0.00037173947698553646),\n",
      " ('education=9th', 0.0003365598911858919),\n",
      " ('native-country=Vietnam', 0.00031152778854173357),\n",
      " ('native-country=Cambodia', 0.00030709585246419804),\n",
      " ('native-country=Poland', 0.0002857999569510783),\n",
      " ('marital-status=Married-AF-spouse', 0.0002788665435839544),\n",
      " ('native-country=Ireland', 0.00026920685095365045),\n",
      " ('native-country=Greece', 0.0002649550785528743),\n",
      " ('native-country=Taiwan', 0.00023927640800264642),\n",
      " ('native-country=Jamaica', 0.0002167390523173773),\n",
      " ('native-country=Thailand', 0.00020940241656858393),\n",
      " ('native-country=Haiti', 0.00020368248984502105),\n",
      " ('education=5th-6th', 0.00020136804426256128),\n",
      " ('education=Preschool', 0.00016763829823412054),\n",
      " ('native-country=Trinadad&Tobago', 0.00015430722774264477),\n",
      " ('native-country=Guatemala', 0.00015393055547593577),\n",
      " ('education=10th', 0.00013907952218364467),\n",
      " ('native-country=Ecuador', 0.00013440155103542348),\n",
      " ('workclass=Without-pay', 0.00012600145409570954),\n",
      " ('native-country=Hungary', 0.0001238992847900607),\n",
      " ('native-country=Iran', 0.00011830136523430502),\n",
      " ('native-country=Puerto-Rico', 0.0001068734204910441),\n",
      " ('native-country=Columbia', 0.00010021690832406202),\n",
      " ('native-country=China', 0.00010000115404421393),\n",
      " ('native-country=Nicaragua', 8.400096939713969e-05),\n",
      " ('native-country=Portugal', 7.980485513317996e-05),\n",
      " ('native-country=Laos', 7.711414863435711e-05),\n",
      " ('native-country=France', 6.53125021075819e-05),\n",
      " ('education=1st-4th', 4.760054932504579e-05),\n",
      " ('education=7th-8th', 2.806273361102995e-05),\n",
      " ('native-country=Dominican-Republic', 0.0),\n",
      " ('native-country=El-Salvador', 0.0),\n",
      " ('native-country=Holand-Netherlands', 0.0),\n",
      " ('native-country=Honduras', 0.0),\n",
      " ('native-country=Hong', 0.0),\n",
      " ('native-country=Outlying-US(Guam-USVI-etc)', 0.0),\n",
      " ('native-country=Peru', 0.0),\n",
      " ('native-country=Scotland', 0.0),\n",
      " ('occupation=Armed-Forces', 0.0),\n",
      " ('occupation=Priv-house-serv', 0.0),\n",
      " ('workclass=Never-worked', 0.0)]\n"
     ]
    }
   ],
   "source": [
    "importances = clf_tree.feature_importances_\n",
    "names = dv.feature_names_\n",
    "output = list(zip(names, importances))\n",
    "#print(output)\n",
    "output_sorted = sorted(output, key=lambda tup: tup[1], reverse=True)\n",
    "pp = pprint.PrettyPrinter()\n",
    "pp.pprint(output_sorted)"
   ]
  },
  {
   "cell_type": "markdown",
   "metadata": {},
   "source": [
    "The above mentioned (age, education, capital gain and hours per week) ends up in the top also on this one and our intuitive explanation for this is the same as above. "
   ]
  },
  {
   "cell_type": "markdown",
   "metadata": {},
   "source": [
    "### Alternative approach\n",
    "One alternative to this approach is to instead compute the importance of features is to find the most important feature by using a method called drop-column. The idea is to retrain the model several times and drop one column each time. The importance is then defined as the difference between the performance of all columns and the performance with the specific column dropped. This method is often seen as one of the most accurate when determining the importance sicne it measures the model accuracy with and without different features. However, it has a huge drawback, especiall for bigger models. The fact that the model needs to be retrained once for every column dropped means that it is very computationally expensive and sometimes impossible to apply in practice. [source: https://explained.ai/rf-importance/]"
   ]
  }
 ],
 "metadata": {
  "kernelspec": {
   "display_name": "Python 3",
   "language": "python",
   "name": "python3"
  },
  "language_info": {
   "codemirror_mode": {
    "name": "ipython",
    "version": 3
   },
   "file_extension": ".py",
   "mimetype": "text/x-python",
   "name": "python",
   "nbconvert_exporter": "python",
   "pygments_lexer": "ipython3",
   "version": "3.7.4"
  }
 },
 "nbformat": 4,
 "nbformat_minor": 2
}
