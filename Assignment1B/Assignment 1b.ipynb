{
 "cells": [
  {
   "cell_type": "markdown",
   "metadata": {},
   "source": [
    "# Assignment 1B by Group 28\n",
    "John Lindblad and Olle Lindgren"
   ]
  },
  {
   "cell_type": "code",
   "execution_count": 1,
   "metadata": {},
   "outputs": [],
   "source": [
    "# imports\n",
    "import pandas as pd\n",
    "import pprint\n",
    "\n",
    "# scikit learn tools\n",
    "from sklearn.feature_extraction import DictVectorizer\n",
    "from sklearn.pipeline import make_pipeline\n",
    "from sklearn.model_selection import cross_val_score\n",
    "\n",
    "# scikit learn classifiers\n",
    "from sklearn.tree import DecisionTreeClassifier\n",
    "from sklearn.ensemble import RandomForestClassifier\n",
    "from sklearn.tree import plot_tree\n",
    "from sklearn.tree import export_graphviz"
   ]
  },
  {
   "cell_type": "markdown",
   "metadata": {},
   "source": [
    "## Task 1: Working with a dataset with categorical features"
   ]
  },
  {
   "cell_type": "markdown",
   "metadata": {},
   "source": [
    "### Step 1: Reading the data"
   ]
  },
  {
   "cell_type": "code",
   "execution_count": 2,
   "metadata": {},
   "outputs": [],
   "source": [
    "adult_train = pd.read_csv('adult_train.csv')\n",
    "adult_test = pd.read_csv('adult_test.csv')\n",
    "#print(adult_train)\n",
    "features = ['age', 'workclass', 'fnlwgt','education', 'education-num', \n",
    "            'marital-status', 'occupation', 'relationship', 'race', 'sex',\n",
    "            'capital-gain', 'capital-loss', 'hours-per-week', 'native-country']\n",
    "target = 'target'\n",
    "Xtrain = adult_train[features]\n",
    "#print(Xtrain)\n",
    "Ytrain = adult_train[target]\n",
    "#print(Ytrain)\n",
    "Xtest = adult_test[features]\n",
    "#print(Xtest)\n",
    "Ytest = adult_test[target]\n",
    "#print(Ytest)"
   ]
  },
  {
   "cell_type": "markdown",
   "metadata": {},
   "source": [
    "### Step 2: Encoding the features as numbers"
   ]
  },
  {
   "cell_type": "code",
   "execution_count": 3,
   "metadata": {},
   "outputs": [],
   "source": [
    "#convert into lists of dictionaries\n",
    "Xtrain_dict = Xtrain.to_dict('records')\n",
    "#print(Xtrain_dict[:5])\n",
    "Xtest_dict = Xtest.to_dict('records')\n",
    "#print(Xtest_dict[:5])\n",
    "#Yrain_dict = Ytrain.to_dict('records')\n",
    "\n",
    "# make and apply a DictVectorizer to training data\n",
    "dv = DictVectorizer()\n",
    "Xtrain_encoded = dv.fit_transform(Xtrain_dict)\n",
    "#print(Xtrain_encoded)\n",
    "#print(type(Xtrain_encoded))\n",
    "\n",
    "# apply the same DictVectorizer to the test data\n",
    "Xtest_encoded = dv.fit_transform(Xtest_dict)\n",
    "#print(Xtrain_encoded)\n",
    "#print(type(Xtrain_encoded))"
   ]
  },
  {
   "cell_type": "code",
   "execution_count": 4,
   "metadata": {},
   "outputs": [],
   "source": [
    "Ytrain_dict = Xtrain.to_dict('records')\n",
    "Ytrain_encoded = dv.fit_transform(Ytrain_dict)"
   ]
  },
  {
   "cell_type": "markdown",
   "metadata": {},
   "source": [
    "### Step 3: Combining the steps "
   ]
  },
  {
   "cell_type": "code",
   "execution_count": 5,
   "metadata": {},
   "outputs": [],
   "source": [
    "# building a pipeline\n",
    "pipeline = make_pipeline(\n",
    "    DictVectorizer(),\n",
    "    DecisionTreeClassifier()\n",
    ")"
   ]
  },
  {
   "cell_type": "code",
   "execution_count": 6,
   "metadata": {},
   "outputs": [
    {
     "data": {
      "text/plain": [
       "Pipeline(memory=None,\n",
       "         steps=[('dictvectorizer',\n",
       "                 DictVectorizer(dtype=<class 'numpy.float64'>, separator='=',\n",
       "                                sort=True, sparse=True)),\n",
       "                ('decisiontreeclassifier',\n",
       "                 DecisionTreeClassifier(class_weight=None, criterion='gini',\n",
       "                                        max_depth=None, max_features=None,\n",
       "                                        max_leaf_nodes=None,\n",
       "                                        min_impurity_decrease=0.0,\n",
       "                                        min_impurity_split=None,\n",
       "                                        min_samples_leaf=1, min_samples_split=2,\n",
       "                                        min_weight_fraction_leaf=0.0,\n",
       "                                        presort=False, random_state=None,\n",
       "                                        splitter='best'))],\n",
       "         verbose=False)"
      ]
     },
     "execution_count": 6,
     "metadata": {},
     "output_type": "execute_result"
    }
   ],
   "source": [
    "# testing the pipeline\n",
    "\n",
    "#pipeline.score(Xtrain_dict, Ytrain)\n",
    "# it works but I have no idea what the score tells me\n",
    "\n",
    "pipeline.fit(Xtrain_dict, Ytrain)\n",
    "# no errors given, I assume that it works"
   ]
  },
  {
   "cell_type": "markdown",
   "metadata": {},
   "source": [
    "## Task 2: Decision trees and random forests"
   ]
  },
  {
   "cell_type": "markdown",
   "metadata": {},
   "source": [
    "### Underfitting and overfitting in decision tree classifiers"
   ]
  },
  {
   "cell_type": "code",
   "execution_count": 9,
   "metadata": {},
   "outputs": [
    {
     "name": "stdout",
     "output_type": "stream",
     "text": [
      "The cross-validation score on the test data is: 0.816651840903338\n"
     ]
    }
   ],
   "source": [
    "clf_tree = DecisionTreeClassifier()\n",
    "clf_tree.fit(Xtrain_encoded, Ytrain)\n",
    "cvs_tree = cross_val_score(clf_tree, Xtrain_encoded, Ytrain, cv=5, error_score='raise').mean()\n",
    "print(f'The cross-validation score on the test data is: {cvs_tree}')"
   ]
  },
  {
   "cell_type": "code",
   "execution_count": 10,
   "metadata": {},
   "outputs": [
    {
     "ename": "ValueError",
     "evalue": "Number of features of the model must match the input. Model n_features is 108 and input n_features is 107 ",
     "output_type": "error",
     "traceback": [
      "\u001b[1;31m---------------------------------------------------------------------------\u001b[0m",
      "\u001b[1;31mValueError\u001b[0m                                Traceback (most recent call last)",
      "\u001b[1;32m<ipython-input-10-f6d0386b18f6>\u001b[0m in \u001b[0;36m<module>\u001b[1;34m\u001b[0m\n\u001b[1;32m----> 1\u001b[1;33m \u001b[0mclf_tree\u001b[0m\u001b[1;33m.\u001b[0m\u001b[0mpredict\u001b[0m\u001b[1;33m(\u001b[0m\u001b[0mXtest_encoded\u001b[0m\u001b[1;33m)\u001b[0m\u001b[1;33m\u001b[0m\u001b[1;33m\u001b[0m\u001b[0m\n\u001b[0m",
      "\u001b[1;32m~\\Anaconda3\\lib\\site-packages\\sklearn\\tree\\tree.py\u001b[0m in \u001b[0;36mpredict\u001b[1;34m(self, X, check_input)\u001b[0m\n\u001b[0;32m    428\u001b[0m         \"\"\"\n\u001b[0;32m    429\u001b[0m         \u001b[0mcheck_is_fitted\u001b[0m\u001b[1;33m(\u001b[0m\u001b[0mself\u001b[0m\u001b[1;33m,\u001b[0m \u001b[1;34m'tree_'\u001b[0m\u001b[1;33m)\u001b[0m\u001b[1;33m\u001b[0m\u001b[1;33m\u001b[0m\u001b[0m\n\u001b[1;32m--> 430\u001b[1;33m         \u001b[0mX\u001b[0m \u001b[1;33m=\u001b[0m \u001b[0mself\u001b[0m\u001b[1;33m.\u001b[0m\u001b[0m_validate_X_predict\u001b[0m\u001b[1;33m(\u001b[0m\u001b[0mX\u001b[0m\u001b[1;33m,\u001b[0m \u001b[0mcheck_input\u001b[0m\u001b[1;33m)\u001b[0m\u001b[1;33m\u001b[0m\u001b[1;33m\u001b[0m\u001b[0m\n\u001b[0m\u001b[0;32m    431\u001b[0m         \u001b[0mproba\u001b[0m \u001b[1;33m=\u001b[0m \u001b[0mself\u001b[0m\u001b[1;33m.\u001b[0m\u001b[0mtree_\u001b[0m\u001b[1;33m.\u001b[0m\u001b[0mpredict\u001b[0m\u001b[1;33m(\u001b[0m\u001b[0mX\u001b[0m\u001b[1;33m)\u001b[0m\u001b[1;33m\u001b[0m\u001b[1;33m\u001b[0m\u001b[0m\n\u001b[0;32m    432\u001b[0m         \u001b[0mn_samples\u001b[0m \u001b[1;33m=\u001b[0m \u001b[0mX\u001b[0m\u001b[1;33m.\u001b[0m\u001b[0mshape\u001b[0m\u001b[1;33m[\u001b[0m\u001b[1;36m0\u001b[0m\u001b[1;33m]\u001b[0m\u001b[1;33m\u001b[0m\u001b[1;33m\u001b[0m\u001b[0m\n",
      "\u001b[1;32m~\\Anaconda3\\lib\\site-packages\\sklearn\\tree\\tree.py\u001b[0m in \u001b[0;36m_validate_X_predict\u001b[1;34m(self, X, check_input)\u001b[0m\n\u001b[0;32m    400\u001b[0m                              \u001b[1;34m\"match the input. Model n_features is %s and \"\u001b[0m\u001b[1;33m\u001b[0m\u001b[1;33m\u001b[0m\u001b[0m\n\u001b[0;32m    401\u001b[0m                              \u001b[1;34m\"input n_features is %s \"\u001b[0m\u001b[1;33m\u001b[0m\u001b[1;33m\u001b[0m\u001b[0m\n\u001b[1;32m--> 402\u001b[1;33m                              % (self.n_features_, n_features))\n\u001b[0m\u001b[0;32m    403\u001b[0m \u001b[1;33m\u001b[0m\u001b[0m\n\u001b[0;32m    404\u001b[0m         \u001b[1;32mreturn\u001b[0m \u001b[0mX\u001b[0m\u001b[1;33m\u001b[0m\u001b[1;33m\u001b[0m\u001b[0m\n",
      "\u001b[1;31mValueError\u001b[0m: Number of features of the model must match the input. Model n_features is 108 and input n_features is 107 "
     ]
    }
   ],
   "source": [
    "clf_tree.predict(Xtest_encoded)"
   ]
  },
  {
   "cell_type": "markdown",
   "metadata": {},
   "source": [
    "### Underfitting and overfitting in random forest classifiers"
   ]
  },
  {
   "cell_type": "code",
   "execution_count": 11,
   "metadata": {},
   "outputs": [
    {
     "name": "stdout",
     "output_type": "stream",
     "text": [
      "The cross-validation score on the test data is: 0.8562084487234187\n"
     ]
    }
   ],
   "source": [
    "clf_forest = RandomForestClassifier(n_estimators=100, n_jobs=-1)\n",
    "clf_forest.fit(Xtrain_encoded, Ytrain)\n",
    "cvs_forest = cross_val_score(clf_forest, Xtrain_encoded, Ytrain, cv=5, error_score='raise').mean()\n",
    "print(f'The cross-validation score on the test data is: {cvs_forest}')"
   ]
  },
  {
   "cell_type": "code",
   "execution_count": 12,
   "metadata": {},
   "outputs": [
    {
     "ename": "ValueError",
     "evalue": "Number of features of the model must match the input. Model n_features is 108 and input n_features is 107 ",
     "output_type": "error",
     "traceback": [
      "\u001b[1;31m---------------------------------------------------------------------------\u001b[0m",
      "\u001b[1;31mValueError\u001b[0m                                Traceback (most recent call last)",
      "\u001b[1;32m<ipython-input-12-8078151b5248>\u001b[0m in \u001b[0;36m<module>\u001b[1;34m\u001b[0m\n\u001b[1;32m----> 1\u001b[1;33m \u001b[0mclf_forest\u001b[0m\u001b[1;33m.\u001b[0m\u001b[0mpredict\u001b[0m\u001b[1;33m(\u001b[0m\u001b[0mXtest_encoded\u001b[0m\u001b[1;33m)\u001b[0m\u001b[1;33m\u001b[0m\u001b[1;33m\u001b[0m\u001b[0m\n\u001b[0m",
      "\u001b[1;32m~\\Anaconda3\\lib\\site-packages\\sklearn\\ensemble\\forest.py\u001b[0m in \u001b[0;36mpredict\u001b[1;34m(self, X)\u001b[0m\n\u001b[0;32m    543\u001b[0m             \u001b[0mThe\u001b[0m \u001b[0mpredicted\u001b[0m \u001b[0mclasses\u001b[0m\u001b[1;33m.\u001b[0m\u001b[1;33m\u001b[0m\u001b[1;33m\u001b[0m\u001b[0m\n\u001b[0;32m    544\u001b[0m         \"\"\"\n\u001b[1;32m--> 545\u001b[1;33m         \u001b[0mproba\u001b[0m \u001b[1;33m=\u001b[0m \u001b[0mself\u001b[0m\u001b[1;33m.\u001b[0m\u001b[0mpredict_proba\u001b[0m\u001b[1;33m(\u001b[0m\u001b[0mX\u001b[0m\u001b[1;33m)\u001b[0m\u001b[1;33m\u001b[0m\u001b[1;33m\u001b[0m\u001b[0m\n\u001b[0m\u001b[0;32m    546\u001b[0m \u001b[1;33m\u001b[0m\u001b[0m\n\u001b[0;32m    547\u001b[0m         \u001b[1;32mif\u001b[0m \u001b[0mself\u001b[0m\u001b[1;33m.\u001b[0m\u001b[0mn_outputs_\u001b[0m \u001b[1;33m==\u001b[0m \u001b[1;36m1\u001b[0m\u001b[1;33m:\u001b[0m\u001b[1;33m\u001b[0m\u001b[1;33m\u001b[0m\u001b[0m\n",
      "\u001b[1;32m~\\Anaconda3\\lib\\site-packages\\sklearn\\ensemble\\forest.py\u001b[0m in \u001b[0;36mpredict_proba\u001b[1;34m(self, X)\u001b[0m\n\u001b[0;32m    586\u001b[0m         \u001b[0mcheck_is_fitted\u001b[0m\u001b[1;33m(\u001b[0m\u001b[0mself\u001b[0m\u001b[1;33m,\u001b[0m \u001b[1;34m'estimators_'\u001b[0m\u001b[1;33m)\u001b[0m\u001b[1;33m\u001b[0m\u001b[1;33m\u001b[0m\u001b[0m\n\u001b[0;32m    587\u001b[0m         \u001b[1;31m# Check data\u001b[0m\u001b[1;33m\u001b[0m\u001b[1;33m\u001b[0m\u001b[1;33m\u001b[0m\u001b[0m\n\u001b[1;32m--> 588\u001b[1;33m         \u001b[0mX\u001b[0m \u001b[1;33m=\u001b[0m \u001b[0mself\u001b[0m\u001b[1;33m.\u001b[0m\u001b[0m_validate_X_predict\u001b[0m\u001b[1;33m(\u001b[0m\u001b[0mX\u001b[0m\u001b[1;33m)\u001b[0m\u001b[1;33m\u001b[0m\u001b[1;33m\u001b[0m\u001b[0m\n\u001b[0m\u001b[0;32m    589\u001b[0m \u001b[1;33m\u001b[0m\u001b[0m\n\u001b[0;32m    590\u001b[0m         \u001b[1;31m# Assign chunk of trees to jobs\u001b[0m\u001b[1;33m\u001b[0m\u001b[1;33m\u001b[0m\u001b[1;33m\u001b[0m\u001b[0m\n",
      "\u001b[1;32m~\\Anaconda3\\lib\\site-packages\\sklearn\\ensemble\\forest.py\u001b[0m in \u001b[0;36m_validate_X_predict\u001b[1;34m(self, X)\u001b[0m\n\u001b[0;32m    357\u001b[0m                                  \"call `fit` before exploiting the model.\")\n\u001b[0;32m    358\u001b[0m \u001b[1;33m\u001b[0m\u001b[0m\n\u001b[1;32m--> 359\u001b[1;33m         \u001b[1;32mreturn\u001b[0m \u001b[0mself\u001b[0m\u001b[1;33m.\u001b[0m\u001b[0mestimators_\u001b[0m\u001b[1;33m[\u001b[0m\u001b[1;36m0\u001b[0m\u001b[1;33m]\u001b[0m\u001b[1;33m.\u001b[0m\u001b[0m_validate_X_predict\u001b[0m\u001b[1;33m(\u001b[0m\u001b[0mX\u001b[0m\u001b[1;33m,\u001b[0m \u001b[0mcheck_input\u001b[0m\u001b[1;33m=\u001b[0m\u001b[1;32mTrue\u001b[0m\u001b[1;33m)\u001b[0m\u001b[1;33m\u001b[0m\u001b[1;33m\u001b[0m\u001b[0m\n\u001b[0m\u001b[0;32m    360\u001b[0m \u001b[1;33m\u001b[0m\u001b[0m\n\u001b[0;32m    361\u001b[0m     \u001b[1;33m@\u001b[0m\u001b[0mproperty\u001b[0m\u001b[1;33m\u001b[0m\u001b[1;33m\u001b[0m\u001b[0m\n",
      "\u001b[1;32m~\\Anaconda3\\lib\\site-packages\\sklearn\\tree\\tree.py\u001b[0m in \u001b[0;36m_validate_X_predict\u001b[1;34m(self, X, check_input)\u001b[0m\n\u001b[0;32m    400\u001b[0m                              \u001b[1;34m\"match the input. Model n_features is %s and \"\u001b[0m\u001b[1;33m\u001b[0m\u001b[1;33m\u001b[0m\u001b[0m\n\u001b[0;32m    401\u001b[0m                              \u001b[1;34m\"input n_features is %s \"\u001b[0m\u001b[1;33m\u001b[0m\u001b[1;33m\u001b[0m\u001b[0m\n\u001b[1;32m--> 402\u001b[1;33m                              % (self.n_features_, n_features))\n\u001b[0m\u001b[0;32m    403\u001b[0m \u001b[1;33m\u001b[0m\u001b[0m\n\u001b[0;32m    404\u001b[0m         \u001b[1;32mreturn\u001b[0m \u001b[0mX\u001b[0m\u001b[1;33m\u001b[0m\u001b[1;33m\u001b[0m\u001b[0m\n",
      "\u001b[1;31mValueError\u001b[0m: Number of features of the model must match the input. Model n_features is 108 and input n_features is 107 "
     ]
    }
   ],
   "source": [
    "clf_forest.predict(Xtest_encoded)"
   ]
  },
  {
   "cell_type": "markdown",
   "metadata": {},
   "source": [
    "## Task 3: Feature importance in random forest classifiers"
   ]
  },
  {
   "cell_type": "markdown",
   "metadata": {},
   "source": [
    "The code below prints a sorted list of the importance scores for all features starting with the most important one."
   ]
  },
  {
   "cell_type": "code",
   "execution_count": 28,
   "metadata": {},
   "outputs": [
    {
     "name": "stdout",
     "output_type": "stream",
     "text": [
      "[('fnlwgt', 0.16317149714170215),\n",
      " ('age', 0.15054726082921696),\n",
      " ('capital-gain', 0.09637212074042766),\n",
      " ('hours-per-week', 0.08091017186889544),\n",
      " ('marital-status=Married-civ-spouse', 0.06585321397601554),\n",
      " ('education-num', 0.06434497224560137),\n",
      " ('relationship=Husband', 0.036384604689572976),\n",
      " ('capital-loss', 0.029816983326129975),\n",
      " ('marital-status=Never-married', 0.02216510335421959),\n",
      " ('occupation=Exec-managerial', 0.018619016184303033),\n",
      " ('occupation=Prof-specialty', 0.014394471097159417),\n",
      " ('sex=Male', 0.013966717817257761),\n",
      " ('education=Bachelors', 0.012165048038995522),\n",
      " ('relationship=Own-child', 0.012091939035980034),\n",
      " ('relationship=Not-in-family', 0.010316620015908457),\n",
      " ('workclass=Private', 0.010261330515381093),\n",
      " ('relationship=Wife', 0.009552587483594747),\n",
      " ('education=Masters', 0.00921115957579494),\n",
      " ('education=HS-grad', 0.008083910824218154),\n",
      " ('workclass=Self-emp-not-inc', 0.007862014244281916),\n",
      " ('sex=Female', 0.007333877544942146),\n",
      " ('occupation=Sales', 0.00683249178616546),\n",
      " ('occupation=Other-service', 0.0065042801224201524),\n",
      " ('occupation=Craft-repair', 0.006346769278755736),\n",
      " ('race=White', 0.0063084402834832146),\n",
      " ('marital-status=Divorced', 0.0062066939401524196),\n",
      " ('native-country=United-States', 0.006141931340947148),\n",
      " ('workclass=Self-emp-inc', 0.006071784755233066),\n",
      " ('workclass=Local-gov', 0.0055845114128449435),\n",
      " ('occupation=Adm-clerical', 0.005401901091146947),\n",
      " ('education=Some-college', 0.005252440301984882),\n",
      " ('workclass=Federal-gov', 0.004914758877527425),\n",
      " ('relationship=Unmarried', 0.004740215868125897),\n",
      " ('occupation=Tech-support', 0.004719656388019312),\n",
      " ('race=Black', 0.004509292098391263),\n",
      " ('workclass=State-gov', 0.004406510606156962),\n",
      " ('occupation=Transport-moving', 0.004389918360304402),\n",
      " ('education=Prof-school', 0.004304520269620025),\n",
      " ('occupation=Farming-fishing', 0.004104125410777685),\n",
      " ('occupation=Machine-op-inspct', 0.0040887922025379594),\n",
      " ('education=Doctorate', 0.0033486063514049542),\n",
      " ('occupation=Handlers-cleaners', 0.0032154436034620903),\n",
      " ('education=Assoc-voc', 0.0029741430904298097),\n",
      " ('occupation=Protective-serv', 0.0029362163918537623),\n",
      " ('race=Asian-Pac-Islander', 0.002817281514388676),\n",
      " ('native-country=?', 0.002700565406868177),\n",
      " ('education=Assoc-acdm', 0.002450480017575053),\n",
      " ('education=7th-8th', 0.001905182619514123),\n",
      " ('workclass=?', 0.0018867210211429674),\n",
      " ('occupation=?', 0.001854474550802755),\n",
      " ('education=11th', 0.0018356063926927714),\n",
      " ('native-country=Mexico', 0.0017904604545331685),\n",
      " ('marital-status=Widowed', 0.0017045010363407377),\n",
      " ('relationship=Other-relative', 0.0015429732947355803),\n",
      " ('education=10th', 0.0014992501926998016),\n",
      " ('marital-status=Separated', 0.0014312633439249685),\n",
      " ('education=9th', 0.0012548381140790373),\n",
      " ('race=Amer-Indian-Eskimo', 0.0011964129053042224),\n",
      " ('native-country=Germany', 0.001119743291667846),\n",
      " ('native-country=Canada', 0.0010691430224768824),\n",
      " ('native-country=Philippines', 0.0009454057345511956),\n",
      " ('race=Other', 0.0008788855020258589),\n",
      " ('native-country=England', 0.0008617687246362787),\n",
      " ('marital-status=Married-spouse-absent', 0.0008076378266978704),\n",
      " ('education=12th', 0.000752681612322342),\n",
      " ('native-country=India', 0.0007181844943995788),\n",
      " ('native-country=Cuba', 0.0007103572886986376),\n",
      " ('native-country=Italy', 0.0006846138994341707),\n",
      " ('education=5th-6th', 0.0006613607397042806),\n",
      " ('native-country=South', 0.0005662305121615859),\n",
      " ('native-country=Japan', 0.0005440900925551513),\n",
      " ('native-country=Poland', 0.0005046510851470622),\n",
      " ('native-country=Puerto-Rico', 0.00044189889738805577),\n",
      " ('native-country=China', 0.00044086893146938786),\n",
      " ('native-country=Iran', 0.000421766444766087),\n",
      " ('native-country=Jamaica', 0.00040765753133954123),\n",
      " ('marital-status=Married-AF-spouse', 0.0003420687603512302),\n",
      " ('native-country=Vietnam', 0.00030659030612682656),\n",
      " ('native-country=France', 0.0003041491663256095),\n",
      " ('native-country=Greece', 0.00030035007786794615),\n",
      " ('native-country=Taiwan', 0.0002961561915610032),\n",
      " ('native-country=Cambodia', 0.0002703994302804647),\n",
      " ('native-country=Yugoslavia', 0.00025591962938347184),\n",
      " ('education=1st-4th', 0.000244344218591202),\n",
      " ('native-country=El-Salvador', 0.00021082073129383535),\n",
      " ('native-country=Ireland', 0.00020911091567316913),\n",
      " ('native-country=Portugal', 0.00020473428265080538),\n",
      " ('native-country=Columbia', 0.00019851279408045495),\n",
      " ('native-country=Haiti', 0.000187318127680098),\n",
      " ('native-country=Ecuador', 0.00016203419200744534),\n",
      " ('native-country=Hong', 0.00015718570426024429),\n",
      " ('native-country=Dominican-Republic', 0.00014485164286484007),\n",
      " ('native-country=Hungary', 0.00013474330852404916),\n",
      " ('native-country=Guatemala', 0.00012438113345169573),\n",
      " ('native-country=Nicaragua', 0.00012185378664362932),\n",
      " ('occupation=Priv-house-serv', 0.00010789186484305039),\n",
      " ('native-country=Trinadad&Tobago', 0.00010262871259986365),\n",
      " ('native-country=Laos', 9.961601706624542e-05),\n",
      " ('native-country=Scotland', 9.565503447234127e-05),\n",
      " ('native-country=Peru', 8.58202853745262e-05),\n",
      " ('native-country=Thailand', 6.521976753171081e-05),\n",
      " ('workclass=Without-pay', 5.469230351109855e-05),\n",
      " ('education=Preschool', 3.4259963467937395e-05),\n",
      " ('native-country=Outlying-US(Guam-USVI-etc)', 2.2958917840081966e-05),\n",
      " ('occupation=Armed-Forces', 1.0181466754352031e-05),\n",
      " ('native-country=Honduras', 7.854384047799308e-06),\n",
      " ('workclass=Never-worked', 2.5898333949420213e-06),\n",
      " ('native-country=Holand-Netherlands', 8.617208986234537e-08)]\n"
     ]
    }
   ],
   "source": [
    "# for the random forest classifier\n",
    "\n",
    "importances = clf_forest.feature_importances_\n",
    "names = dv.feature_names_\n",
    "output = list(zip(names, importances))\n",
    "#print(output)\n",
    "output_sorted = sorted(output, key=lambda tup: tup[1], reverse=True)\n",
    "pp = pprint.PrettyPrinter()\n",
    "pp.pprint(output_sorted)"
   ]
  },
  {
   "cell_type": "code",
   "execution_count": 32,
   "metadata": {},
   "outputs": [
    {
     "name": "stdout",
     "output_type": "stream",
     "text": [
      "[('marital-status=Married-civ-spouse', 0.19777128189698667),\n",
      " ('fnlwgt', 0.1859276956949833),\n",
      " ('education-num', 0.1154073860373249),\n",
      " ('age', 0.10884294239565086),\n",
      " ('capital-gain', 0.10542664735421763),\n",
      " ('hours-per-week', 0.06710770995490783),\n",
      " ('capital-loss', 0.03805798444297408),\n",
      " ('workclass=Private', 0.009601909781509264),\n",
      " ('occupation=Exec-managerial', 0.009564695509640155),\n",
      " ('occupation=Sales', 0.009537340293728267),\n",
      " ('workclass=Self-emp-not-inc', 0.009006343712499419),\n",
      " ('occupation=Prof-specialty', 0.007461160132492061),\n",
      " ('occupation=Craft-repair', 0.006966715115477867),\n",
      " ('occupation=Machine-op-inspct', 0.0057508687350900185),\n",
      " ('workclass=Local-gov', 0.005562530825141868),\n",
      " ('occupation=Transport-moving', 0.005306526229640213),\n",
      " ('occupation=Adm-clerical', 0.004885297665694993),\n",
      " ('workclass=Self-emp-inc', 0.004769948897851323),\n",
      " ('race=White', 0.004742232282809435),\n",
      " ('relationship=Wife', 0.004522885607051046),\n",
      " ('race=Black', 0.004473846575691656),\n",
      " ('workclass=State-gov', 0.004447811003410197),\n",
      " ('workclass=Federal-gov', 0.004378133697627109),\n",
      " ('native-country=United-States', 0.004315799692983297),\n",
      " ('occupation=Tech-support', 0.004236806789721262),\n",
      " ('sex=Male', 0.0040967902151046185),\n",
      " ('occupation=Protective-serv', 0.003925392710213701),\n",
      " ('occupation=Handlers-cleaners', 0.0034010466999636053),\n",
      " ('occupation=Other-service', 0.0029502886418642247),\n",
      " ('marital-status=Divorced', 0.002706959810683078),\n",
      " ('race=Asian-Pac-Islander', 0.002624191913516046),\n",
      " ('relationship=Not-in-family', 0.0026081100986345093),\n",
      " ('sex=Female', 0.002563354854715189),\n",
      " ('education=Assoc-voc', 0.0024982020052425353),\n",
      " ('education=Masters', 0.0024083703170647165),\n",
      " ('relationship=Husband', 0.002400316088118718),\n",
      " ('occupation=Farming-fishing', 0.0023789750262016326),\n",
      " ('education=Some-college', 0.0021052372325391267),\n",
      " ('workclass=?', 0.0017357108130054825),\n",
      " ('marital-status=Never-married', 0.0016907605260137932),\n",
      " ('native-country=?', 0.0016664210078276317),\n",
      " ('occupation=?', 0.0015697862865608455),\n",
      " ('education=Bachelors', 0.0015629830051437142),\n",
      " ('relationship=Own-child', 0.0015389481161220777),\n",
      " ('native-country=Germany', 0.0014523524349140757),\n",
      " ('race=Amer-Indian-Eskimo', 0.0013294638771058813),\n",
      " ('education=Assoc-acdm', 0.0012313121924423106),\n",
      " ('native-country=Canada', 0.0010624001619470751),\n",
      " ('native-country=Italy', 0.0009744105219704641),\n",
      " ('native-country=Philippines', 0.0009263070823700971),\n",
      " ('relationship=Unmarried', 0.0009262869222598501),\n",
      " ('marital-status=Separated', 0.0009065394419925911),\n",
      " ('relationship=Other-relative', 0.0008940587068004076),\n",
      " ('native-country=India', 0.0008516125474704635),\n",
      " ('native-country=Cuba', 0.0008468672637234158),\n",
      " ('native-country=Japan', 0.0008036138599600811),\n",
      " ('race=Other', 0.0007724543519017802),\n",
      " ('native-country=South', 0.0007583210651326452),\n",
      " ('marital-status=Widowed', 0.0007028167383298963),\n",
      " ('native-country=Mexico', 0.0006852002104608918),\n",
      " ('education=9th', 0.0006597636210567916),\n",
      " ('native-country=England', 0.0006412373466208276),\n",
      " ('education=Doctorate', 0.0006134112125002212),\n",
      " ('education=11th', 0.0005542036147636219),\n",
      " ('native-country=Yugoslavia', 0.0005263393534602771),\n",
      " ('education=12th', 0.0005195235231544901),\n",
      " ('marital-status=Married-spouse-absent', 0.0004507894749860153),\n",
      " ('education=10th', 0.00043292253264750805),\n",
      " ('education=HS-grad', 0.00037545018630779254),\n",
      " ('education=5th-6th', 0.00036969754666056956),\n",
      " ('native-country=France', 0.000331315571865191),\n",
      " ('native-country=Poland', 0.00032549104156487363),\n",
      " ('native-country=Jamaica', 0.0003247402986851284),\n",
      " ('marital-status=Married-AF-spouse', 0.00032208797756677014),\n",
      " ('native-country=Vietnam', 0.0003115277885417336),\n",
      " ('education=7th-8th', 0.0002744655771759731),\n",
      " ('native-country=Ireland', 0.00026920685095365045),\n",
      " ('native-country=Taiwan', 0.00026747446729338673),\n",
      " ('education=Preschool', 0.0002516392676312603),\n",
      " ('native-country=Cambodia', 0.0002505909987000558),\n",
      " ('education=Prof-school', 0.0002400027697061135),\n",
      " ('native-country=Haiti', 0.00020368248984502108),\n",
      " ('native-country=Columbia', 0.00018421787772120177),\n",
      " ('native-country=Trinadad&Tobago', 0.0001543072277426448),\n",
      " ('native-country=Guatemala', 0.0001539305554759358),\n",
      " ('native-country=Greece', 0.00014819836896618144),\n",
      " ('native-country=Ecuador', 0.0001344015510354235),\n",
      " ('native-country=Hong', 0.0001303091961160757),\n",
      " ('workclass=Without-pay', 0.00012600145409570956),\n",
      " ('native-country=Hungary', 0.00012389928479006072),\n",
      " ('occupation=Priv-house-serv', 0.00011200129252951961),\n",
      " ('native-country=Puerto-Rico', 0.00010687342049104413),\n",
      " ('native-country=Dominican-Republic', 0.00010241161425700193),\n",
      " ('native-country=China', 0.00010000115404421394),\n",
      " ('native-country=Portugal', 7.980485513317998e-05),\n",
      " ('native-country=Laos', 7.711414863435712e-05),\n",
      " ('native-country=Thailand', 7.500086553316045e-05),\n",
      " ('education=1st-4th', 4.76005493250458e-05),\n",
      " ('native-country=El-Salvador', 0.0),\n",
      " ('native-country=Holand-Netherlands', 0.0),\n",
      " ('native-country=Honduras', 0.0),\n",
      " ('native-country=Iran', 0.0),\n",
      " ('native-country=Nicaragua', 0.0),\n",
      " ('native-country=Outlying-US(Guam-USVI-etc)', 0.0),\n",
      " ('native-country=Peru', 0.0),\n",
      " ('native-country=Scotland', 0.0),\n",
      " ('occupation=Armed-Forces', 0.0),\n",
      " ('workclass=Never-worked', 0.0)]\n"
     ]
    }
   ],
   "source": [
    "# for the decision tree classifier\n",
    "\n",
    "importances = clf_tree.feature_importances_\n",
    "names = dv.feature_names_\n",
    "output = list(zip(names, importances))\n",
    "#print(output)\n",
    "output_sorted = sorted(output, key=lambda tup: tup[1], reverse=True)\n",
    "pp = pprint.PrettyPrinter()\n",
    "pp.pprint(output_sorted)"
   ]
  }
 ],
 "metadata": {
  "kernelspec": {
   "display_name": "Python 3",
   "language": "python",
   "name": "python3"
  },
  "language_info": {
   "codemirror_mode": {
    "name": "ipython",
    "version": 3
   },
   "file_extension": ".py",
   "mimetype": "text/x-python",
   "name": "python",
   "nbconvert_exporter": "python",
   "pygments_lexer": "ipython3",
   "version": "3.7.4"
  }
 },
 "nbformat": 4,
 "nbformat_minor": 2
}
